# 📦 1. Roboflow에서 CHV Dataset 다운로드
!pip install roboflow
from roboflow import Roboflow

# Roboflow API 연결 및 데이터셋 다운로드 (YOLOv12 포맷)
rf = Roboflow(api_key="gH4DnlLg4Gi5fnlGzCMa")
project = rf.workspace("ml-pzfty").project("chv-dataset")
version = project.version(1)
dataset = version.download("yolov12")

# 📦 2. Ultralytics YOLO 설치 및 학습 모델 로딩
!pip install ultralytics
from ultralytics import YOLO
import torch
import torch.nn as nn

# 사용자 정의 YAML 설정을 바탕으로 YOLO 모델 불러오기
model_yaml_path = "/content/drive/MyDrive/capstone/yolo.yaml"
model = YOLO(model_yaml_path)
model.info()  # 모델 구조 및 정보 출력

# 📌 3. YOLO 모델 학습
results = model.train(
    data="/content/chv-DATASET-1/data.yaml",  # 데이터셋 구성 파일 경로
    epochs=10000000,        # 최대 epoch (patience 조건 만족 시 조기 종료)
    imgsz=640,              # 입력 이미지 크기
    batch=50,               # 배치 사이즈
    patience=50,            # 성능 향상 없을 때 중단
    name='CHV-dataset',     # 결과 저장 디렉토리 이름
    save=True,              # 체크포인트 저장 여부
    save_period=-1          # 매 epoch 저장하지 않음
)

# 📦 4. 학습 결과 압축 및 다운로드
import shutil
from google.colab import files

# runs 디렉토리 압축
shutil.make_archive('test_results', 'zip', '/content/runs')
# Colab에서 다운로드
files.download('test_results.zip')

# 📌 5. Precision-Recall Curve 그리기 (IoU ≥ 0.5 기준)
# 필요한 라이브러리 설치 및 임포트
from ultralytics import YOLO
from pathlib import Path
import numpy as np
import cv2
import matplotlib.pyplot as plt
from sklearn.metrics import precision_recall_curve, average_precision_score
from collections import defaultdict

# 경로 설정
MODEL_PATH = "/content/runs/detect/CHV-dataset2/weights/best.pt"
IMG_DIR = Path("/content/chv-DATASET-1/test/images")
LABEL_DIR = Path("/content/chv-DATASET-1/test/labels")

# 클래스 ID → 이름 매핑 (CHV Dataset 기준)
class_names = {
    0: "Helmet",
    1: "Vest",
    2: "Person",
    3: "Mask",
    4: "Gloves",
    5: "Boots"
}

# 학습된 모델 로드
model = YOLO(MODEL_PATH)

# 클래스별 스코어와 라벨 저장용 변수 초기화
scores_by_class = defaultdict(list)
labels_by_class = defaultdict(list)

# 테스트 이미지에 대해 예측 및 GT 비교
for r in model.predict(source=str(IMG_DIR), stream=True, conf=0.001):
    img_path = Path(r.path)
    stem = img_path.stem
    gt_file = LABEL_DIR / f"{stem}.txt"

    # GT 로드
    gt_boxes, gt_classes = [], []
    if gt_file.exists():
        h_img, w_img = cv2.imread(str(img_path)).shape[:2]
        for line in gt_file.read_text().splitlines():
            cls, x, y, w, h = map(float, line.split())
            x1 = (x - w / 2) * w_img
            y1 = (y - h / 2) * h_img
            x2 = (x + w / 2) * w_img
            y2 = (y + h / 2) * h_img
            gt_boxes.append([x1, y1, x2, y2])
            gt_classes.append(int(cls))
    gt_boxes = np.array(gt_boxes)
    gt_classes = np.array(gt_classes)

    # 예측 결과
    preds = r.boxes.data.cpu().numpy()  # x1,y1,x2,y2,conf,cls
    if preds.size:
        pred_boxes = preds[:, :4]
        pred_scores = preds[:, 4]
        pred_classes = preds[:, 5].astype(int)
    else:
        pred_boxes = np.zeros((0, 4))
        pred_scores = np.array([])
        pred_classes = np.array([], dtype=int)

    # 클래스별 IoU 계산 → 0.5 이상이면 TP
    for score, pb, pc in zip(pred_scores, pred_boxes, pred_classes):
        mask = (gt_classes == pc)
        best_iou = 0.0
        for gb in gt_boxes[mask]:
            ix1, iy1 = max(pb[0], gb[0]), max(pb[1], gb[1])
            ix2, iy2 = min(pb[2], gb[2]), min(pb[3], gb[3])
            inter = max(0, ix2 - ix1) * max(0, iy2 - iy1)
            area_p = (pb[2] - pb[0]) * (pb[3] - pb[1])
            area_g = (gb[2] - gb[0]) * (gb[3] - gb[1])
            union = area_p + area_g - inter
            if union > 0:
                best_iou = max(best_iou, inter / union)
        labels_by_class[pc].append(1 if best_iou >= 0.5 else 0)
        scores_by_class[pc].append(score)

# PR 곡선 시각화
plt.figure(figsize=(8, 6))
for cls_id, name in class_names.items():
    y_true = np.array(labels_by_class[cls_id])
    y_scores = np.array(scores_by_class[cls_id])
    if y_true.size == 0 or y_true.sum() == 0:
        continue
    precision, recall, _ = precision_recall_curve(y_true, y_scores)
    ap = average_precision_score(y_true, y_scores)
    plt.plot(recall, precision, marker='.', label=f"{cls_id}:{name} (AP={ap:.2f})")

plt.xlabel("Recall")
plt.ylabel("Precision")
plt.title("Precision-Recall Curve by Class (IoU ≥ 0.5)")
plt.legend(loc="best")
plt.grid(True)
plt.tight_layout()
plt.show()

# 📌 6. 테스트 이미지 시각화 (YOLOv8 Detection 결과)
import cv2
import matplotlib.pyplot as plt
import numpy as np
from ultralytics import YOLO
from pathlib import Path

# 모델 로드
model = YOLO("/content/runs/detect/CHV-dataset2/weights/best.pt")

# 클래스 이름 매핑
class_names = {
    0: "Helmet",
    1: "Vest",
    2: "Person",
    3: "Mask",
    4: "Gloves",
    5: "Boots"
}

# 시각화할 테스트 이미지 경로
image_path = "/content/chv-DATASET-1/test/images/ppe_0001_jpg.rf.09de01d4574daed0b6b70431735c36fb.jpg"
img = cv2.imread(image_path)
img_rgb = cv2.cvtColor(img, cv2.COLOR_BGR2RGB)

# 추론 실행
results = model.predict(source=image_path, conf=0.5, verbose=False)
boxes = results[0].boxes

# 바운딩 박스 시각화
if boxes is not None and boxes.data.shape[0] > 0:
    for box in boxes:
        x1, y1, x2, y2 = map(int, box.xyxy[0].tolist())
        conf = float(box.conf[0])
        cls_id = int(box.cls[0])
        label = class_names.get(cls_id, f"class_{cls_id}")
        cv2.rectangle(img_rgb, (x1, y1), (x2, y2), (0, 255, 0), 2)
        cv2.putText(img_rgb, f'{label} {conf:.2f}', (x1, y1 - 10),
                    cv2.FONT_HERSHEY_SIMPLEX, 0.6, (0, 255, 0), 2)

# 이미지 출력
plt.figure(figsize=(10, 10))
plt.imshow(img_rgb)
plt.axis('off')
plt.title("YOLOv8 Detection - yolo12")
plt.show()
