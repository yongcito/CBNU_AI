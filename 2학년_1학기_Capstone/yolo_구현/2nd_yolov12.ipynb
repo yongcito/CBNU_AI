{
  "nbformat": 4,
  "nbformat_minor": 0,
  "metadata": {
    "colab": {
      "provenance": [],
      "gpuType": "T4"
    },
    "kernelspec": {
      "name": "python3",
      "display_name": "Python 3"
    },
    "language_info": {
      "name": "python"
    },
    "accelerator": "GPU"
  },
  "cells": [
    {
      "cell_type": "code",
      "execution_count": 1,
      "metadata": {
        "colab": {
          "base_uri": "https://localhost:8080/"
        },
        "id": "tlFL6VVh78LI",
        "outputId": "94655813-2ab1-4d2d-e7c5-72f71c82be4b"
      },
      "outputs": [
        {
          "output_type": "stream",
          "name": "stdout",
          "text": [
            "Collecting roboflow\n",
            "  Downloading roboflow-1.1.61-py3-none-any.whl.metadata (9.7 kB)\n",
            "Requirement already satisfied: certifi in /usr/local/lib/python3.11/dist-packages (from roboflow) (2025.1.31)\n",
            "Collecting idna==3.7 (from roboflow)\n",
            "  Downloading idna-3.7-py3-none-any.whl.metadata (9.9 kB)\n",
            "Requirement already satisfied: cycler in /usr/local/lib/python3.11/dist-packages (from roboflow) (0.12.1)\n",
            "Requirement already satisfied: kiwisolver>=1.3.1 in /usr/local/lib/python3.11/dist-packages (from roboflow) (1.4.8)\n",
            "Requirement already satisfied: matplotlib in /usr/local/lib/python3.11/dist-packages (from roboflow) (3.10.0)\n",
            "Requirement already satisfied: numpy>=1.18.5 in /usr/local/lib/python3.11/dist-packages (from roboflow) (2.0.2)\n",
            "Collecting opencv-python-headless==4.10.0.84 (from roboflow)\n",
            "  Downloading opencv_python_headless-4.10.0.84-cp37-abi3-manylinux_2_17_x86_64.manylinux2014_x86_64.whl.metadata (20 kB)\n",
            "Requirement already satisfied: Pillow>=7.1.2 in /usr/local/lib/python3.11/dist-packages (from roboflow) (11.1.0)\n",
            "Collecting pillow-heif>=0.18.0 (from roboflow)\n",
            "  Downloading pillow_heif-0.22.0-cp311-cp311-manylinux_2_17_x86_64.manylinux2014_x86_64.whl.metadata (9.6 kB)\n",
            "Requirement already satisfied: python-dateutil in /usr/local/lib/python3.11/dist-packages (from roboflow) (2.8.2)\n",
            "Collecting python-dotenv (from roboflow)\n",
            "  Downloading python_dotenv-1.1.0-py3-none-any.whl.metadata (24 kB)\n",
            "Requirement already satisfied: requests in /usr/local/lib/python3.11/dist-packages (from roboflow) (2.32.3)\n",
            "Requirement already satisfied: six in /usr/local/lib/python3.11/dist-packages (from roboflow) (1.17.0)\n",
            "Requirement already satisfied: urllib3>=1.26.6 in /usr/local/lib/python3.11/dist-packages (from roboflow) (2.3.0)\n",
            "Requirement already satisfied: tqdm>=4.41.0 in /usr/local/lib/python3.11/dist-packages (from roboflow) (4.67.1)\n",
            "Requirement already satisfied: PyYAML>=5.3.1 in /usr/local/lib/python3.11/dist-packages (from roboflow) (6.0.2)\n",
            "Requirement already satisfied: requests-toolbelt in /usr/local/lib/python3.11/dist-packages (from roboflow) (1.0.0)\n",
            "Collecting filetype (from roboflow)\n",
            "  Downloading filetype-1.2.0-py2.py3-none-any.whl.metadata (6.5 kB)\n",
            "Requirement already satisfied: contourpy>=1.0.1 in /usr/local/lib/python3.11/dist-packages (from matplotlib->roboflow) (1.3.2)\n",
            "Requirement already satisfied: fonttools>=4.22.0 in /usr/local/lib/python3.11/dist-packages (from matplotlib->roboflow) (4.57.0)\n",
            "Requirement already satisfied: packaging>=20.0 in /usr/local/lib/python3.11/dist-packages (from matplotlib->roboflow) (24.2)\n",
            "Requirement already satisfied: pyparsing>=2.3.1 in /usr/local/lib/python3.11/dist-packages (from matplotlib->roboflow) (3.2.3)\n",
            "Requirement already satisfied: charset-normalizer<4,>=2 in /usr/local/lib/python3.11/dist-packages (from requests->roboflow) (3.4.1)\n",
            "Downloading roboflow-1.1.61-py3-none-any.whl (85 kB)\n",
            "\u001b[2K   \u001b[90m━━━━━━━━━━━━━━━━━━━━━━━━━━━━━━━━━━━━━━━━\u001b[0m \u001b[32m85.2/85.2 kB\u001b[0m \u001b[31m4.6 MB/s\u001b[0m eta \u001b[36m0:00:00\u001b[0m\n",
            "\u001b[?25hDownloading idna-3.7-py3-none-any.whl (66 kB)\n",
            "\u001b[2K   \u001b[90m━━━━━━━━━━━━━━━━━━━━━━━━━━━━━━━━━━━━━━━━\u001b[0m \u001b[32m66.8/66.8 kB\u001b[0m \u001b[31m5.4 MB/s\u001b[0m eta \u001b[36m0:00:00\u001b[0m\n",
            "\u001b[?25hDownloading opencv_python_headless-4.10.0.84-cp37-abi3-manylinux_2_17_x86_64.manylinux2014_x86_64.whl (49.9 MB)\n",
            "\u001b[2K   \u001b[90m━━━━━━━━━━━━━━━━━━━━━━━━━━━━━━━━━━━━━━━━\u001b[0m \u001b[32m49.9/49.9 MB\u001b[0m \u001b[31m25.6 MB/s\u001b[0m eta \u001b[36m0:00:00\u001b[0m\n",
            "\u001b[?25hDownloading pillow_heif-0.22.0-cp311-cp311-manylinux_2_17_x86_64.manylinux2014_x86_64.whl (7.8 MB)\n",
            "\u001b[2K   \u001b[90m━━━━━━━━━━━━━━━━━━━━━━━━━━━━━━━━━━━━━━━━\u001b[0m \u001b[32m7.8/7.8 MB\u001b[0m \u001b[31m93.5 MB/s\u001b[0m eta \u001b[36m0:00:00\u001b[0m\n",
            "\u001b[?25hDownloading filetype-1.2.0-py2.py3-none-any.whl (19 kB)\n",
            "Downloading python_dotenv-1.1.0-py3-none-any.whl (20 kB)\n",
            "Installing collected packages: filetype, python-dotenv, pillow-heif, opencv-python-headless, idna, roboflow\n",
            "  Attempting uninstall: opencv-python-headless\n",
            "    Found existing installation: opencv-python-headless 4.11.0.86\n",
            "    Uninstalling opencv-python-headless-4.11.0.86:\n",
            "      Successfully uninstalled opencv-python-headless-4.11.0.86\n",
            "  Attempting uninstall: idna\n",
            "    Found existing installation: idna 3.10\n",
            "    Uninstalling idna-3.10:\n",
            "      Successfully uninstalled idna-3.10\n",
            "Successfully installed filetype-1.2.0 idna-3.7 opencv-python-headless-4.10.0.84 pillow-heif-0.22.0 python-dotenv-1.1.0 roboflow-1.1.61\n",
            "loading Roboflow workspace...\n",
            "loading Roboflow project...\n"
          ]
        },
        {
          "output_type": "stream",
          "name": "stderr",
          "text": [
            "Downloading Dataset Version Zip in chv-DATASET-1 to yolov12:: 100%|██████████| 446076/446076 [00:07<00:00, 58613.16it/s]"
          ]
        },
        {
          "output_type": "stream",
          "name": "stdout",
          "text": [
            "\n"
          ]
        },
        {
          "output_type": "stream",
          "name": "stderr",
          "text": [
            "\n",
            "Extracting Dataset Version Zip to chv-DATASET-1 in yolov12:: 100%|██████████| 6928/6928 [00:02<00:00, 3359.50it/s]\n"
          ]
        }
      ],
      "source": [
        "!pip install roboflow\n",
        "\n",
        "from roboflow import Roboflow\n",
        "rf = Roboflow(api_key=\"gH4DnlLg4Gi5fnlGzCMa\")\n",
        "project = rf.workspace(\"ml-pzfty\").project(\"chv-dataset\")\n",
        "version = project.version(1)\n",
        "dataset = version.download(\"yolov12\")"
      ]
    },
    {
      "cell_type": "code",
      "source": [
        "# Connect the Colab notebook to Google Drive\n",
        "from google.colab import drive\n",
        "drive.mount('/content/drive')\n"
      ],
      "metadata": {
        "colab": {
          "base_uri": "https://localhost:8080/"
        },
        "id": "aw07_8RJ-8wn",
        "outputId": "66feb7e8-f63b-4150-80ad-fc986a6141f7"
      },
      "execution_count": 4,
      "outputs": [
        {
          "output_type": "stream",
          "name": "stdout",
          "text": [
            "Mounted at /content/drive\n"
          ]
        }
      ]
    },
    {
      "cell_type": "code",
      "source": [
        "!pip install ultralytics\n",
        "\n",
        "from ultralytics import YOLO\n",
        "\n",
        "import torch\n",
        "import torch.nn as nn\n",
        "\n",
        "\n",
        "# 모델 YAML 파일 경로\n",
        "model_yaml_path = \"/content/drive/MyDrive/Capstone/yolo.yaml\"  # 사용자가 제공한 yaml 파일 경로\n",
        "\n",
        "# YAML 파일을 기반으로 YOLO 모델 불러오기\n",
        "model = YOLO(model_yaml_path)\n",
        "\n",
        "# 모델 정보 출력\n",
        "model.info()\n",
        "\n",
        "# YOLO 모델 학습\n",
        "results = model.train(\n",
        "    data=\"/content/chv-DATASET-1/data.yaml\",\n",
        "    epochs=10000000,\n",
        "    imgsz=640,\n",
        "    batch=50,\n",
        "    patience=50,\n",
        "    name='CHV-dataset',\n",
        "    save=True,\n",
        "    save_period=-1,            # ✅ 매 epoch 저장 X\n",
        ")"
      ],
      "metadata": {
        "colab": {
          "base_uri": "https://localhost:8080/"
        },
        "id": "ktqWGO978BXF",
        "outputId": "16363193-e652-4736-b04e-2090f47b48dc"
      },
      "execution_count": 7,
      "outputs": [
        {
          "output_type": "stream",
          "name": "stdout",
          "text": [
            "Requirement already satisfied: ultralytics in /usr/local/lib/python3.11/dist-packages (8.3.111)\n",
            "Requirement already satisfied: numpy<=2.1.1,>=1.23.0 in /usr/local/lib/python3.11/dist-packages (from ultralytics) (2.0.2)\n",
            "Requirement already satisfied: matplotlib>=3.3.0 in /usr/local/lib/python3.11/dist-packages (from ultralytics) (3.10.0)\n",
            "Requirement already satisfied: opencv-python>=4.6.0 in /usr/local/lib/python3.11/dist-packages (from ultralytics) (4.11.0.86)\n",
            "Requirement already satisfied: pillow>=7.1.2 in /usr/local/lib/python3.11/dist-packages (from ultralytics) (11.1.0)\n",
            "Requirement already satisfied: pyyaml>=5.3.1 in /usr/local/lib/python3.11/dist-packages (from ultralytics) (6.0.2)\n",
            "Requirement already satisfied: requests>=2.23.0 in /usr/local/lib/python3.11/dist-packages (from ultralytics) (2.32.3)\n",
            "Requirement already satisfied: scipy>=1.4.1 in /usr/local/lib/python3.11/dist-packages (from ultralytics) (1.14.1)\n",
            "Requirement already satisfied: torch>=1.8.0 in /usr/local/lib/python3.11/dist-packages (from ultralytics) (2.6.0+cu124)\n",
            "Requirement already satisfied: torchvision>=0.9.0 in /usr/local/lib/python3.11/dist-packages (from ultralytics) (0.21.0+cu124)\n",
            "Requirement already satisfied: tqdm>=4.64.0 in /usr/local/lib/python3.11/dist-packages (from ultralytics) (4.67.1)\n",
            "Requirement already satisfied: psutil in /usr/local/lib/python3.11/dist-packages (from ultralytics) (5.9.5)\n",
            "Requirement already satisfied: py-cpuinfo in /usr/local/lib/python3.11/dist-packages (from ultralytics) (9.0.0)\n",
            "Requirement already satisfied: pandas>=1.1.4 in /usr/local/lib/python3.11/dist-packages (from ultralytics) (2.2.2)\n",
            "Requirement already satisfied: seaborn>=0.11.0 in /usr/local/lib/python3.11/dist-packages (from ultralytics) (0.13.2)\n",
            "Requirement already satisfied: ultralytics-thop>=2.0.0 in /usr/local/lib/python3.11/dist-packages (from ultralytics) (2.0.14)\n",
            "Requirement already satisfied: contourpy>=1.0.1 in /usr/local/lib/python3.11/dist-packages (from matplotlib>=3.3.0->ultralytics) (1.3.2)\n",
            "Requirement already satisfied: cycler>=0.10 in /usr/local/lib/python3.11/dist-packages (from matplotlib>=3.3.0->ultralytics) (0.12.1)\n",
            "Requirement already satisfied: fonttools>=4.22.0 in /usr/local/lib/python3.11/dist-packages (from matplotlib>=3.3.0->ultralytics) (4.57.0)\n",
            "Requirement already satisfied: kiwisolver>=1.3.1 in /usr/local/lib/python3.11/dist-packages (from matplotlib>=3.3.0->ultralytics) (1.4.8)\n",
            "Requirement already satisfied: packaging>=20.0 in /usr/local/lib/python3.11/dist-packages (from matplotlib>=3.3.0->ultralytics) (24.2)\n",
            "Requirement already satisfied: pyparsing>=2.3.1 in /usr/local/lib/python3.11/dist-packages (from matplotlib>=3.3.0->ultralytics) (3.2.3)\n",
            "Requirement already satisfied: python-dateutil>=2.7 in /usr/local/lib/python3.11/dist-packages (from matplotlib>=3.3.0->ultralytics) (2.8.2)\n",
            "Requirement already satisfied: pytz>=2020.1 in /usr/local/lib/python3.11/dist-packages (from pandas>=1.1.4->ultralytics) (2025.2)\n",
            "Requirement already satisfied: tzdata>=2022.7 in /usr/local/lib/python3.11/dist-packages (from pandas>=1.1.4->ultralytics) (2025.2)\n",
            "Requirement already satisfied: charset-normalizer<4,>=2 in /usr/local/lib/python3.11/dist-packages (from requests>=2.23.0->ultralytics) (3.4.1)\n",
            "Requirement already satisfied: idna<4,>=2.5 in /usr/local/lib/python3.11/dist-packages (from requests>=2.23.0->ultralytics) (3.7)\n",
            "Requirement already satisfied: urllib3<3,>=1.21.1 in /usr/local/lib/python3.11/dist-packages (from requests>=2.23.0->ultralytics) (2.3.0)\n",
            "Requirement already satisfied: certifi>=2017.4.17 in /usr/local/lib/python3.11/dist-packages (from requests>=2.23.0->ultralytics) (2025.1.31)\n",
            "Requirement already satisfied: filelock in /usr/local/lib/python3.11/dist-packages (from torch>=1.8.0->ultralytics) (3.18.0)\n",
            "Requirement already satisfied: typing-extensions>=4.10.0 in /usr/local/lib/python3.11/dist-packages (from torch>=1.8.0->ultralytics) (4.13.2)\n",
            "Requirement already satisfied: networkx in /usr/local/lib/python3.11/dist-packages (from torch>=1.8.0->ultralytics) (3.4.2)\n",
            "Requirement already satisfied: jinja2 in /usr/local/lib/python3.11/dist-packages (from torch>=1.8.0->ultralytics) (3.1.6)\n",
            "Requirement already satisfied: fsspec in /usr/local/lib/python3.11/dist-packages (from torch>=1.8.0->ultralytics) (2025.3.2)\n",
            "Requirement already satisfied: nvidia-cuda-nvrtc-cu12==12.4.127 in /usr/local/lib/python3.11/dist-packages (from torch>=1.8.0->ultralytics) (12.4.127)\n",
            "Requirement already satisfied: nvidia-cuda-runtime-cu12==12.4.127 in /usr/local/lib/python3.11/dist-packages (from torch>=1.8.0->ultralytics) (12.4.127)\n",
            "Requirement already satisfied: nvidia-cuda-cupti-cu12==12.4.127 in /usr/local/lib/python3.11/dist-packages (from torch>=1.8.0->ultralytics) (12.4.127)\n",
            "Requirement already satisfied: nvidia-cudnn-cu12==9.1.0.70 in /usr/local/lib/python3.11/dist-packages (from torch>=1.8.0->ultralytics) (9.1.0.70)\n",
            "Requirement already satisfied: nvidia-cublas-cu12==12.4.5.8 in /usr/local/lib/python3.11/dist-packages (from torch>=1.8.0->ultralytics) (12.4.5.8)\n",
            "Requirement already satisfied: nvidia-cufft-cu12==11.2.1.3 in /usr/local/lib/python3.11/dist-packages (from torch>=1.8.0->ultralytics) (11.2.1.3)\n",
            "Requirement already satisfied: nvidia-curand-cu12==10.3.5.147 in /usr/local/lib/python3.11/dist-packages (from torch>=1.8.0->ultralytics) (10.3.5.147)\n",
            "Requirement already satisfied: nvidia-cusolver-cu12==11.6.1.9 in /usr/local/lib/python3.11/dist-packages (from torch>=1.8.0->ultralytics) (11.6.1.9)\n",
            "Requirement already satisfied: nvidia-cusparse-cu12==12.3.1.170 in /usr/local/lib/python3.11/dist-packages (from torch>=1.8.0->ultralytics) (12.3.1.170)\n",
            "Requirement already satisfied: nvidia-cusparselt-cu12==0.6.2 in /usr/local/lib/python3.11/dist-packages (from torch>=1.8.0->ultralytics) (0.6.2)\n",
            "Requirement already satisfied: nvidia-nccl-cu12==2.21.5 in /usr/local/lib/python3.11/dist-packages (from torch>=1.8.0->ultralytics) (2.21.5)\n",
            "Requirement already satisfied: nvidia-nvtx-cu12==12.4.127 in /usr/local/lib/python3.11/dist-packages (from torch>=1.8.0->ultralytics) (12.4.127)\n",
            "Requirement already satisfied: nvidia-nvjitlink-cu12==12.4.127 in /usr/local/lib/python3.11/dist-packages (from torch>=1.8.0->ultralytics) (12.4.127)\n",
            "Requirement already satisfied: triton==3.2.0 in /usr/local/lib/python3.11/dist-packages (from torch>=1.8.0->ultralytics) (3.2.0)\n",
            "Requirement already satisfied: sympy==1.13.1 in /usr/local/lib/python3.11/dist-packages (from torch>=1.8.0->ultralytics) (1.13.1)\n",
            "Requirement already satisfied: mpmath<1.4,>=1.1.0 in /usr/local/lib/python3.11/dist-packages (from sympy==1.13.1->torch>=1.8.0->ultralytics) (1.3.0)\n",
            "Requirement already satisfied: six>=1.5 in /usr/local/lib/python3.11/dist-packages (from python-dateutil>=2.7->matplotlib>=3.3.0->ultralytics) (1.17.0)\n",
            "Requirement already satisfied: MarkupSafe>=2.0 in /usr/local/lib/python3.11/dist-packages (from jinja2->torch>=1.8.0->ultralytics) (3.0.2)\n",
            "WARNING ⚠️ no model scale passed. Assuming scale='n'.\n",
            "YOLO summary: 181 layers, 2,590,035 parameters, 2,590,019 gradients, 6.4 GFLOPs\n",
            "Ultralytics 8.3.111 🚀 Python-3.11.12 torch-2.6.0+cu124 CUDA:0 (Tesla T4, 15095MiB)\n",
            "\u001b[34m\u001b[1mengine/trainer: \u001b[0mtask=detect, mode=train, model=/content/drive/MyDrive/Capstone/yolo.yaml, data=/content/chv-DATASET-1/data.yaml, epochs=10000000, time=None, patience=50, batch=50, imgsz=640, save=True, save_period=-1, cache=False, device=None, workers=8, project=None, name=CHV-dataset, exist_ok=False, pretrained=True, optimizer=auto, verbose=True, seed=0, deterministic=True, single_cls=False, rect=False, cos_lr=False, close_mosaic=10, resume=False, amp=True, fraction=1.0, profile=False, freeze=None, multi_scale=False, overlap_mask=True, mask_ratio=4, dropout=0.0, val=True, split=val, save_json=False, conf=None, iou=0.7, max_det=300, half=False, dnn=False, plots=True, source=None, vid_stride=1, stream_buffer=False, visualize=False, augment=False, agnostic_nms=False, classes=None, retina_masks=False, embed=None, show=False, save_frames=False, save_txt=False, save_conf=False, save_crop=False, show_labels=True, show_conf=True, show_boxes=True, line_width=None, format=torchscript, keras=False, optimize=False, int8=False, dynamic=False, simplify=True, opset=None, workspace=None, nms=False, lr0=0.01, lrf=0.01, momentum=0.937, weight_decay=0.0005, warmup_epochs=3.0, warmup_momentum=0.8, warmup_bias_lr=0.1, box=7.5, cls=0.5, dfl=1.5, pose=12.0, kobj=1.0, nbs=64, hsv_h=0.015, hsv_s=0.7, hsv_v=0.4, degrees=0.0, translate=0.1, scale=0.5, shear=0.0, perspective=0.0, flipud=0.0, fliplr=0.5, bgr=0.0, mosaic=1.0, mixup=0.0, copy_paste=0.0, copy_paste_mode=flip, auto_augment=randaugment, erasing=0.4, cfg=None, tracker=botsort.yaml, save_dir=runs/detect/CHV-dataset\n",
            "Downloading https://ultralytics.com/assets/Arial.ttf to '/root/.config/Ultralytics/Arial.ttf'...\n"
          ]
        },
        {
          "output_type": "stream",
          "name": "stderr",
          "text": [
            "100%|██████████| 755k/755k [00:00<00:00, 21.3MB/s]\n"
          ]
        },
        {
          "output_type": "stream",
          "name": "stdout",
          "text": [
            "Overriding model.yaml nc=1 with nc=3\n",
            "WARNING ⚠️ no model scale passed. Assuming scale='n'.\n",
            "\n",
            "                   from  n    params  module                                       arguments                     \n",
            "  0                  -1  1       464  ultralytics.nn.modules.conv.Conv             [3, 16, 3, 2]                 \n",
            "  1                  -1  1      4672  ultralytics.nn.modules.conv.Conv             [16, 32, 3, 2]                \n",
            "  2                  -1  1      6640  ultralytics.nn.modules.block.C3k2            [32, 64, 1, False, 0.25]      \n",
            "  3                  -1  1     36992  ultralytics.nn.modules.conv.Conv             [64, 64, 3, 2]                \n",
            "  4                  -1  1     26080  ultralytics.nn.modules.block.C3k2            [64, 128, 1, False, 0.25]     \n",
            "  5                  -1  1    147712  ultralytics.nn.modules.conv.Conv             [128, 128, 3, 2]              \n",
            "  6                  -1  1     87040  ultralytics.nn.modules.block.C3k2            [128, 128, 1, True]           \n",
            "  7                  -1  1    295424  ultralytics.nn.modules.conv.Conv             [128, 256, 3, 2]              \n",
            "  8                  -1  1    346112  ultralytics.nn.modules.block.C3k2            [256, 256, 1, True]           \n",
            "  9                  -1  1    164608  ultralytics.nn.modules.block.SPPF            [256, 256, 5]                 \n",
            " 10                  -1  1    249728  ultralytics.nn.modules.block.C2PSA           [256, 256, 1]                 \n",
            " 11                  -1  1         0  torch.nn.modules.upsampling.Upsample         [None, 2, 'nearest']          \n",
            " 12             [-1, 6]  1         0  ultralytics.nn.modules.conv.Concat           [1]                           \n",
            " 13                  -1  1    111296  ultralytics.nn.modules.block.C3k2            [384, 128, 1, False]          \n",
            " 14                  -1  1         0  torch.nn.modules.upsampling.Upsample         [None, 2, 'nearest']          \n",
            " 15             [-1, 4]  1         0  ultralytics.nn.modules.conv.Concat           [1]                           \n",
            " 16                  -1  1     32096  ultralytics.nn.modules.block.C3k2            [256, 64, 1, False]           \n",
            " 17                  -1  1     36992  ultralytics.nn.modules.conv.Conv             [64, 64, 3, 2]                \n",
            " 18            [-1, 13]  1         0  ultralytics.nn.modules.conv.Concat           [1]                           \n",
            " 19                  -1  1     86720  ultralytics.nn.modules.block.C3k2            [192, 128, 1, False]          \n",
            " 20                  -1  1    147712  ultralytics.nn.modules.conv.Conv             [128, 128, 3, 2]              \n",
            " 21            [-1, 10]  1         0  ultralytics.nn.modules.conv.Concat           [1]                           \n",
            " 22                  -1  1    378880  ultralytics.nn.modules.block.C3k2            [384, 256, 1, True]           \n",
            " 23        [16, 19, 22]  1    431257  ultralytics.nn.modules.head.Detect           [3, [64, 128, 256]]           \n",
            "YOLO summary: 181 layers, 2,590,425 parameters, 2,590,409 gradients, 6.4 GFLOPs\n",
            "\n",
            "Freezing layer 'model.23.dfl.conv.weight'\n",
            "\u001b[34m\u001b[1mAMP: \u001b[0mrunning Automatic Mixed Precision (AMP) checks...\n",
            "Downloading https://github.com/ultralytics/assets/releases/download/v8.3.0/yolo11n.pt to 'yolo11n.pt'...\n"
          ]
        },
        {
          "output_type": "stream",
          "name": "stderr",
          "text": [
            "100%|██████████| 5.35M/5.35M [00:00<00:00, 95.5MB/s]\n"
          ]
        },
        {
          "output_type": "stream",
          "name": "stdout",
          "text": [
            "\u001b[34m\u001b[1mAMP: \u001b[0mchecks passed ✅\n",
            "\u001b[34m\u001b[1mtrain: \u001b[0mFast image access ✅ (ping: 0.0±0.0 ms, read: 108.9±124.3 MB/s, size: 131.4 KB)\n"
          ]
        },
        {
          "output_type": "stream",
          "name": "stderr",
          "text": [
            "\u001b[34m\u001b[1mtrain: \u001b[0mScanning /content/chv-DATASET-1/train/labels... 3192 images, 0 backgrounds, 0 corrupt: 100%|██████████| 3192/3192 [00:06<00:00, 487.15it/s]"
          ]
        },
        {
          "output_type": "stream",
          "name": "stdout",
          "text": [
            "\u001b[34m\u001b[1mtrain: \u001b[0mNew cache created: /content/chv-DATASET-1/train/labels.cache\n"
          ]
        },
        {
          "output_type": "stream",
          "name": "stderr",
          "text": [
            "\n"
          ]
        },
        {
          "output_type": "stream",
          "name": "stdout",
          "text": [
            "\u001b[34m\u001b[1malbumentations: \u001b[0mBlur(p=0.01, blur_limit=(3, 7)), MedianBlur(p=0.01, blur_limit=(3, 7)), ToGray(p=0.01, num_output_channels=3, method='weighted_average'), CLAHE(p=0.01, clip_limit=(1.0, 4.0), tile_grid_size=(8, 8))\n",
            "\u001b[34m\u001b[1mval: \u001b[0mFast image access ✅ (ping: 0.0±0.0 ms, read: 18.6±13.8 MB/s, size: 51.3 KB)\n"
          ]
        },
        {
          "output_type": "stream",
          "name": "stderr",
          "text": [
            "\u001b[34m\u001b[1mval: \u001b[0mScanning /content/chv-DATASET-1/valid/labels... 133 images, 0 backgrounds, 0 corrupt: 100%|██████████| 133/133 [00:00<00:00, 382.60it/s]"
          ]
        },
        {
          "output_type": "stream",
          "name": "stdout",
          "text": [
            "\u001b[34m\u001b[1mval: \u001b[0mNew cache created: /content/chv-DATASET-1/valid/labels.cache\n"
          ]
        },
        {
          "output_type": "stream",
          "name": "stderr",
          "text": [
            "\n"
          ]
        },
        {
          "output_type": "stream",
          "name": "stdout",
          "text": [
            "Plotting labels to runs/detect/CHV-dataset/labels.jpg... \n",
            "\u001b[34m\u001b[1moptimizer:\u001b[0m 'optimizer=auto' found, ignoring 'lr0=0.01' and 'momentum=0.937' and determining best 'optimizer', 'lr0' and 'momentum' automatically... \n",
            "\u001b[34m\u001b[1moptimizer:\u001b[0m SGD(lr=0.01, momentum=0.9) with parameter groups 81 weight(decay=0.0), 88 weight(decay=0.000390625), 87 bias(decay=0.0)\n",
            "Image sizes 640 train, 640 val\n",
            "Using 2 dataloader workers\n",
            "Logging results to \u001b[1mruns/detect/CHV-dataset\u001b[0m\n",
            "Starting training for 10000000 epochs...\n",
            "\n",
            "      Epoch    GPU_mem   box_loss   cls_loss   dfl_loss  Instances       Size\n"
          ]
        },
        {
          "output_type": "stream",
          "name": "stderr",
          "text": [
            " 1/10000000      8.95G       3.96      4.119      4.242        396        640: 100%|██████████| 64/64 [01:00<00:00,  1.06it/s]\n",
            "                 Class     Images  Instances      Box(P          R      mAP50  mAP50-95): 100%|██████████| 2/2 [00:04<00:00,  2.19s/it]"
          ]
        },
        {
          "output_type": "stream",
          "name": "stdout",
          "text": [
            "                   all        133        894     0.0021      0.118    0.00198   0.000511\n"
          ]
        },
        {
          "output_type": "stream",
          "name": "stderr",
          "text": [
            "\n"
          ]
        },
        {
          "output_type": "stream",
          "name": "stdout",
          "text": [
            "\n",
            "      Epoch    GPU_mem   box_loss   cls_loss   dfl_loss  Instances       Size\n"
          ]
        },
        {
          "output_type": "stream",
          "name": "stderr",
          "text": [
            " 2/10000000      8.51G      3.638      3.791      3.988        455        640: 100%|██████████| 64/64 [00:55<00:00,  1.15it/s]\n",
            "                 Class     Images  Instances      Box(P          R      mAP50  mAP50-95): 100%|██████████| 2/2 [00:02<00:00,  1.48s/it]"
          ]
        },
        {
          "output_type": "stream",
          "name": "stdout",
          "text": [
            "                   all        133        894     0.0254      0.321     0.0222    0.00496\n"
          ]
        },
        {
          "output_type": "stream",
          "name": "stderr",
          "text": [
            "\n"
          ]
        },
        {
          "output_type": "stream",
          "name": "stdout",
          "text": [
            "\n",
            "      Epoch    GPU_mem   box_loss   cls_loss   dfl_loss  Instances       Size\n"
          ]
        },
        {
          "output_type": "stream",
          "name": "stderr",
          "text": [
            " 3/10000000      8.96G      2.925      3.248      3.267        462        640: 100%|██████████| 64/64 [00:56<00:00,  1.13it/s]\n",
            "                 Class     Images  Instances      Box(P          R      mAP50  mAP50-95): 100%|██████████| 2/2 [00:02<00:00,  1.26s/it]"
          ]
        },
        {
          "output_type": "stream",
          "name": "stdout",
          "text": [
            "                   all        133        894      0.119       0.11     0.0515     0.0172\n"
          ]
        },
        {
          "output_type": "stream",
          "name": "stderr",
          "text": [
            "\n"
          ]
        },
        {
          "output_type": "stream",
          "name": "stdout",
          "text": [
            "\n",
            "      Epoch    GPU_mem   box_loss   cls_loss   dfl_loss  Instances       Size\n"
          ]
        },
        {
          "output_type": "stream",
          "name": "stderr",
          "text": [
            " 4/10000000        10G       2.52      2.773      2.751        454        640: 100%|██████████| 64/64 [00:56<00:00,  1.13it/s]\n",
            "                 Class     Images  Instances      Box(P          R      mAP50  mAP50-95): 100%|██████████| 2/2 [00:02<00:00,  1.28s/it]"
          ]
        },
        {
          "output_type": "stream",
          "name": "stdout",
          "text": [
            "                   all        133        894       0.24      0.195      0.156     0.0543\n"
          ]
        },
        {
          "output_type": "stream",
          "name": "stderr",
          "text": [
            "\n"
          ]
        },
        {
          "output_type": "stream",
          "name": "stdout",
          "text": [
            "\n",
            "      Epoch    GPU_mem   box_loss   cls_loss   dfl_loss  Instances       Size\n"
          ]
        },
        {
          "output_type": "stream",
          "name": "stderr",
          "text": [
            " 5/10000000      7.96G      2.213      2.324      2.416        550        640: 100%|██████████| 64/64 [00:56<00:00,  1.13it/s]\n",
            "                 Class     Images  Instances      Box(P          R      mAP50  mAP50-95): 100%|██████████| 2/2 [00:02<00:00,  1.13s/it]"
          ]
        },
        {
          "output_type": "stream",
          "name": "stdout",
          "text": [
            "                   all        133        894      0.379      0.352      0.308      0.125\n"
          ]
        },
        {
          "output_type": "stream",
          "name": "stderr",
          "text": [
            "\n"
          ]
        },
        {
          "output_type": "stream",
          "name": "stdout",
          "text": [
            "\n",
            "      Epoch    GPU_mem   box_loss   cls_loss   dfl_loss  Instances       Size\n"
          ]
        },
        {
          "output_type": "stream",
          "name": "stderr",
          "text": [
            " 6/10000000      8.37G      2.019      2.034      2.212        442        640: 100%|██████████| 64/64 [00:56<00:00,  1.14it/s]\n",
            "                 Class     Images  Instances      Box(P          R      mAP50  mAP50-95): 100%|██████████| 2/2 [00:02<00:00,  1.31s/it]"
          ]
        },
        {
          "output_type": "stream",
          "name": "stdout",
          "text": [
            "                   all        133        894      0.568      0.489      0.492       0.21\n"
          ]
        },
        {
          "output_type": "stream",
          "name": "stderr",
          "text": [
            "\n"
          ]
        },
        {
          "output_type": "stream",
          "name": "stdout",
          "text": [
            "\n",
            "      Epoch    GPU_mem   box_loss   cls_loss   dfl_loss  Instances       Size\n"
          ]
        },
        {
          "output_type": "stream",
          "name": "stderr",
          "text": [
            " 7/10000000      7.25G      1.899      1.866      2.092        455        640: 100%|██████████| 64/64 [00:57<00:00,  1.12it/s]\n",
            "                 Class     Images  Instances      Box(P          R      mAP50  mAP50-95): 100%|██████████| 2/2 [00:02<00:00,  1.08s/it]"
          ]
        },
        {
          "output_type": "stream",
          "name": "stdout",
          "text": [
            "                   all        133        894      0.702      0.532      0.623      0.281\n"
          ]
        },
        {
          "output_type": "stream",
          "name": "stderr",
          "text": [
            "\n"
          ]
        },
        {
          "output_type": "stream",
          "name": "stdout",
          "text": [
            "\n",
            "      Epoch    GPU_mem   box_loss   cls_loss   dfl_loss  Instances       Size\n"
          ]
        },
        {
          "output_type": "stream",
          "name": "stderr",
          "text": [
            " 8/10000000      8.38G       1.84      1.742      2.009        480        640: 100%|██████████| 64/64 [00:57<00:00,  1.11it/s]\n",
            "                 Class     Images  Instances      Box(P          R      mAP50  mAP50-95): 100%|██████████| 2/2 [00:01<00:00,  1.00it/s]"
          ]
        },
        {
          "output_type": "stream",
          "name": "stdout",
          "text": [
            "                   all        133        894      0.792      0.606      0.694      0.324\n"
          ]
        },
        {
          "output_type": "stream",
          "name": "stderr",
          "text": [
            "\n"
          ]
        },
        {
          "output_type": "stream",
          "name": "stdout",
          "text": [
            "\n",
            "      Epoch    GPU_mem   box_loss   cls_loss   dfl_loss  Instances       Size\n"
          ]
        },
        {
          "output_type": "stream",
          "name": "stderr",
          "text": [
            " 9/10000000       8.7G        1.8      1.656      1.949        489        640: 100%|██████████| 64/64 [00:57<00:00,  1.11it/s]\n",
            "                 Class     Images  Instances      Box(P          R      mAP50  mAP50-95): 100%|██████████| 2/2 [00:01<00:00,  1.09it/s]"
          ]
        },
        {
          "output_type": "stream",
          "name": "stdout",
          "text": [
            "                   all        133        894      0.665      0.652      0.666      0.316\n"
          ]
        },
        {
          "output_type": "stream",
          "name": "stderr",
          "text": [
            "\n"
          ]
        },
        {
          "output_type": "stream",
          "name": "stdout",
          "text": [
            "\n",
            "      Epoch    GPU_mem   box_loss   cls_loss   dfl_loss  Instances       Size\n"
          ]
        },
        {
          "output_type": "stream",
          "name": "stderr",
          "text": [
            "10/10000000      8.07G      1.762       1.58        1.9        488        640: 100%|██████████| 64/64 [00:57<00:00,  1.11it/s]\n",
            "                 Class     Images  Instances      Box(P          R      mAP50  mAP50-95): 100%|██████████| 2/2 [00:01<00:00,  1.08it/s]"
          ]
        },
        {
          "output_type": "stream",
          "name": "stdout",
          "text": [
            "                   all        133        894      0.768      0.629      0.725       0.36\n"
          ]
        },
        {
          "output_type": "stream",
          "name": "stderr",
          "text": [
            "\n"
          ]
        },
        {
          "output_type": "stream",
          "name": "stdout",
          "text": [
            "\n",
            "      Epoch    GPU_mem   box_loss   cls_loss   dfl_loss  Instances       Size\n"
          ]
        },
        {
          "output_type": "stream",
          "name": "stderr",
          "text": [
            "11/10000000      8.18G       1.73      1.536      1.873        476        640: 100%|██████████| 64/64 [00:56<00:00,  1.13it/s]\n",
            "                 Class     Images  Instances      Box(P          R      mAP50  mAP50-95): 100%|██████████| 2/2 [00:02<00:00,  1.42s/it]"
          ]
        },
        {
          "output_type": "stream",
          "name": "stdout",
          "text": [
            "                   all        133        894      0.783      0.695      0.753      0.356\n"
          ]
        },
        {
          "output_type": "stream",
          "name": "stderr",
          "text": [
            "\n"
          ]
        },
        {
          "output_type": "stream",
          "name": "stdout",
          "text": [
            "\n",
            "      Epoch    GPU_mem   box_loss   cls_loss   dfl_loss  Instances       Size\n"
          ]
        },
        {
          "output_type": "stream",
          "name": "stderr",
          "text": [
            "12/10000000      7.43G      1.708      1.486      1.835        513        640: 100%|██████████| 64/64 [00:56<00:00,  1.13it/s]\n",
            "                 Class     Images  Instances      Box(P          R      mAP50  mAP50-95): 100%|██████████| 2/2 [00:01<00:00,  1.03it/s]"
          ]
        },
        {
          "output_type": "stream",
          "name": "stdout",
          "text": [
            "                   all        133        894      0.794      0.674      0.757       0.38\n"
          ]
        },
        {
          "output_type": "stream",
          "name": "stderr",
          "text": [
            "\n"
          ]
        },
        {
          "output_type": "stream",
          "name": "stdout",
          "text": [
            "\n",
            "      Epoch    GPU_mem   box_loss   cls_loss   dfl_loss  Instances       Size\n"
          ]
        },
        {
          "output_type": "stream",
          "name": "stderr",
          "text": [
            "13/10000000      8.38G      1.692      1.448      1.815        392        640: 100%|██████████| 64/64 [00:56<00:00,  1.13it/s]\n",
            "                 Class     Images  Instances      Box(P          R      mAP50  mAP50-95): 100%|██████████| 2/2 [00:02<00:00,  1.00s/it]"
          ]
        },
        {
          "output_type": "stream",
          "name": "stdout",
          "text": [
            "                   all        133        894      0.808       0.67      0.772      0.394\n"
          ]
        },
        {
          "output_type": "stream",
          "name": "stderr",
          "text": [
            "\n"
          ]
        },
        {
          "output_type": "stream",
          "name": "stdout",
          "text": [
            "\n",
            "      Epoch    GPU_mem   box_loss   cls_loss   dfl_loss  Instances       Size\n"
          ]
        },
        {
          "output_type": "stream",
          "name": "stderr",
          "text": [
            "14/10000000      8.55G       1.66      1.407      1.801        379        640: 100%|██████████| 64/64 [00:56<00:00,  1.12it/s]\n",
            "                 Class     Images  Instances      Box(P          R      mAP50  mAP50-95): 100%|██████████| 2/2 [00:02<00:00,  1.07s/it]"
          ]
        },
        {
          "output_type": "stream",
          "name": "stdout",
          "text": [
            "                   all        133        894      0.776      0.689      0.758      0.381\n"
          ]
        },
        {
          "output_type": "stream",
          "name": "stderr",
          "text": [
            "\n"
          ]
        },
        {
          "output_type": "stream",
          "name": "stdout",
          "text": [
            "\n",
            "      Epoch    GPU_mem   box_loss   cls_loss   dfl_loss  Instances       Size\n"
          ]
        },
        {
          "output_type": "stream",
          "name": "stderr",
          "text": [
            "15/10000000      7.83G      1.641      1.371      1.786        575        640: 100%|██████████| 64/64 [00:57<00:00,  1.12it/s]\n",
            "                 Class     Images  Instances      Box(P          R      mAP50  mAP50-95): 100%|██████████| 2/2 [00:03<00:00,  1.51s/it]"
          ]
        },
        {
          "output_type": "stream",
          "name": "stdout",
          "text": [
            "                   all        133        894      0.829      0.691      0.789      0.394\n"
          ]
        },
        {
          "output_type": "stream",
          "name": "stderr",
          "text": [
            "\n"
          ]
        },
        {
          "output_type": "stream",
          "name": "stdout",
          "text": [
            "\n",
            "      Epoch    GPU_mem   box_loss   cls_loss   dfl_loss  Instances       Size\n"
          ]
        },
        {
          "output_type": "stream",
          "name": "stderr",
          "text": [
            "16/10000000       8.1G      1.621      1.337      1.762        600        640: 100%|██████████| 64/64 [00:57<00:00,  1.12it/s]\n",
            "                 Class     Images  Instances      Box(P          R      mAP50  mAP50-95): 100%|██████████| 2/2 [00:02<00:00,  1.01s/it]"
          ]
        },
        {
          "output_type": "stream",
          "name": "stdout",
          "text": [
            "                   all        133        894      0.805      0.729      0.802      0.404\n"
          ]
        },
        {
          "output_type": "stream",
          "name": "stderr",
          "text": [
            "\n"
          ]
        },
        {
          "output_type": "stream",
          "name": "stdout",
          "text": [
            "\n",
            "      Epoch    GPU_mem   box_loss   cls_loss   dfl_loss  Instances       Size\n"
          ]
        },
        {
          "output_type": "stream",
          "name": "stderr",
          "text": [
            "17/10000000      8.16G      1.618       1.32      1.735        470        640: 100%|██████████| 64/64 [00:57<00:00,  1.11it/s]\n",
            "                 Class     Images  Instances      Box(P          R      mAP50  mAP50-95): 100%|██████████| 2/2 [00:01<00:00,  1.10it/s]"
          ]
        },
        {
          "output_type": "stream",
          "name": "stdout",
          "text": [
            "                   all        133        894       0.82      0.714      0.803      0.413\n"
          ]
        },
        {
          "output_type": "stream",
          "name": "stderr",
          "text": [
            "\n"
          ]
        },
        {
          "output_type": "stream",
          "name": "stdout",
          "text": [
            "\n",
            "      Epoch    GPU_mem   box_loss   cls_loss   dfl_loss  Instances       Size\n"
          ]
        },
        {
          "output_type": "stream",
          "name": "stderr",
          "text": [
            "18/10000000      7.59G      1.605      1.302      1.733        526        640: 100%|██████████| 64/64 [00:56<00:00,  1.14it/s]\n",
            "                 Class     Images  Instances      Box(P          R      mAP50  mAP50-95): 100%|██████████| 2/2 [00:02<00:00,  1.02s/it]"
          ]
        },
        {
          "output_type": "stream",
          "name": "stdout",
          "text": [
            "                   all        133        894       0.86      0.711      0.816       0.42\n"
          ]
        },
        {
          "output_type": "stream",
          "name": "stderr",
          "text": [
            "\n"
          ]
        },
        {
          "output_type": "stream",
          "name": "stdout",
          "text": [
            "\n",
            "      Epoch    GPU_mem   box_loss   cls_loss   dfl_loss  Instances       Size\n"
          ]
        },
        {
          "output_type": "stream",
          "name": "stderr",
          "text": [
            "19/10000000       8.1G      1.588      1.278      1.711        428        640: 100%|██████████| 64/64 [00:56<00:00,  1.13it/s]\n",
            "                 Class     Images  Instances      Box(P          R      mAP50  mAP50-95): 100%|██████████| 2/2 [00:02<00:00,  1.04s/it]"
          ]
        },
        {
          "output_type": "stream",
          "name": "stdout",
          "text": [
            "                   all        133        894      0.835      0.739      0.829       0.44\n"
          ]
        },
        {
          "output_type": "stream",
          "name": "stderr",
          "text": [
            "\n"
          ]
        },
        {
          "output_type": "stream",
          "name": "stdout",
          "text": [
            "\n",
            "      Epoch    GPU_mem   box_loss   cls_loss   dfl_loss  Instances       Size\n"
          ]
        },
        {
          "output_type": "stream",
          "name": "stderr",
          "text": [
            "20/10000000      8.91G      1.574      1.252      1.695        480        640: 100%|██████████| 64/64 [00:57<00:00,  1.12it/s]\n",
            "                 Class     Images  Instances      Box(P          R      mAP50  mAP50-95): 100%|██████████| 2/2 [00:02<00:00,  1.11s/it]"
          ]
        },
        {
          "output_type": "stream",
          "name": "stdout",
          "text": [
            "                   all        133        894      0.826      0.726      0.809      0.426\n"
          ]
        },
        {
          "output_type": "stream",
          "name": "stderr",
          "text": [
            "\n"
          ]
        },
        {
          "output_type": "stream",
          "name": "stdout",
          "text": [
            "\n",
            "      Epoch    GPU_mem   box_loss   cls_loss   dfl_loss  Instances       Size\n"
          ]
        },
        {
          "output_type": "stream",
          "name": "stderr",
          "text": [
            "21/10000000      7.62G      1.569      1.249      1.694        457        640: 100%|██████████| 64/64 [00:56<00:00,  1.13it/s]\n",
            "                 Class     Images  Instances      Box(P          R      mAP50  mAP50-95): 100%|██████████| 2/2 [00:01<00:00,  1.11it/s]"
          ]
        },
        {
          "output_type": "stream",
          "name": "stdout",
          "text": [
            "                   all        133        894      0.826      0.741      0.831      0.438\n"
          ]
        },
        {
          "output_type": "stream",
          "name": "stderr",
          "text": [
            "\n"
          ]
        },
        {
          "output_type": "stream",
          "name": "stdout",
          "text": [
            "\n",
            "      Epoch    GPU_mem   box_loss   cls_loss   dfl_loss  Instances       Size\n"
          ]
        },
        {
          "output_type": "stream",
          "name": "stderr",
          "text": [
            "22/10000000      8.09G      1.551       1.21      1.678        423        640: 100%|██████████| 64/64 [00:55<00:00,  1.15it/s]\n",
            "                 Class     Images  Instances      Box(P          R      mAP50  mAP50-95): 100%|██████████| 2/2 [00:01<00:00,  1.07it/s]"
          ]
        },
        {
          "output_type": "stream",
          "name": "stdout",
          "text": [
            "                   all        133        894      0.825      0.707      0.801      0.426\n"
          ]
        },
        {
          "output_type": "stream",
          "name": "stderr",
          "text": [
            "\n"
          ]
        },
        {
          "output_type": "stream",
          "name": "stdout",
          "text": [
            "\n",
            "      Epoch    GPU_mem   box_loss   cls_loss   dfl_loss  Instances       Size\n"
          ]
        },
        {
          "output_type": "stream",
          "name": "stderr",
          "text": [
            "23/10000000      8.12G      1.547      1.196      1.663        515        640: 100%|██████████| 64/64 [00:55<00:00,  1.15it/s]\n",
            "                 Class     Images  Instances      Box(P          R      mAP50  mAP50-95): 100%|██████████| 2/2 [00:02<00:00,  1.11s/it]"
          ]
        },
        {
          "output_type": "stream",
          "name": "stdout",
          "text": [
            "                   all        133        894      0.845      0.753      0.833      0.437\n"
          ]
        },
        {
          "output_type": "stream",
          "name": "stderr",
          "text": [
            "\n"
          ]
        },
        {
          "output_type": "stream",
          "name": "stdout",
          "text": [
            "\n",
            "      Epoch    GPU_mem   box_loss   cls_loss   dfl_loss  Instances       Size\n"
          ]
        },
        {
          "output_type": "stream",
          "name": "stderr",
          "text": [
            "24/10000000      7.54G      1.541      1.196      1.663        408        640: 100%|██████████| 64/64 [00:56<00:00,  1.14it/s]\n",
            "                 Class     Images  Instances      Box(P          R      mAP50  mAP50-95): 100%|██████████| 2/2 [00:02<00:00,  1.27s/it]"
          ]
        },
        {
          "output_type": "stream",
          "name": "stdout",
          "text": [
            "                   all        133        894      0.858      0.752      0.826      0.445\n"
          ]
        },
        {
          "output_type": "stream",
          "name": "stderr",
          "text": [
            "\n"
          ]
        },
        {
          "output_type": "stream",
          "name": "stdout",
          "text": [
            "\n",
            "      Epoch    GPU_mem   box_loss   cls_loss   dfl_loss  Instances       Size\n"
          ]
        },
        {
          "output_type": "stream",
          "name": "stderr",
          "text": [
            "25/10000000      7.83G      1.524      1.172      1.644        553        640: 100%|██████████| 64/64 [00:54<00:00,  1.17it/s]\n",
            "                 Class     Images  Instances      Box(P          R      mAP50  mAP50-95): 100%|██████████| 2/2 [00:02<00:00,  1.29s/it]"
          ]
        },
        {
          "output_type": "stream",
          "name": "stdout",
          "text": [
            "                   all        133        894      0.861      0.745      0.845      0.459\n"
          ]
        },
        {
          "output_type": "stream",
          "name": "stderr",
          "text": [
            "\n"
          ]
        },
        {
          "output_type": "stream",
          "name": "stdout",
          "text": [
            "\n",
            "      Epoch    GPU_mem   box_loss   cls_loss   dfl_loss  Instances       Size\n"
          ]
        },
        {
          "output_type": "stream",
          "name": "stderr",
          "text": [
            "26/10000000      8.23G      1.525      1.167       1.64        482        640: 100%|██████████| 64/64 [00:56<00:00,  1.12it/s]\n",
            "                 Class     Images  Instances      Box(P          R      mAP50  mAP50-95): 100%|██████████| 2/2 [00:01<00:00,  1.14it/s]"
          ]
        },
        {
          "output_type": "stream",
          "name": "stdout",
          "text": [
            "                   all        133        894      0.843      0.751      0.849       0.46\n"
          ]
        },
        {
          "output_type": "stream",
          "name": "stderr",
          "text": [
            "\n"
          ]
        },
        {
          "output_type": "stream",
          "name": "stdout",
          "text": [
            "\n",
            "      Epoch    GPU_mem   box_loss   cls_loss   dfl_loss  Instances       Size\n"
          ]
        },
        {
          "output_type": "stream",
          "name": "stderr",
          "text": [
            "27/10000000      7.81G       1.52       1.16      1.646        501        640: 100%|██████████| 64/64 [00:56<00:00,  1.13it/s]\n",
            "                 Class     Images  Instances      Box(P          R      mAP50  mAP50-95): 100%|██████████| 2/2 [00:01<00:00,  1.13it/s]"
          ]
        },
        {
          "output_type": "stream",
          "name": "stdout",
          "text": [
            "                   all        133        894      0.874      0.747      0.856      0.464\n"
          ]
        },
        {
          "output_type": "stream",
          "name": "stderr",
          "text": [
            "\n"
          ]
        },
        {
          "output_type": "stream",
          "name": "stdout",
          "text": [
            "\n",
            "      Epoch    GPU_mem   box_loss   cls_loss   dfl_loss  Instances       Size\n"
          ]
        },
        {
          "output_type": "stream",
          "name": "stderr",
          "text": [
            "28/10000000      7.83G        1.5      1.149      1.624        405        640: 100%|██████████| 64/64 [00:56<00:00,  1.13it/s]\n",
            "                 Class     Images  Instances      Box(P          R      mAP50  mAP50-95): 100%|██████████| 2/2 [00:01<00:00,  1.14it/s]"
          ]
        },
        {
          "output_type": "stream",
          "name": "stdout",
          "text": [
            "                   all        133        894      0.842      0.769      0.845      0.473\n"
          ]
        },
        {
          "output_type": "stream",
          "name": "stderr",
          "text": [
            "\n"
          ]
        },
        {
          "output_type": "stream",
          "name": "stdout",
          "text": [
            "\n",
            "      Epoch    GPU_mem   box_loss   cls_loss   dfl_loss  Instances       Size\n"
          ]
        },
        {
          "output_type": "stream",
          "name": "stderr",
          "text": [
            "29/10000000      8.56G      1.505      1.134      1.626        528        640: 100%|██████████| 64/64 [00:55<00:00,  1.16it/s]\n",
            "                 Class     Images  Instances      Box(P          R      mAP50  mAP50-95): 100%|██████████| 2/2 [00:01<00:00,  1.01it/s]"
          ]
        },
        {
          "output_type": "stream",
          "name": "stdout",
          "text": [
            "                   all        133        894      0.846      0.792      0.864       0.47\n"
          ]
        },
        {
          "output_type": "stream",
          "name": "stderr",
          "text": [
            "\n"
          ]
        },
        {
          "output_type": "stream",
          "name": "stdout",
          "text": [
            "\n",
            "      Epoch    GPU_mem   box_loss   cls_loss   dfl_loss  Instances       Size\n"
          ]
        },
        {
          "output_type": "stream",
          "name": "stderr",
          "text": [
            "30/10000000      8.66G      1.489      1.109      1.617        564        640: 100%|██████████| 64/64 [00:55<00:00,  1.14it/s]\n",
            "                 Class     Images  Instances      Box(P          R      mAP50  mAP50-95): 100%|██████████| 2/2 [00:02<00:00,  1.33s/it]"
          ]
        },
        {
          "output_type": "stream",
          "name": "stdout",
          "text": [
            "                   all        133        894      0.871      0.779      0.851      0.466\n"
          ]
        },
        {
          "output_type": "stream",
          "name": "stderr",
          "text": [
            "\n"
          ]
        },
        {
          "output_type": "stream",
          "name": "stdout",
          "text": [
            "\n",
            "      Epoch    GPU_mem   box_loss   cls_loss   dfl_loss  Instances       Size\n"
          ]
        },
        {
          "output_type": "stream",
          "name": "stderr",
          "text": [
            "31/10000000       8.1G      1.497       1.12      1.604        477        640: 100%|██████████| 64/64 [00:55<00:00,  1.14it/s]\n",
            "                 Class     Images  Instances      Box(P          R      mAP50  mAP50-95): 100%|██████████| 2/2 [00:01<00:00,  1.14it/s]"
          ]
        },
        {
          "output_type": "stream",
          "name": "stdout",
          "text": [
            "                   all        133        894      0.864       0.79      0.867      0.472\n"
          ]
        },
        {
          "output_type": "stream",
          "name": "stderr",
          "text": [
            "\n"
          ]
        },
        {
          "output_type": "stream",
          "name": "stdout",
          "text": [
            "\n",
            "      Epoch    GPU_mem   box_loss   cls_loss   dfl_loss  Instances       Size\n"
          ]
        },
        {
          "output_type": "stream",
          "name": "stderr",
          "text": [
            "32/10000000      9.11G       1.49      1.108      1.602        485        640: 100%|██████████| 64/64 [00:56<00:00,  1.13it/s]\n",
            "                 Class     Images  Instances      Box(P          R      mAP50  mAP50-95): 100%|██████████| 2/2 [00:01<00:00,  1.13it/s]"
          ]
        },
        {
          "output_type": "stream",
          "name": "stdout",
          "text": [
            "                   all        133        894      0.869        0.8      0.873      0.475\n"
          ]
        },
        {
          "output_type": "stream",
          "name": "stderr",
          "text": [
            "\n"
          ]
        },
        {
          "output_type": "stream",
          "name": "stdout",
          "text": [
            "\n",
            "      Epoch    GPU_mem   box_loss   cls_loss   dfl_loss  Instances       Size\n"
          ]
        },
        {
          "output_type": "stream",
          "name": "stderr",
          "text": [
            "33/10000000      7.99G      1.484      1.092      1.587        459        640: 100%|██████████| 64/64 [00:56<00:00,  1.13it/s]\n",
            "                 Class     Images  Instances      Box(P          R      mAP50  mAP50-95): 100%|██████████| 2/2 [00:01<00:00,  1.25it/s]"
          ]
        },
        {
          "output_type": "stream",
          "name": "stdout",
          "text": [
            "                   all        133        894      0.869      0.766      0.869      0.468\n"
          ]
        },
        {
          "output_type": "stream",
          "name": "stderr",
          "text": [
            "\n"
          ]
        },
        {
          "output_type": "stream",
          "name": "stdout",
          "text": [
            "\n",
            "      Epoch    GPU_mem   box_loss   cls_loss   dfl_loss  Instances       Size\n"
          ]
        },
        {
          "output_type": "stream",
          "name": "stderr",
          "text": [
            "34/10000000      8.02G      1.463       1.07       1.58        451        640: 100%|██████████| 64/64 [00:56<00:00,  1.14it/s]\n",
            "                 Class     Images  Instances      Box(P          R      mAP50  mAP50-95): 100%|██████████| 2/2 [00:01<00:00,  1.14it/s]"
          ]
        },
        {
          "output_type": "stream",
          "name": "stdout",
          "text": [
            "                   all        133        894      0.859      0.801      0.866      0.482\n"
          ]
        },
        {
          "output_type": "stream",
          "name": "stderr",
          "text": [
            "\n"
          ]
        },
        {
          "output_type": "stream",
          "name": "stdout",
          "text": [
            "\n",
            "      Epoch    GPU_mem   box_loss   cls_loss   dfl_loss  Instances       Size\n"
          ]
        },
        {
          "output_type": "stream",
          "name": "stderr",
          "text": [
            "35/10000000      7.95G       1.47      1.079      1.595        472        640: 100%|██████████| 64/64 [00:56<00:00,  1.14it/s]\n",
            "                 Class     Images  Instances      Box(P          R      mAP50  mAP50-95): 100%|██████████| 2/2 [00:01<00:00,  1.09it/s]"
          ]
        },
        {
          "output_type": "stream",
          "name": "stdout",
          "text": [
            "                   all        133        894      0.867      0.783      0.876      0.483\n"
          ]
        },
        {
          "output_type": "stream",
          "name": "stderr",
          "text": [
            "\n"
          ]
        },
        {
          "output_type": "stream",
          "name": "stdout",
          "text": [
            "\n",
            "      Epoch    GPU_mem   box_loss   cls_loss   dfl_loss  Instances       Size\n"
          ]
        },
        {
          "output_type": "stream",
          "name": "stderr",
          "text": [
            "36/10000000       8.2G      1.474      1.082      1.579        408        640: 100%|██████████| 64/64 [00:56<00:00,  1.14it/s]\n",
            "                 Class     Images  Instances      Box(P          R      mAP50  mAP50-95): 100%|██████████| 2/2 [00:02<00:00,  1.26s/it]"
          ]
        },
        {
          "output_type": "stream",
          "name": "stdout",
          "text": [
            "                   all        133        894      0.866      0.794      0.873      0.478\n"
          ]
        },
        {
          "output_type": "stream",
          "name": "stderr",
          "text": [
            "\n"
          ]
        },
        {
          "output_type": "stream",
          "name": "stdout",
          "text": [
            "\n",
            "      Epoch    GPU_mem   box_loss   cls_loss   dfl_loss  Instances       Size\n"
          ]
        },
        {
          "output_type": "stream",
          "name": "stderr",
          "text": [
            "37/10000000      8.17G      1.459      1.061      1.572        431        640: 100%|██████████| 64/64 [00:56<00:00,  1.14it/s]\n",
            "                 Class     Images  Instances      Box(P          R      mAP50  mAP50-95): 100%|██████████| 2/2 [00:02<00:00,  1.08s/it]"
          ]
        },
        {
          "output_type": "stream",
          "name": "stdout",
          "text": [
            "                   all        133        894      0.886      0.778       0.87       0.48\n"
          ]
        },
        {
          "output_type": "stream",
          "name": "stderr",
          "text": [
            "\n"
          ]
        },
        {
          "output_type": "stream",
          "name": "stdout",
          "text": [
            "\n",
            "      Epoch    GPU_mem   box_loss   cls_loss   dfl_loss  Instances       Size\n"
          ]
        },
        {
          "output_type": "stream",
          "name": "stderr",
          "text": [
            "38/10000000       7.8G       1.44      1.039      1.552        457        640: 100%|██████████| 64/64 [00:56<00:00,  1.13it/s]\n",
            "                 Class     Images  Instances      Box(P          R      mAP50  mAP50-95): 100%|██████████| 2/2 [00:01<00:00,  1.08it/s]"
          ]
        },
        {
          "output_type": "stream",
          "name": "stdout",
          "text": [
            "                   all        133        894      0.887        0.8      0.882      0.492\n"
          ]
        },
        {
          "output_type": "stream",
          "name": "stderr",
          "text": [
            "\n"
          ]
        },
        {
          "output_type": "stream",
          "name": "stdout",
          "text": [
            "\n",
            "      Epoch    GPU_mem   box_loss   cls_loss   dfl_loss  Instances       Size\n"
          ]
        },
        {
          "output_type": "stream",
          "name": "stderr",
          "text": [
            "39/10000000      7.82G      1.457      1.057      1.569        531        640: 100%|██████████| 64/64 [00:56<00:00,  1.14it/s]\n",
            "                 Class     Images  Instances      Box(P          R      mAP50  mAP50-95): 100%|██████████| 2/2 [00:01<00:00,  1.07it/s]"
          ]
        },
        {
          "output_type": "stream",
          "name": "stdout",
          "text": [
            "                   all        133        894      0.879      0.789      0.873      0.481\n"
          ]
        },
        {
          "output_type": "stream",
          "name": "stderr",
          "text": [
            "\n"
          ]
        },
        {
          "output_type": "stream",
          "name": "stdout",
          "text": [
            "\n",
            "      Epoch    GPU_mem   box_loss   cls_loss   dfl_loss  Instances       Size\n"
          ]
        },
        {
          "output_type": "stream",
          "name": "stderr",
          "text": [
            "40/10000000      7.61G      1.449      1.037      1.559        406        640: 100%|██████████| 64/64 [00:56<00:00,  1.14it/s]\n",
            "                 Class     Images  Instances      Box(P          R      mAP50  mAP50-95): 100%|██████████| 2/2 [00:01<00:00,  1.05it/s]"
          ]
        },
        {
          "output_type": "stream",
          "name": "stdout",
          "text": [
            "                   all        133        894      0.911       0.76      0.872      0.469\n"
          ]
        },
        {
          "output_type": "stream",
          "name": "stderr",
          "text": [
            "\n"
          ]
        },
        {
          "output_type": "stream",
          "name": "stdout",
          "text": [
            "\n",
            "      Epoch    GPU_mem   box_loss   cls_loss   dfl_loss  Instances       Size\n"
          ]
        },
        {
          "output_type": "stream",
          "name": "stderr",
          "text": [
            "41/10000000      7.41G      1.438      1.032      1.545        435        640: 100%|██████████| 64/64 [00:55<00:00,  1.15it/s]\n",
            "                 Class     Images  Instances      Box(P          R      mAP50  mAP50-95): 100%|██████████| 2/2 [00:01<00:00,  1.17it/s]"
          ]
        },
        {
          "output_type": "stream",
          "name": "stdout",
          "text": [
            "                   all        133        894       0.87      0.789      0.872      0.485\n"
          ]
        },
        {
          "output_type": "stream",
          "name": "stderr",
          "text": [
            "\n"
          ]
        },
        {
          "output_type": "stream",
          "name": "stdout",
          "text": [
            "\n",
            "      Epoch    GPU_mem   box_loss   cls_loss   dfl_loss  Instances       Size\n"
          ]
        },
        {
          "output_type": "stream",
          "name": "stderr",
          "text": [
            "42/10000000      7.51G      1.428       1.03      1.551        460        640: 100%|██████████| 64/64 [00:55<00:00,  1.15it/s]\n",
            "                 Class     Images  Instances      Box(P          R      mAP50  mAP50-95): 100%|██████████| 2/2 [00:02<00:00,  1.01s/it]"
          ]
        },
        {
          "output_type": "stream",
          "name": "stdout",
          "text": [
            "                   all        133        894      0.895      0.815      0.885      0.485\n"
          ]
        },
        {
          "output_type": "stream",
          "name": "stderr",
          "text": [
            "\n"
          ]
        },
        {
          "output_type": "stream",
          "name": "stdout",
          "text": [
            "\n",
            "      Epoch    GPU_mem   box_loss   cls_loss   dfl_loss  Instances       Size\n"
          ]
        },
        {
          "output_type": "stream",
          "name": "stderr",
          "text": [
            "43/10000000      8.25G      1.438      1.018      1.547        416        640: 100%|██████████| 64/64 [00:54<00:00,  1.17it/s]\n",
            "                 Class     Images  Instances      Box(P          R      mAP50  mAP50-95): 100%|██████████| 2/2 [00:02<00:00,  1.43s/it]"
          ]
        },
        {
          "output_type": "stream",
          "name": "stdout",
          "text": [
            "                   all        133        894      0.904      0.771      0.872      0.478\n"
          ]
        },
        {
          "output_type": "stream",
          "name": "stderr",
          "text": [
            "\n"
          ]
        },
        {
          "output_type": "stream",
          "name": "stdout",
          "text": [
            "\n",
            "      Epoch    GPU_mem   box_loss   cls_loss   dfl_loss  Instances       Size\n"
          ]
        },
        {
          "output_type": "stream",
          "name": "stderr",
          "text": [
            "44/10000000      8.81G      1.433      1.017       1.54        471        640: 100%|██████████| 64/64 [00:56<00:00,  1.14it/s]\n",
            "                 Class     Images  Instances      Box(P          R      mAP50  mAP50-95): 100%|██████████| 2/2 [00:01<00:00,  1.13it/s]"
          ]
        },
        {
          "output_type": "stream",
          "name": "stdout",
          "text": [
            "                   all        133        894      0.879      0.801      0.872      0.485\n"
          ]
        },
        {
          "output_type": "stream",
          "name": "stderr",
          "text": [
            "\n"
          ]
        },
        {
          "output_type": "stream",
          "name": "stdout",
          "text": [
            "\n",
            "      Epoch    GPU_mem   box_loss   cls_loss   dfl_loss  Instances       Size\n"
          ]
        },
        {
          "output_type": "stream",
          "name": "stderr",
          "text": [
            "45/10000000      7.45G      1.418      1.009      1.531        560        640: 100%|██████████| 64/64 [00:55<00:00,  1.14it/s]\n",
            "                 Class     Images  Instances      Box(P          R      mAP50  mAP50-95): 100%|██████████| 2/2 [00:01<00:00,  1.07it/s]"
          ]
        },
        {
          "output_type": "stream",
          "name": "stdout",
          "text": [
            "                   all        133        894      0.882      0.788      0.869      0.486\n"
          ]
        },
        {
          "output_type": "stream",
          "name": "stderr",
          "text": [
            "\n"
          ]
        },
        {
          "output_type": "stream",
          "name": "stdout",
          "text": [
            "\n",
            "      Epoch    GPU_mem   box_loss   cls_loss   dfl_loss  Instances       Size\n"
          ]
        },
        {
          "output_type": "stream",
          "name": "stderr",
          "text": [
            "46/10000000      8.23G      1.427      1.011      1.542        465        640: 100%|██████████| 64/64 [00:56<00:00,  1.13it/s]\n",
            "                 Class     Images  Instances      Box(P          R      mAP50  mAP50-95): 100%|██████████| 2/2 [00:01<00:00,  1.05it/s]"
          ]
        },
        {
          "output_type": "stream",
          "name": "stdout",
          "text": [
            "                   all        133        894       0.85      0.835      0.879      0.495\n"
          ]
        },
        {
          "output_type": "stream",
          "name": "stderr",
          "text": [
            "\n"
          ]
        },
        {
          "output_type": "stream",
          "name": "stdout",
          "text": [
            "\n",
            "      Epoch    GPU_mem   box_loss   cls_loss   dfl_loss  Instances       Size\n"
          ]
        },
        {
          "output_type": "stream",
          "name": "stderr",
          "text": [
            "47/10000000      7.88G      1.422     0.9908       1.53        421        640: 100%|██████████| 64/64 [00:56<00:00,  1.14it/s]\n",
            "                 Class     Images  Instances      Box(P          R      mAP50  mAP50-95): 100%|██████████| 2/2 [00:01<00:00,  1.18it/s]"
          ]
        },
        {
          "output_type": "stream",
          "name": "stdout",
          "text": [
            "                   all        133        894      0.878      0.793      0.875      0.485\n"
          ]
        },
        {
          "output_type": "stream",
          "name": "stderr",
          "text": [
            "\n"
          ]
        },
        {
          "output_type": "stream",
          "name": "stdout",
          "text": [
            "\n",
            "      Epoch    GPU_mem   box_loss   cls_loss   dfl_loss  Instances       Size\n"
          ]
        },
        {
          "output_type": "stream",
          "name": "stderr",
          "text": [
            "48/10000000      8.29G      1.407     0.9875      1.518        536        640: 100%|██████████| 64/64 [00:57<00:00,  1.12it/s]\n",
            "                 Class     Images  Instances      Box(P          R      mAP50  mAP50-95): 100%|██████████| 2/2 [00:02<00:00,  1.07s/it]"
          ]
        },
        {
          "output_type": "stream",
          "name": "stdout",
          "text": [
            "                   all        133        894      0.897       0.81      0.888      0.499\n"
          ]
        },
        {
          "output_type": "stream",
          "name": "stderr",
          "text": [
            "\n"
          ]
        },
        {
          "output_type": "stream",
          "name": "stdout",
          "text": [
            "\n",
            "      Epoch    GPU_mem   box_loss   cls_loss   dfl_loss  Instances       Size\n"
          ]
        },
        {
          "output_type": "stream",
          "name": "stderr",
          "text": [
            "49/10000000      8.59G      1.406     0.9836      1.522        444        640: 100%|██████████| 64/64 [00:55<00:00,  1.15it/s]\n",
            "                 Class     Images  Instances      Box(P          R      mAP50  mAP50-95): 100%|██████████| 2/2 [00:02<00:00,  1.06s/it]"
          ]
        },
        {
          "output_type": "stream",
          "name": "stdout",
          "text": [
            "                   all        133        894      0.878      0.781       0.87      0.487\n"
          ]
        },
        {
          "output_type": "stream",
          "name": "stderr",
          "text": [
            "\n"
          ]
        },
        {
          "output_type": "stream",
          "name": "stdout",
          "text": [
            "\n",
            "      Epoch    GPU_mem   box_loss   cls_loss   dfl_loss  Instances       Size\n"
          ]
        },
        {
          "output_type": "stream",
          "name": "stderr",
          "text": [
            "50/10000000      7.66G      1.413     0.9815      1.525        464        640: 100%|██████████| 64/64 [00:56<00:00,  1.13it/s]\n",
            "                 Class     Images  Instances      Box(P          R      mAP50  mAP50-95): 100%|██████████| 2/2 [00:01<00:00,  1.13it/s]"
          ]
        },
        {
          "output_type": "stream",
          "name": "stdout",
          "text": [
            "                   all        133        894      0.866      0.812      0.876      0.481\n"
          ]
        },
        {
          "output_type": "stream",
          "name": "stderr",
          "text": [
            "\n"
          ]
        },
        {
          "output_type": "stream",
          "name": "stdout",
          "text": [
            "\n",
            "      Epoch    GPU_mem   box_loss   cls_loss   dfl_loss  Instances       Size\n"
          ]
        },
        {
          "output_type": "stream",
          "name": "stderr",
          "text": [
            "51/10000000       7.3G      1.394     0.9732      1.515        509        640: 100%|██████████| 64/64 [00:56<00:00,  1.14it/s]\n",
            "                 Class     Images  Instances      Box(P          R      mAP50  mAP50-95): 100%|██████████| 2/2 [00:02<00:00,  1.02s/it]"
          ]
        },
        {
          "output_type": "stream",
          "name": "stdout",
          "text": [
            "                   all        133        894      0.886      0.788      0.864      0.488\n"
          ]
        },
        {
          "output_type": "stream",
          "name": "stderr",
          "text": [
            "\n"
          ]
        },
        {
          "output_type": "stream",
          "name": "stdout",
          "text": [
            "\n",
            "      Epoch    GPU_mem   box_loss   cls_loss   dfl_loss  Instances       Size\n"
          ]
        },
        {
          "output_type": "stream",
          "name": "stderr",
          "text": [
            "52/10000000      7.94G      1.398     0.9749      1.509        502        640: 100%|██████████| 64/64 [00:56<00:00,  1.13it/s]\n",
            "                 Class     Images  Instances      Box(P          R      mAP50  mAP50-95): 100%|██████████| 2/2 [00:01<00:00,  1.07it/s]"
          ]
        },
        {
          "output_type": "stream",
          "name": "stdout",
          "text": [
            "                   all        133        894      0.889      0.807      0.877      0.494\n"
          ]
        },
        {
          "output_type": "stream",
          "name": "stderr",
          "text": [
            "\n"
          ]
        },
        {
          "output_type": "stream",
          "name": "stdout",
          "text": [
            "\n",
            "      Epoch    GPU_mem   box_loss   cls_loss   dfl_loss  Instances       Size\n"
          ]
        },
        {
          "output_type": "stream",
          "name": "stderr",
          "text": [
            "53/10000000      8.65G      1.396     0.9656      1.512        434        640: 100%|██████████| 64/64 [00:57<00:00,  1.12it/s]\n",
            "                 Class     Images  Instances      Box(P          R      mAP50  mAP50-95): 100%|██████████| 2/2 [00:02<00:00,  1.09s/it]"
          ]
        },
        {
          "output_type": "stream",
          "name": "stdout",
          "text": [
            "                   all        133        894        0.9      0.793      0.883      0.497\n"
          ]
        },
        {
          "output_type": "stream",
          "name": "stderr",
          "text": [
            "\n"
          ]
        },
        {
          "output_type": "stream",
          "name": "stdout",
          "text": [
            "\n",
            "      Epoch    GPU_mem   box_loss   cls_loss   dfl_loss  Instances       Size\n"
          ]
        },
        {
          "output_type": "stream",
          "name": "stderr",
          "text": [
            "54/10000000      7.97G      1.378     0.9486      1.505        367        640: 100%|██████████| 64/64 [00:55<00:00,  1.14it/s]\n",
            "                 Class     Images  Instances      Box(P          R      mAP50  mAP50-95): 100%|██████████| 2/2 [00:02<00:00,  1.40s/it]"
          ]
        },
        {
          "output_type": "stream",
          "name": "stdout",
          "text": [
            "                   all        133        894      0.861      0.839      0.887      0.494\n"
          ]
        },
        {
          "output_type": "stream",
          "name": "stderr",
          "text": [
            "\n"
          ]
        },
        {
          "output_type": "stream",
          "name": "stdout",
          "text": [
            "\n",
            "      Epoch    GPU_mem   box_loss   cls_loss   dfl_loss  Instances       Size\n"
          ]
        },
        {
          "output_type": "stream",
          "name": "stderr",
          "text": [
            "55/10000000      8.64G      1.384     0.9522      1.503        470        640: 100%|██████████| 64/64 [00:57<00:00,  1.12it/s]\n",
            "                 Class     Images  Instances      Box(P          R      mAP50  mAP50-95): 100%|██████████| 2/2 [00:01<00:00,  1.04it/s]"
          ]
        },
        {
          "output_type": "stream",
          "name": "stdout",
          "text": [
            "                   all        133        894      0.886      0.789      0.865      0.481\n"
          ]
        },
        {
          "output_type": "stream",
          "name": "stderr",
          "text": [
            "\n"
          ]
        },
        {
          "output_type": "stream",
          "name": "stdout",
          "text": [
            "\n",
            "      Epoch    GPU_mem   box_loss   cls_loss   dfl_loss  Instances       Size\n"
          ]
        },
        {
          "output_type": "stream",
          "name": "stderr",
          "text": [
            "56/10000000      7.32G       1.39     0.9629      1.502        562        640: 100%|██████████| 64/64 [00:55<00:00,  1.15it/s]\n",
            "                 Class     Images  Instances      Box(P          R      mAP50  mAP50-95): 100%|██████████| 2/2 [00:01<00:00,  1.12it/s]"
          ]
        },
        {
          "output_type": "stream",
          "name": "stdout",
          "text": [
            "                   all        133        894       0.88      0.811      0.884      0.497\n"
          ]
        },
        {
          "output_type": "stream",
          "name": "stderr",
          "text": [
            "\n"
          ]
        },
        {
          "output_type": "stream",
          "name": "stdout",
          "text": [
            "\n",
            "      Epoch    GPU_mem   box_loss   cls_loss   dfl_loss  Instances       Size\n"
          ]
        },
        {
          "output_type": "stream",
          "name": "stderr",
          "text": [
            "57/10000000      7.84G      1.379     0.9471      1.488        449        640: 100%|██████████| 64/64 [00:55<00:00,  1.15it/s]\n",
            "                 Class     Images  Instances      Box(P          R      mAP50  mAP50-95): 100%|██████████| 2/2 [00:01<00:00,  1.04it/s]"
          ]
        },
        {
          "output_type": "stream",
          "name": "stdout",
          "text": [
            "                   all        133        894       0.87      0.803      0.873      0.491\n"
          ]
        },
        {
          "output_type": "stream",
          "name": "stderr",
          "text": [
            "\n"
          ]
        },
        {
          "output_type": "stream",
          "name": "stdout",
          "text": [
            "\n",
            "      Epoch    GPU_mem   box_loss   cls_loss   dfl_loss  Instances       Size\n"
          ]
        },
        {
          "output_type": "stream",
          "name": "stderr",
          "text": [
            "58/10000000      7.92G      1.372     0.9428      1.487        498        640: 100%|██████████| 64/64 [00:55<00:00,  1.15it/s]\n",
            "                 Class     Images  Instances      Box(P          R      mAP50  mAP50-95): 100%|██████████| 2/2 [00:01<00:00,  1.24it/s]"
          ]
        },
        {
          "output_type": "stream",
          "name": "stdout",
          "text": [
            "                   all        133        894      0.876      0.833      0.893      0.505\n"
          ]
        },
        {
          "output_type": "stream",
          "name": "stderr",
          "text": [
            "\n"
          ]
        },
        {
          "output_type": "stream",
          "name": "stdout",
          "text": [
            "\n",
            "      Epoch    GPU_mem   box_loss   cls_loss   dfl_loss  Instances       Size\n"
          ]
        },
        {
          "output_type": "stream",
          "name": "stderr",
          "text": [
            "59/10000000      8.23G      1.382     0.9473       1.49        475        640: 100%|██████████| 64/64 [00:55<00:00,  1.15it/s]\n",
            "                 Class     Images  Instances      Box(P          R      mAP50  mAP50-95): 100%|██████████| 2/2 [00:01<00:00,  1.14it/s]"
          ]
        },
        {
          "output_type": "stream",
          "name": "stdout",
          "text": [
            "                   all        133        894       0.87      0.811      0.876       0.49\n"
          ]
        },
        {
          "output_type": "stream",
          "name": "stderr",
          "text": [
            "\n"
          ]
        },
        {
          "output_type": "stream",
          "name": "stdout",
          "text": [
            "\n",
            "      Epoch    GPU_mem   box_loss   cls_loss   dfl_loss  Instances       Size\n"
          ]
        },
        {
          "output_type": "stream",
          "name": "stderr",
          "text": [
            "60/10000000      9.17G      1.361     0.9307      1.478        542        640: 100%|██████████| 64/64 [00:55<00:00,  1.14it/s]\n",
            "                 Class     Images  Instances      Box(P          R      mAP50  mAP50-95): 100%|██████████| 2/2 [00:01<00:00,  1.03it/s]"
          ]
        },
        {
          "output_type": "stream",
          "name": "stdout",
          "text": [
            "                   all        133        894      0.906      0.806      0.886      0.497\n"
          ]
        },
        {
          "output_type": "stream",
          "name": "stderr",
          "text": [
            "\n"
          ]
        },
        {
          "output_type": "stream",
          "name": "stdout",
          "text": [
            "\n",
            "      Epoch    GPU_mem   box_loss   cls_loss   dfl_loss  Instances       Size\n"
          ]
        },
        {
          "output_type": "stream",
          "name": "stderr",
          "text": [
            "61/10000000      8.15G       1.37     0.9313      1.484        552        640: 100%|██████████| 64/64 [00:55<00:00,  1.16it/s]\n",
            "                 Class     Images  Instances      Box(P          R      mAP50  mAP50-95): 100%|██████████| 2/2 [00:02<00:00,  1.46s/it]"
          ]
        },
        {
          "output_type": "stream",
          "name": "stdout",
          "text": [
            "                   all        133        894      0.924      0.794      0.892      0.496\n"
          ]
        },
        {
          "output_type": "stream",
          "name": "stderr",
          "text": [
            "\n"
          ]
        },
        {
          "output_type": "stream",
          "name": "stdout",
          "text": [
            "\n",
            "      Epoch    GPU_mem   box_loss   cls_loss   dfl_loss  Instances       Size\n"
          ]
        },
        {
          "output_type": "stream",
          "name": "stderr",
          "text": [
            "62/10000000      7.97G       1.37     0.9258      1.472        533        640: 100%|██████████| 64/64 [00:55<00:00,  1.15it/s]\n",
            "                 Class     Images  Instances      Box(P          R      mAP50  mAP50-95): 100%|██████████| 2/2 [00:02<00:00,  1.10s/it]"
          ]
        },
        {
          "output_type": "stream",
          "name": "stdout",
          "text": [
            "                   all        133        894      0.904        0.8      0.884        0.5\n"
          ]
        },
        {
          "output_type": "stream",
          "name": "stderr",
          "text": [
            "\n"
          ]
        },
        {
          "output_type": "stream",
          "name": "stdout",
          "text": [
            "\n",
            "      Epoch    GPU_mem   box_loss   cls_loss   dfl_loss  Instances       Size\n"
          ]
        },
        {
          "output_type": "stream",
          "name": "stderr",
          "text": [
            "63/10000000      7.91G      1.354     0.9201       1.47        456        640: 100%|██████████| 64/64 [00:56<00:00,  1.14it/s]\n",
            "                 Class     Images  Instances      Box(P          R      mAP50  mAP50-95): 100%|██████████| 2/2 [00:01<00:00,  1.14it/s]"
          ]
        },
        {
          "output_type": "stream",
          "name": "stdout",
          "text": [
            "                   all        133        894      0.871       0.83      0.891      0.496\n"
          ]
        },
        {
          "output_type": "stream",
          "name": "stderr",
          "text": [
            "\n"
          ]
        },
        {
          "output_type": "stream",
          "name": "stdout",
          "text": [
            "\n",
            "      Epoch    GPU_mem   box_loss   cls_loss   dfl_loss  Instances       Size\n"
          ]
        },
        {
          "output_type": "stream",
          "name": "stderr",
          "text": [
            "64/10000000      8.27G      1.361     0.9198       1.47        438        640: 100%|██████████| 64/64 [00:56<00:00,  1.14it/s]\n",
            "                 Class     Images  Instances      Box(P          R      mAP50  mAP50-95): 100%|██████████| 2/2 [00:01<00:00,  1.09it/s]"
          ]
        },
        {
          "output_type": "stream",
          "name": "stdout",
          "text": [
            "                   all        133        894      0.893      0.776      0.872      0.484\n"
          ]
        },
        {
          "output_type": "stream",
          "name": "stderr",
          "text": [
            "\n"
          ]
        },
        {
          "output_type": "stream",
          "name": "stdout",
          "text": [
            "\n",
            "      Epoch    GPU_mem   box_loss   cls_loss   dfl_loss  Instances       Size\n"
          ]
        },
        {
          "output_type": "stream",
          "name": "stderr",
          "text": [
            "65/10000000       8.6G      1.355     0.9149      1.472        539        640: 100%|██████████| 64/64 [00:55<00:00,  1.15it/s]\n",
            "                 Class     Images  Instances      Box(P          R      mAP50  mAP50-95): 100%|██████████| 2/2 [00:01<00:00,  1.13it/s]"
          ]
        },
        {
          "output_type": "stream",
          "name": "stdout",
          "text": [
            "                   all        133        894      0.871      0.813      0.874       0.49\n"
          ]
        },
        {
          "output_type": "stream",
          "name": "stderr",
          "text": [
            "\n"
          ]
        },
        {
          "output_type": "stream",
          "name": "stdout",
          "text": [
            "\n",
            "      Epoch    GPU_mem   box_loss   cls_loss   dfl_loss  Instances       Size\n"
          ]
        },
        {
          "output_type": "stream",
          "name": "stderr",
          "text": [
            "66/10000000      7.66G      1.356     0.9089      1.464        391        640: 100%|██████████| 64/64 [00:56<00:00,  1.14it/s]\n",
            "                 Class     Images  Instances      Box(P          R      mAP50  mAP50-95): 100%|██████████| 2/2 [00:01<00:00,  1.03it/s]"
          ]
        },
        {
          "output_type": "stream",
          "name": "stdout",
          "text": [
            "                   all        133        894      0.886      0.824       0.89      0.497\n"
          ]
        },
        {
          "output_type": "stream",
          "name": "stderr",
          "text": [
            "\n"
          ]
        },
        {
          "output_type": "stream",
          "name": "stdout",
          "text": [
            "\n",
            "      Epoch    GPU_mem   box_loss   cls_loss   dfl_loss  Instances       Size\n"
          ]
        },
        {
          "output_type": "stream",
          "name": "stderr",
          "text": [
            "67/10000000      8.12G      1.352     0.9068      1.466        446        640: 100%|██████████| 64/64 [00:56<00:00,  1.13it/s]\n",
            "                 Class     Images  Instances      Box(P          R      mAP50  mAP50-95): 100%|██████████| 2/2 [00:01<00:00,  1.04it/s]"
          ]
        },
        {
          "output_type": "stream",
          "name": "stdout",
          "text": [
            "                   all        133        894      0.899      0.798      0.879      0.499\n"
          ]
        },
        {
          "output_type": "stream",
          "name": "stderr",
          "text": [
            "\n"
          ]
        },
        {
          "output_type": "stream",
          "name": "stdout",
          "text": [
            "\n",
            "      Epoch    GPU_mem   box_loss   cls_loss   dfl_loss  Instances       Size\n"
          ]
        },
        {
          "output_type": "stream",
          "name": "stderr",
          "text": [
            "68/10000000      8.85G      1.349     0.9146      1.462        369        640: 100%|██████████| 64/64 [00:54<00:00,  1.17it/s]\n",
            "                 Class     Images  Instances      Box(P          R      mAP50  mAP50-95): 100%|██████████| 2/2 [00:02<00:00,  1.30s/it]"
          ]
        },
        {
          "output_type": "stream",
          "name": "stdout",
          "text": [
            "                   all        133        894      0.892      0.824       0.89      0.501\n"
          ]
        },
        {
          "output_type": "stream",
          "name": "stderr",
          "text": [
            "\n"
          ]
        },
        {
          "output_type": "stream",
          "name": "stdout",
          "text": [
            "\n",
            "      Epoch    GPU_mem   box_loss   cls_loss   dfl_loss  Instances       Size\n"
          ]
        },
        {
          "output_type": "stream",
          "name": "stderr",
          "text": [
            "69/10000000      8.85G      1.339     0.8964      1.446        693        640: 100%|██████████| 64/64 [00:55<00:00,  1.16it/s]\n",
            "                 Class     Images  Instances      Box(P          R      mAP50  mAP50-95): 100%|██████████| 2/2 [00:02<00:00,  1.17s/it]"
          ]
        },
        {
          "output_type": "stream",
          "name": "stdout",
          "text": [
            "                   all        133        894      0.924      0.798      0.893      0.501\n"
          ]
        },
        {
          "output_type": "stream",
          "name": "stderr",
          "text": [
            "\n"
          ]
        },
        {
          "output_type": "stream",
          "name": "stdout",
          "text": [
            "\n",
            "      Epoch    GPU_mem   box_loss   cls_loss   dfl_loss  Instances       Size\n"
          ]
        },
        {
          "output_type": "stream",
          "name": "stderr",
          "text": [
            "70/10000000      8.38G      1.341     0.8995      1.452        500        640: 100%|██████████| 64/64 [00:55<00:00,  1.16it/s]\n",
            "                 Class     Images  Instances      Box(P          R      mAP50  mAP50-95): 100%|██████████| 2/2 [00:02<00:00,  1.01s/it]"
          ]
        },
        {
          "output_type": "stream",
          "name": "stdout",
          "text": [
            "                   all        133        894      0.902      0.816      0.889      0.498\n"
          ]
        },
        {
          "output_type": "stream",
          "name": "stderr",
          "text": [
            "\n"
          ]
        },
        {
          "output_type": "stream",
          "name": "stdout",
          "text": [
            "\n",
            "      Epoch    GPU_mem   box_loss   cls_loss   dfl_loss  Instances       Size\n"
          ]
        },
        {
          "output_type": "stream",
          "name": "stderr",
          "text": [
            "71/10000000      8.88G      1.334     0.8874      1.445        553        640: 100%|██████████| 64/64 [00:55<00:00,  1.16it/s]\n",
            "                 Class     Images  Instances      Box(P          R      mAP50  mAP50-95): 100%|██████████| 2/2 [00:01<00:00,  1.13it/s]"
          ]
        },
        {
          "output_type": "stream",
          "name": "stdout",
          "text": [
            "                   all        133        894      0.895      0.818      0.891      0.511\n"
          ]
        },
        {
          "output_type": "stream",
          "name": "stderr",
          "text": [
            "\n"
          ]
        },
        {
          "output_type": "stream",
          "name": "stdout",
          "text": [
            "\n",
            "      Epoch    GPU_mem   box_loss   cls_loss   dfl_loss  Instances       Size\n"
          ]
        },
        {
          "output_type": "stream",
          "name": "stderr",
          "text": [
            "72/10000000      7.74G      1.328     0.8958      1.445        425        640: 100%|██████████| 64/64 [00:54<00:00,  1.17it/s]\n",
            "                 Class     Images  Instances      Box(P          R      mAP50  mAP50-95): 100%|██████████| 2/2 [00:02<00:00,  1.13s/it]"
          ]
        },
        {
          "output_type": "stream",
          "name": "stdout",
          "text": [
            "                   all        133        894      0.881      0.834      0.893      0.499\n"
          ]
        },
        {
          "output_type": "stream",
          "name": "stderr",
          "text": [
            "\n"
          ]
        },
        {
          "output_type": "stream",
          "name": "stdout",
          "text": [
            "\n",
            "      Epoch    GPU_mem   box_loss   cls_loss   dfl_loss  Instances       Size\n"
          ]
        },
        {
          "output_type": "stream",
          "name": "stderr",
          "text": [
            "73/10000000      8.37G      1.333     0.8937      1.448        356        640: 100%|██████████| 64/64 [00:55<00:00,  1.16it/s]\n",
            "                 Class     Images  Instances      Box(P          R      mAP50  mAP50-95): 100%|██████████| 2/2 [00:01<00:00,  1.04it/s]"
          ]
        },
        {
          "output_type": "stream",
          "name": "stdout",
          "text": [
            "                   all        133        894      0.914      0.811      0.894      0.499\n"
          ]
        },
        {
          "output_type": "stream",
          "name": "stderr",
          "text": [
            "\n"
          ]
        },
        {
          "output_type": "stream",
          "name": "stdout",
          "text": [
            "\n",
            "      Epoch    GPU_mem   box_loss   cls_loss   dfl_loss  Instances       Size\n"
          ]
        },
        {
          "output_type": "stream",
          "name": "stderr",
          "text": [
            "74/10000000      7.65G      1.343     0.8982      1.452        339        640: 100%|██████████| 64/64 [00:56<00:00,  1.13it/s]\n",
            "                 Class     Images  Instances      Box(P          R      mAP50  mAP50-95): 100%|██████████| 2/2 [00:01<00:00,  1.12it/s]"
          ]
        },
        {
          "output_type": "stream",
          "name": "stdout",
          "text": [
            "                   all        133        894      0.902      0.818       0.89        0.5\n"
          ]
        },
        {
          "output_type": "stream",
          "name": "stderr",
          "text": [
            "\n"
          ]
        },
        {
          "output_type": "stream",
          "name": "stdout",
          "text": [
            "\n",
            "      Epoch    GPU_mem   box_loss   cls_loss   dfl_loss  Instances       Size\n"
          ]
        },
        {
          "output_type": "stream",
          "name": "stderr",
          "text": [
            "75/10000000      8.11G      1.337     0.8988      1.451        385        640: 100%|██████████| 64/64 [00:55<00:00,  1.16it/s]\n",
            "                 Class     Images  Instances      Box(P          R      mAP50  mAP50-95): 100%|██████████| 2/2 [00:01<00:00,  1.01it/s]"
          ]
        },
        {
          "output_type": "stream",
          "name": "stdout",
          "text": [
            "                   all        133        894      0.905      0.825      0.896      0.502\n"
          ]
        },
        {
          "output_type": "stream",
          "name": "stderr",
          "text": [
            "\n"
          ]
        },
        {
          "output_type": "stream",
          "name": "stdout",
          "text": [
            "\n",
            "      Epoch    GPU_mem   box_loss   cls_loss   dfl_loss  Instances       Size\n"
          ]
        },
        {
          "output_type": "stream",
          "name": "stderr",
          "text": [
            "76/10000000      7.69G      1.321     0.8735       1.44        480        640: 100%|██████████| 64/64 [00:57<00:00,  1.12it/s]\n",
            "                 Class     Images  Instances      Box(P          R      mAP50  mAP50-95): 100%|██████████| 2/2 [00:02<00:00,  1.28s/it]"
          ]
        },
        {
          "output_type": "stream",
          "name": "stdout",
          "text": [
            "                   all        133        894      0.914      0.834      0.897      0.502\n"
          ]
        },
        {
          "output_type": "stream",
          "name": "stderr",
          "text": [
            "\n"
          ]
        },
        {
          "output_type": "stream",
          "name": "stdout",
          "text": [
            "\n",
            "      Epoch    GPU_mem   box_loss   cls_loss   dfl_loss  Instances       Size\n"
          ]
        },
        {
          "output_type": "stream",
          "name": "stderr",
          "text": [
            "77/10000000      9.16G      1.335     0.8908      1.443        485        640: 100%|██████████| 64/64 [00:55<00:00,  1.15it/s]\n",
            "                 Class     Images  Instances      Box(P          R      mAP50  mAP50-95): 100%|██████████| 2/2 [00:02<00:00,  1.13s/it]"
          ]
        },
        {
          "output_type": "stream",
          "name": "stdout",
          "text": [
            "                   all        133        894       0.89      0.839      0.897       0.51\n"
          ]
        },
        {
          "output_type": "stream",
          "name": "stderr",
          "text": [
            "\n"
          ]
        },
        {
          "output_type": "stream",
          "name": "stdout",
          "text": [
            "\n",
            "      Epoch    GPU_mem   box_loss   cls_loss   dfl_loss  Instances       Size\n"
          ]
        },
        {
          "output_type": "stream",
          "name": "stderr",
          "text": [
            "78/10000000       8.2G      1.319     0.8763      1.429        493        640: 100%|██████████| 64/64 [00:56<00:00,  1.14it/s]\n",
            "                 Class     Images  Instances      Box(P          R      mAP50  mAP50-95): 100%|██████████| 2/2 [00:01<00:00,  1.03it/s]"
          ]
        },
        {
          "output_type": "stream",
          "name": "stdout",
          "text": [
            "                   all        133        894      0.916      0.837      0.897      0.512\n"
          ]
        },
        {
          "output_type": "stream",
          "name": "stderr",
          "text": [
            "\n"
          ]
        },
        {
          "output_type": "stream",
          "name": "stdout",
          "text": [
            "\n",
            "      Epoch    GPU_mem   box_loss   cls_loss   dfl_loss  Instances       Size\n"
          ]
        },
        {
          "output_type": "stream",
          "name": "stderr",
          "text": [
            "79/10000000      8.73G      1.318       0.87       1.43        471        640: 100%|██████████| 64/64 [00:56<00:00,  1.12it/s]\n",
            "                 Class     Images  Instances      Box(P          R      mAP50  mAP50-95): 100%|██████████| 2/2 [00:01<00:00,  1.11it/s]"
          ]
        },
        {
          "output_type": "stream",
          "name": "stdout",
          "text": [
            "                   all        133        894      0.892      0.821      0.889        0.5\n"
          ]
        },
        {
          "output_type": "stream",
          "name": "stderr",
          "text": [
            "\n"
          ]
        },
        {
          "output_type": "stream",
          "name": "stdout",
          "text": [
            "\n",
            "      Epoch    GPU_mem   box_loss   cls_loss   dfl_loss  Instances       Size\n"
          ]
        },
        {
          "output_type": "stream",
          "name": "stderr",
          "text": [
            "80/10000000      8.03G      1.296       0.86      1.428        408        640: 100%|██████████| 64/64 [00:57<00:00,  1.12it/s]\n",
            "                 Class     Images  Instances      Box(P          R      mAP50  mAP50-95): 100%|██████████| 2/2 [00:02<00:00,  1.00s/it]"
          ]
        },
        {
          "output_type": "stream",
          "name": "stdout",
          "text": [
            "                   all        133        894       0.91      0.824      0.892      0.505\n"
          ]
        },
        {
          "output_type": "stream",
          "name": "stderr",
          "text": [
            "\n"
          ]
        },
        {
          "output_type": "stream",
          "name": "stdout",
          "text": [
            "\n",
            "      Epoch    GPU_mem   box_loss   cls_loss   dfl_loss  Instances       Size\n"
          ]
        },
        {
          "output_type": "stream",
          "name": "stderr",
          "text": [
            "81/10000000      9.04G      1.314     0.8727      1.419        606        640: 100%|██████████| 64/64 [00:56<00:00,  1.12it/s]\n",
            "                 Class     Images  Instances      Box(P          R      mAP50  mAP50-95): 100%|██████████| 2/2 [00:01<00:00,  1.05it/s]"
          ]
        },
        {
          "output_type": "stream",
          "name": "stdout",
          "text": [
            "                   all        133        894      0.895      0.825      0.894      0.509\n"
          ]
        },
        {
          "output_type": "stream",
          "name": "stderr",
          "text": [
            "\n"
          ]
        },
        {
          "output_type": "stream",
          "name": "stdout",
          "text": [
            "\n",
            "      Epoch    GPU_mem   box_loss   cls_loss   dfl_loss  Instances       Size\n"
          ]
        },
        {
          "output_type": "stream",
          "name": "stderr",
          "text": [
            "82/10000000      8.78G       1.31     0.8575      1.412        423        640: 100%|██████████| 64/64 [00:55<00:00,  1.16it/s]\n",
            "                 Class     Images  Instances      Box(P          R      mAP50  mAP50-95): 100%|██████████| 2/2 [00:02<00:00,  1.12s/it]"
          ]
        },
        {
          "output_type": "stream",
          "name": "stdout",
          "text": [
            "                   all        133        894      0.882      0.845      0.892      0.507\n"
          ]
        },
        {
          "output_type": "stream",
          "name": "stderr",
          "text": [
            "\n"
          ]
        },
        {
          "output_type": "stream",
          "name": "stdout",
          "text": [
            "\n",
            "      Epoch    GPU_mem   box_loss   cls_loss   dfl_loss  Instances       Size\n"
          ]
        },
        {
          "output_type": "stream",
          "name": "stderr",
          "text": [
            "83/10000000      8.78G      1.307     0.8506      1.411        434        640: 100%|██████████| 64/64 [00:54<00:00,  1.17it/s]\n",
            "                 Class     Images  Instances      Box(P          R      mAP50  mAP50-95): 100%|██████████| 2/2 [00:02<00:00,  1.38s/it]"
          ]
        },
        {
          "output_type": "stream",
          "name": "stdout",
          "text": [
            "                   all        133        894      0.895      0.818      0.894      0.507\n"
          ]
        },
        {
          "output_type": "stream",
          "name": "stderr",
          "text": [
            "\n"
          ]
        },
        {
          "output_type": "stream",
          "name": "stdout",
          "text": [
            "\n",
            "      Epoch    GPU_mem   box_loss   cls_loss   dfl_loss  Instances       Size\n"
          ]
        },
        {
          "output_type": "stream",
          "name": "stderr",
          "text": [
            "84/10000000      7.86G      1.298     0.8528      1.411        475        640: 100%|██████████| 64/64 [00:56<00:00,  1.14it/s]\n",
            "                 Class     Images  Instances      Box(P          R      mAP50  mAP50-95): 100%|██████████| 2/2 [00:01<00:00,  1.09it/s]"
          ]
        },
        {
          "output_type": "stream",
          "name": "stdout",
          "text": [
            "                   all        133        894      0.896      0.839      0.899      0.514\n"
          ]
        },
        {
          "output_type": "stream",
          "name": "stderr",
          "text": [
            "\n"
          ]
        },
        {
          "output_type": "stream",
          "name": "stdout",
          "text": [
            "\n",
            "      Epoch    GPU_mem   box_loss   cls_loss   dfl_loss  Instances       Size\n"
          ]
        },
        {
          "output_type": "stream",
          "name": "stderr",
          "text": [
            "85/10000000      7.99G      1.298     0.8543      1.412        436        640: 100%|██████████| 64/64 [00:56<00:00,  1.14it/s]\n",
            "                 Class     Images  Instances      Box(P          R      mAP50  mAP50-95): 100%|██████████| 2/2 [00:01<00:00,  1.06it/s]"
          ]
        },
        {
          "output_type": "stream",
          "name": "stdout",
          "text": [
            "                   all        133        894      0.888       0.85      0.897      0.506\n"
          ]
        },
        {
          "output_type": "stream",
          "name": "stderr",
          "text": [
            "\n"
          ]
        },
        {
          "output_type": "stream",
          "name": "stdout",
          "text": [
            "\n",
            "      Epoch    GPU_mem   box_loss   cls_loss   dfl_loss  Instances       Size\n"
          ]
        },
        {
          "output_type": "stream",
          "name": "stderr",
          "text": [
            "86/10000000       7.7G      1.313     0.8615      1.413        534        640: 100%|██████████| 64/64 [00:56<00:00,  1.12it/s]\n",
            "                 Class     Images  Instances      Box(P          R      mAP50  mAP50-95): 100%|██████████| 2/2 [00:01<00:00,  1.02it/s]"
          ]
        },
        {
          "output_type": "stream",
          "name": "stdout",
          "text": [
            "                   all        133        894      0.907      0.846      0.904      0.517\n"
          ]
        },
        {
          "output_type": "stream",
          "name": "stderr",
          "text": [
            "\n"
          ]
        },
        {
          "output_type": "stream",
          "name": "stdout",
          "text": [
            "\n",
            "      Epoch    GPU_mem   box_loss   cls_loss   dfl_loss  Instances       Size\n"
          ]
        },
        {
          "output_type": "stream",
          "name": "stderr",
          "text": [
            "87/10000000      8.09G      1.291     0.8475      1.402        468        640: 100%|██████████| 64/64 [00:57<00:00,  1.12it/s]\n",
            "                 Class     Images  Instances      Box(P          R      mAP50  mAP50-95): 100%|██████████| 2/2 [00:01<00:00,  1.02it/s]"
          ]
        },
        {
          "output_type": "stream",
          "name": "stdout",
          "text": [
            "                   all        133        894      0.903      0.829        0.9      0.512\n"
          ]
        },
        {
          "output_type": "stream",
          "name": "stderr",
          "text": [
            "\n"
          ]
        },
        {
          "output_type": "stream",
          "name": "stdout",
          "text": [
            "\n",
            "      Epoch    GPU_mem   box_loss   cls_loss   dfl_loss  Instances       Size\n"
          ]
        },
        {
          "output_type": "stream",
          "name": "stderr",
          "text": [
            "88/10000000      7.71G      1.291      0.846      1.407        483        640: 100%|██████████| 64/64 [00:56<00:00,  1.14it/s]\n",
            "                 Class     Images  Instances      Box(P          R      mAP50  mAP50-95): 100%|██████████| 2/2 [00:02<00:00,  1.34s/it]"
          ]
        },
        {
          "output_type": "stream",
          "name": "stdout",
          "text": [
            "                   all        133        894      0.902      0.829      0.898      0.508\n"
          ]
        },
        {
          "output_type": "stream",
          "name": "stderr",
          "text": [
            "\n"
          ]
        },
        {
          "output_type": "stream",
          "name": "stdout",
          "text": [
            "\n",
            "      Epoch    GPU_mem   box_loss   cls_loss   dfl_loss  Instances       Size\n"
          ]
        },
        {
          "output_type": "stream",
          "name": "stderr",
          "text": [
            "89/10000000      8.05G      1.298     0.8393        1.4        405        640: 100%|██████████| 64/64 [00:55<00:00,  1.16it/s]\n",
            "                 Class     Images  Instances      Box(P          R      mAP50  mAP50-95): 100%|██████████| 2/2 [00:02<00:00,  1.06s/it]"
          ]
        },
        {
          "output_type": "stream",
          "name": "stdout",
          "text": [
            "                   all        133        894        0.9      0.846        0.9      0.503\n"
          ]
        },
        {
          "output_type": "stream",
          "name": "stderr",
          "text": [
            "\n"
          ]
        },
        {
          "output_type": "stream",
          "name": "stdout",
          "text": [
            "\n",
            "      Epoch    GPU_mem   box_loss   cls_loss   dfl_loss  Instances       Size\n"
          ]
        },
        {
          "output_type": "stream",
          "name": "stderr",
          "text": [
            "90/10000000      7.95G      1.291     0.8389      1.401        387        640: 100%|██████████| 64/64 [00:56<00:00,  1.14it/s]\n",
            "                 Class     Images  Instances      Box(P          R      mAP50  mAP50-95): 100%|██████████| 2/2 [00:01<00:00,  1.08it/s]"
          ]
        },
        {
          "output_type": "stream",
          "name": "stdout",
          "text": [
            "                   all        133        894      0.889      0.848      0.895      0.509\n"
          ]
        },
        {
          "output_type": "stream",
          "name": "stderr",
          "text": [
            "\n"
          ]
        },
        {
          "output_type": "stream",
          "name": "stdout",
          "text": [
            "\n",
            "      Epoch    GPU_mem   box_loss   cls_loss   dfl_loss  Instances       Size\n"
          ]
        },
        {
          "output_type": "stream",
          "name": "stderr",
          "text": [
            "91/10000000      7.28G      1.276     0.8335      1.398        532        640: 100%|██████████| 64/64 [00:56<00:00,  1.14it/s]\n",
            "                 Class     Images  Instances      Box(P          R      mAP50  mAP50-95): 100%|██████████| 2/2 [00:01<00:00,  1.06it/s]"
          ]
        },
        {
          "output_type": "stream",
          "name": "stdout",
          "text": [
            "                   all        133        894      0.889      0.846      0.893      0.507\n"
          ]
        },
        {
          "output_type": "stream",
          "name": "stderr",
          "text": [
            "\n"
          ]
        },
        {
          "output_type": "stream",
          "name": "stdout",
          "text": [
            "\n",
            "      Epoch    GPU_mem   box_loss   cls_loss   dfl_loss  Instances       Size\n"
          ]
        },
        {
          "output_type": "stream",
          "name": "stderr",
          "text": [
            "92/10000000       7.9G      1.285     0.8308      1.387        465        640: 100%|██████████| 64/64 [00:55<00:00,  1.15it/s]\n",
            "                 Class     Images  Instances      Box(P          R      mAP50  mAP50-95): 100%|██████████| 2/2 [00:01<00:00,  1.05it/s]"
          ]
        },
        {
          "output_type": "stream",
          "name": "stdout",
          "text": [
            "                   all        133        894      0.912      0.841      0.903      0.507\n"
          ]
        },
        {
          "output_type": "stream",
          "name": "stderr",
          "text": [
            "\n"
          ]
        },
        {
          "output_type": "stream",
          "name": "stdout",
          "text": [
            "\n",
            "      Epoch    GPU_mem   box_loss   cls_loss   dfl_loss  Instances       Size\n"
          ]
        },
        {
          "output_type": "stream",
          "name": "stderr",
          "text": [
            "93/10000000      7.23G       1.28     0.8262      1.397        510        640: 100%|██████████| 64/64 [00:55<00:00,  1.14it/s]\n",
            "                 Class     Images  Instances      Box(P          R      mAP50  mAP50-95): 100%|██████████| 2/2 [00:01<00:00,  1.22it/s]"
          ]
        },
        {
          "output_type": "stream",
          "name": "stdout",
          "text": [
            "                   all        133        894      0.889      0.847      0.897      0.509\n"
          ]
        },
        {
          "output_type": "stream",
          "name": "stderr",
          "text": [
            "\n"
          ]
        },
        {
          "output_type": "stream",
          "name": "stdout",
          "text": [
            "\n",
            "      Epoch    GPU_mem   box_loss   cls_loss   dfl_loss  Instances       Size\n"
          ]
        },
        {
          "output_type": "stream",
          "name": "stderr",
          "text": [
            "94/10000000      7.67G      1.273     0.8308      1.395        391        640: 100%|██████████| 64/64 [00:55<00:00,  1.14it/s]\n",
            "                 Class     Images  Instances      Box(P          R      mAP50  mAP50-95): 100%|██████████| 2/2 [00:01<00:00,  1.02it/s]"
          ]
        },
        {
          "output_type": "stream",
          "name": "stdout",
          "text": [
            "                   all        133        894       0.92      0.829      0.894      0.508\n"
          ]
        },
        {
          "output_type": "stream",
          "name": "stderr",
          "text": [
            "\n"
          ]
        },
        {
          "output_type": "stream",
          "name": "stdout",
          "text": [
            "\n",
            "      Epoch    GPU_mem   box_loss   cls_loss   dfl_loss  Instances       Size\n"
          ]
        },
        {
          "output_type": "stream",
          "name": "stderr",
          "text": [
            "95/10000000      7.83G      1.283     0.8293       1.39        442        640: 100%|██████████| 64/64 [00:55<00:00,  1.15it/s]\n",
            "                 Class     Images  Instances      Box(P          R      mAP50  mAP50-95): 100%|██████████| 2/2 [00:02<00:00,  1.36s/it]"
          ]
        },
        {
          "output_type": "stream",
          "name": "stdout",
          "text": [
            "                   all        133        894      0.913      0.843      0.897      0.513\n"
          ]
        },
        {
          "output_type": "stream",
          "name": "stderr",
          "text": [
            "\n"
          ]
        },
        {
          "output_type": "stream",
          "name": "stdout",
          "text": [
            "\n",
            "      Epoch    GPU_mem   box_loss   cls_loss   dfl_loss  Instances       Size\n"
          ]
        },
        {
          "output_type": "stream",
          "name": "stderr",
          "text": [
            "96/10000000       8.2G      1.277     0.8332      1.398        443        640: 100%|██████████| 64/64 [00:56<00:00,  1.13it/s]\n",
            "                 Class     Images  Instances      Box(P          R      mAP50  mAP50-95): 100%|██████████| 2/2 [00:01<00:00,  1.15it/s]"
          ]
        },
        {
          "output_type": "stream",
          "name": "stdout",
          "text": [
            "                   all        133        894      0.907      0.835      0.899       0.51\n"
          ]
        },
        {
          "output_type": "stream",
          "name": "stderr",
          "text": [
            "\n"
          ]
        },
        {
          "output_type": "stream",
          "name": "stdout",
          "text": [
            "\n",
            "      Epoch    GPU_mem   box_loss   cls_loss   dfl_loss  Instances       Size\n"
          ]
        },
        {
          "output_type": "stream",
          "name": "stderr",
          "text": [
            "97/10000000      7.62G      1.277     0.8256      1.395        383        640: 100%|██████████| 64/64 [00:56<00:00,  1.14it/s]\n",
            "                 Class     Images  Instances      Box(P          R      mAP50  mAP50-95): 100%|██████████| 2/2 [00:01<00:00,  1.17it/s]"
          ]
        },
        {
          "output_type": "stream",
          "name": "stdout",
          "text": [
            "                   all        133        894      0.915      0.818      0.888      0.513\n"
          ]
        },
        {
          "output_type": "stream",
          "name": "stderr",
          "text": [
            "\n"
          ]
        },
        {
          "output_type": "stream",
          "name": "stdout",
          "text": [
            "\n",
            "      Epoch    GPU_mem   box_loss   cls_loss   dfl_loss  Instances       Size\n"
          ]
        },
        {
          "output_type": "stream",
          "name": "stderr",
          "text": [
            "98/10000000      8.02G       1.28     0.8261      1.394        548        640: 100%|██████████| 64/64 [00:56<00:00,  1.14it/s]\n",
            "                 Class     Images  Instances      Box(P          R      mAP50  mAP50-95): 100%|██████████| 2/2 [00:01<00:00,  1.06it/s]"
          ]
        },
        {
          "output_type": "stream",
          "name": "stdout",
          "text": [
            "                   all        133        894      0.892      0.851      0.901      0.509\n"
          ]
        },
        {
          "output_type": "stream",
          "name": "stderr",
          "text": [
            "\n"
          ]
        },
        {
          "output_type": "stream",
          "name": "stdout",
          "text": [
            "\n",
            "      Epoch    GPU_mem   box_loss   cls_loss   dfl_loss  Instances       Size\n"
          ]
        },
        {
          "output_type": "stream",
          "name": "stderr",
          "text": [
            "99/10000000      7.95G      1.262     0.8195      1.381        467        640: 100%|██████████| 64/64 [00:56<00:00,  1.14it/s]\n",
            "                 Class     Images  Instances      Box(P          R      mAP50  mAP50-95): 100%|██████████| 2/2 [00:01<00:00,  1.11it/s]"
          ]
        },
        {
          "output_type": "stream",
          "name": "stdout",
          "text": [
            "                   all        133        894      0.913       0.82      0.895      0.514\n"
          ]
        },
        {
          "output_type": "stream",
          "name": "stderr",
          "text": [
            "\n"
          ]
        },
        {
          "output_type": "stream",
          "name": "stdout",
          "text": [
            "\n",
            "      Epoch    GPU_mem   box_loss   cls_loss   dfl_loss  Instances       Size\n"
          ]
        },
        {
          "output_type": "stream",
          "name": "stderr",
          "text": [
            "100/10000000      8.77G      1.269     0.8137      1.371        414        640: 100%|██████████| 64/64 [00:57<00:00,  1.11it/s]\n",
            "                 Class     Images  Instances      Box(P          R      mAP50  mAP50-95): 100%|██████████| 2/2 [00:02<00:00,  1.01s/it]"
          ]
        },
        {
          "output_type": "stream",
          "name": "stdout",
          "text": [
            "                   all        133        894      0.918      0.817        0.9      0.511\n"
          ]
        },
        {
          "output_type": "stream",
          "name": "stderr",
          "text": [
            "\n"
          ]
        },
        {
          "output_type": "stream",
          "name": "stdout",
          "text": [
            "\n",
            "      Epoch    GPU_mem   box_loss   cls_loss   dfl_loss  Instances       Size\n"
          ]
        },
        {
          "output_type": "stream",
          "name": "stderr",
          "text": [
            "101/10000000      7.18G      1.262     0.8199      1.382        397        640: 100%|██████████| 64/64 [00:56<00:00,  1.12it/s]\n",
            "                 Class     Images  Instances      Box(P          R      mAP50  mAP50-95): 100%|██████████| 2/2 [00:02<00:00,  1.33s/it]"
          ]
        },
        {
          "output_type": "stream",
          "name": "stdout",
          "text": [
            "                   all        133        894      0.894      0.864      0.904       0.51\n"
          ]
        },
        {
          "output_type": "stream",
          "name": "stderr",
          "text": [
            "\n"
          ]
        },
        {
          "output_type": "stream",
          "name": "stdout",
          "text": [
            "\n",
            "      Epoch    GPU_mem   box_loss   cls_loss   dfl_loss  Instances       Size\n"
          ]
        },
        {
          "output_type": "stream",
          "name": "stderr",
          "text": [
            "102/10000000      8.72G      1.253     0.8009      1.372        427        640: 100%|██████████| 64/64 [00:57<00:00,  1.11it/s]\n",
            "                 Class     Images  Instances      Box(P          R      mAP50  mAP50-95): 100%|██████████| 2/2 [00:01<00:00,  1.02it/s]"
          ]
        },
        {
          "output_type": "stream",
          "name": "stdout",
          "text": [
            "                   all        133        894      0.924      0.825      0.903       0.51\n"
          ]
        },
        {
          "output_type": "stream",
          "name": "stderr",
          "text": [
            "\n"
          ]
        },
        {
          "output_type": "stream",
          "name": "stdout",
          "text": [
            "\n",
            "      Epoch    GPU_mem   box_loss   cls_loss   dfl_loss  Instances       Size\n"
          ]
        },
        {
          "output_type": "stream",
          "name": "stderr",
          "text": [
            "103/10000000      7.44G      1.258     0.8149      1.378        418        640: 100%|██████████| 64/64 [00:57<00:00,  1.11it/s]\n",
            "                 Class     Images  Instances      Box(P          R      mAP50  mAP50-95): 100%|██████████| 2/2 [00:01<00:00,  1.13it/s]"
          ]
        },
        {
          "output_type": "stream",
          "name": "stdout",
          "text": [
            "                   all        133        894      0.928      0.832      0.907      0.515\n"
          ]
        },
        {
          "output_type": "stream",
          "name": "stderr",
          "text": [
            "\n"
          ]
        },
        {
          "output_type": "stream",
          "name": "stdout",
          "text": [
            "\n",
            "      Epoch    GPU_mem   box_loss   cls_loss   dfl_loss  Instances       Size\n"
          ]
        },
        {
          "output_type": "stream",
          "name": "stderr",
          "text": [
            "104/10000000      7.71G      1.266     0.8111      1.379        460        640: 100%|██████████| 64/64 [00:56<00:00,  1.13it/s]\n",
            "                 Class     Images  Instances      Box(P          R      mAP50  mAP50-95): 100%|██████████| 2/2 [00:01<00:00,  1.05it/s]"
          ]
        },
        {
          "output_type": "stream",
          "name": "stdout",
          "text": [
            "                   all        133        894      0.898      0.849      0.901       0.51\n"
          ]
        },
        {
          "output_type": "stream",
          "name": "stderr",
          "text": [
            "\n"
          ]
        },
        {
          "output_type": "stream",
          "name": "stdout",
          "text": [
            "\n",
            "      Epoch    GPU_mem   box_loss   cls_loss   dfl_loss  Instances       Size\n"
          ]
        },
        {
          "output_type": "stream",
          "name": "stderr",
          "text": [
            "105/10000000      8.18G      1.253     0.8033      1.365        478        640: 100%|██████████| 64/64 [00:56<00:00,  1.14it/s]\n",
            "                 Class     Images  Instances      Box(P          R      mAP50  mAP50-95): 100%|██████████| 2/2 [00:02<00:00,  1.35s/it]"
          ]
        },
        {
          "output_type": "stream",
          "name": "stdout",
          "text": [
            "                   all        133        894      0.905       0.82      0.886      0.504\n"
          ]
        },
        {
          "output_type": "stream",
          "name": "stderr",
          "text": [
            "\n"
          ]
        },
        {
          "output_type": "stream",
          "name": "stdout",
          "text": [
            "\n",
            "      Epoch    GPU_mem   box_loss   cls_loss   dfl_loss  Instances       Size\n"
          ]
        },
        {
          "output_type": "stream",
          "name": "stderr",
          "text": [
            "106/10000000      8.75G      1.259      0.805      1.364        436        640: 100%|██████████| 64/64 [00:56<00:00,  1.13it/s]\n",
            "                 Class     Images  Instances      Box(P          R      mAP50  mAP50-95): 100%|██████████| 2/2 [00:01<00:00,  1.32it/s]"
          ]
        },
        {
          "output_type": "stream",
          "name": "stdout",
          "text": [
            "                   all        133        894      0.917      0.829      0.898      0.512\n"
          ]
        },
        {
          "output_type": "stream",
          "name": "stderr",
          "text": [
            "\n"
          ]
        },
        {
          "output_type": "stream",
          "name": "stdout",
          "text": [
            "\n",
            "      Epoch    GPU_mem   box_loss   cls_loss   dfl_loss  Instances       Size\n"
          ]
        },
        {
          "output_type": "stream",
          "name": "stderr",
          "text": [
            "107/10000000      7.43G      1.256     0.7986       1.36        481        640: 100%|██████████| 64/64 [00:55<00:00,  1.15it/s]\n",
            "                 Class     Images  Instances      Box(P          R      mAP50  mAP50-95): 100%|██████████| 2/2 [00:01<00:00,  1.08it/s]"
          ]
        },
        {
          "output_type": "stream",
          "name": "stdout",
          "text": [
            "                   all        133        894      0.918      0.846      0.901      0.512\n"
          ]
        },
        {
          "output_type": "stream",
          "name": "stderr",
          "text": [
            "\n"
          ]
        },
        {
          "output_type": "stream",
          "name": "stdout",
          "text": [
            "\n",
            "      Epoch    GPU_mem   box_loss   cls_loss   dfl_loss  Instances       Size\n"
          ]
        },
        {
          "output_type": "stream",
          "name": "stderr",
          "text": [
            "108/10000000      8.81G      1.248     0.8058      1.362        559        640: 100%|██████████| 64/64 [00:55<00:00,  1.15it/s]\n",
            "                 Class     Images  Instances      Box(P          R      mAP50  mAP50-95): 100%|██████████| 2/2 [00:01<00:00,  1.10it/s]"
          ]
        },
        {
          "output_type": "stream",
          "name": "stdout",
          "text": [
            "                   all        133        894      0.914       0.85      0.904      0.512\n"
          ]
        },
        {
          "output_type": "stream",
          "name": "stderr",
          "text": [
            "\n"
          ]
        },
        {
          "output_type": "stream",
          "name": "stdout",
          "text": [
            "\n",
            "      Epoch    GPU_mem   box_loss   cls_loss   dfl_loss  Instances       Size\n"
          ]
        },
        {
          "output_type": "stream",
          "name": "stderr",
          "text": [
            "109/10000000      7.81G      1.255     0.8007      1.369        443        640: 100%|██████████| 64/64 [00:56<00:00,  1.14it/s]\n",
            "                 Class     Images  Instances      Box(P          R      mAP50  mAP50-95): 100%|██████████| 2/2 [00:01<00:00,  1.24it/s]"
          ]
        },
        {
          "output_type": "stream",
          "name": "stdout",
          "text": [
            "                   all        133        894      0.912      0.845      0.908       0.51\n"
          ]
        },
        {
          "output_type": "stream",
          "name": "stderr",
          "text": [
            "\n"
          ]
        },
        {
          "output_type": "stream",
          "name": "stdout",
          "text": [
            "\n",
            "      Epoch    GPU_mem   box_loss   cls_loss   dfl_loss  Instances       Size\n"
          ]
        },
        {
          "output_type": "stream",
          "name": "stderr",
          "text": [
            "110/10000000       7.4G      1.243     0.7976      1.358        460        640: 100%|██████████| 64/64 [00:55<00:00,  1.14it/s]\n",
            "                 Class     Images  Instances      Box(P          R      mAP50  mAP50-95): 100%|██████████| 2/2 [00:02<00:00,  1.10s/it]"
          ]
        },
        {
          "output_type": "stream",
          "name": "stdout",
          "text": [
            "                   all        133        894      0.902      0.853      0.905      0.513\n"
          ]
        },
        {
          "output_type": "stream",
          "name": "stderr",
          "text": [
            "\n"
          ]
        },
        {
          "output_type": "stream",
          "name": "stdout",
          "text": [
            "\n",
            "      Epoch    GPU_mem   box_loss   cls_loss   dfl_loss  Instances       Size\n"
          ]
        },
        {
          "output_type": "stream",
          "name": "stderr",
          "text": [
            "111/10000000      7.75G      1.242     0.7942      1.357        479        640: 100%|██████████| 64/64 [00:56<00:00,  1.13it/s]\n",
            "                 Class     Images  Instances      Box(P          R      mAP50  mAP50-95): 100%|██████████| 2/2 [00:02<00:00,  1.26s/it]"
          ]
        },
        {
          "output_type": "stream",
          "name": "stdout",
          "text": [
            "                   all        133        894      0.902      0.856      0.901      0.514\n"
          ]
        },
        {
          "output_type": "stream",
          "name": "stderr",
          "text": [
            "\n"
          ]
        },
        {
          "output_type": "stream",
          "name": "stdout",
          "text": [
            "\n",
            "      Epoch    GPU_mem   box_loss   cls_loss   dfl_loss  Instances       Size\n"
          ]
        },
        {
          "output_type": "stream",
          "name": "stderr",
          "text": [
            "112/10000000      7.84G      1.247     0.7982      1.366        450        640: 100%|██████████| 64/64 [00:55<00:00,  1.15it/s]\n",
            "                 Class     Images  Instances      Box(P          R      mAP50  mAP50-95): 100%|██████████| 2/2 [00:01<00:00,  1.06it/s]"
          ]
        },
        {
          "output_type": "stream",
          "name": "stdout",
          "text": [
            "                   all        133        894      0.924      0.833       0.91      0.512\n"
          ]
        },
        {
          "output_type": "stream",
          "name": "stderr",
          "text": [
            "\n"
          ]
        },
        {
          "output_type": "stream",
          "name": "stdout",
          "text": [
            "\n",
            "      Epoch    GPU_mem   box_loss   cls_loss   dfl_loss  Instances       Size\n"
          ]
        },
        {
          "output_type": "stream",
          "name": "stderr",
          "text": [
            "113/10000000      7.44G      1.247     0.7911      1.353        388        640: 100%|██████████| 64/64 [00:56<00:00,  1.14it/s]\n",
            "                 Class     Images  Instances      Box(P          R      mAP50  mAP50-95): 100%|██████████| 2/2 [00:01<00:00,  1.13it/s]"
          ]
        },
        {
          "output_type": "stream",
          "name": "stdout",
          "text": [
            "                   all        133        894       0.91      0.868      0.906      0.516\n"
          ]
        },
        {
          "output_type": "stream",
          "name": "stderr",
          "text": [
            "\n"
          ]
        },
        {
          "output_type": "stream",
          "name": "stdout",
          "text": [
            "\n",
            "      Epoch    GPU_mem   box_loss   cls_loss   dfl_loss  Instances       Size\n"
          ]
        },
        {
          "output_type": "stream",
          "name": "stderr",
          "text": [
            "114/10000000      8.73G       1.23     0.7881      1.346        487        640: 100%|██████████| 64/64 [00:56<00:00,  1.14it/s]\n",
            "                 Class     Images  Instances      Box(P          R      mAP50  mAP50-95): 100%|██████████| 2/2 [00:02<00:00,  1.01s/it]"
          ]
        },
        {
          "output_type": "stream",
          "name": "stdout",
          "text": [
            "                   all        133        894      0.901      0.869      0.906      0.512\n"
          ]
        },
        {
          "output_type": "stream",
          "name": "stderr",
          "text": [
            "\n"
          ]
        },
        {
          "output_type": "stream",
          "name": "stdout",
          "text": [
            "\n",
            "      Epoch    GPU_mem   box_loss   cls_loss   dfl_loss  Instances       Size\n"
          ]
        },
        {
          "output_type": "stream",
          "name": "stderr",
          "text": [
            "115/10000000      8.82G      1.248     0.7954      1.356        414        640: 100%|██████████| 64/64 [00:56<00:00,  1.13it/s]\n",
            "                 Class     Images  Instances      Box(P          R      mAP50  mAP50-95): 100%|██████████| 2/2 [00:01<00:00,  1.33it/s]"
          ]
        },
        {
          "output_type": "stream",
          "name": "stdout",
          "text": [
            "                   all        133        894      0.899      0.862      0.904      0.511\n"
          ]
        },
        {
          "output_type": "stream",
          "name": "stderr",
          "text": [
            "\n"
          ]
        },
        {
          "output_type": "stream",
          "name": "stdout",
          "text": [
            "\n",
            "      Epoch    GPU_mem   box_loss   cls_loss   dfl_loss  Instances       Size\n"
          ]
        },
        {
          "output_type": "stream",
          "name": "stderr",
          "text": [
            "116/10000000      8.12G      1.224     0.7774      1.346        489        640: 100%|██████████| 64/64 [00:56<00:00,  1.13it/s]\n",
            "                 Class     Images  Instances      Box(P          R      mAP50  mAP50-95): 100%|██████████| 2/2 [00:01<00:00,  1.11it/s]"
          ]
        },
        {
          "output_type": "stream",
          "name": "stdout",
          "text": [
            "                   all        133        894      0.914      0.854      0.908      0.517\n"
          ]
        },
        {
          "output_type": "stream",
          "name": "stderr",
          "text": [
            "\n"
          ]
        },
        {
          "output_type": "stream",
          "name": "stdout",
          "text": [
            "\n",
            "      Epoch    GPU_mem   box_loss   cls_loss   dfl_loss  Instances       Size\n"
          ]
        },
        {
          "output_type": "stream",
          "name": "stderr",
          "text": [
            "117/10000000      8.07G      1.225     0.7783      1.347        479        640: 100%|██████████| 64/64 [00:56<00:00,  1.14it/s]\n",
            "                 Class     Images  Instances      Box(P          R      mAP50  mAP50-95): 100%|██████████| 2/2 [00:02<00:00,  1.45s/it]"
          ]
        },
        {
          "output_type": "stream",
          "name": "stdout",
          "text": [
            "                   all        133        894      0.911      0.864       0.91      0.513\n"
          ]
        },
        {
          "output_type": "stream",
          "name": "stderr",
          "text": [
            "\n"
          ]
        },
        {
          "output_type": "stream",
          "name": "stdout",
          "text": [
            "\n",
            "      Epoch    GPU_mem   box_loss   cls_loss   dfl_loss  Instances       Size\n"
          ]
        },
        {
          "output_type": "stream",
          "name": "stderr",
          "text": [
            "118/10000000      7.54G      1.225     0.7777       1.35        407        640: 100%|██████████| 64/64 [00:55<00:00,  1.15it/s]\n",
            "                 Class     Images  Instances      Box(P          R      mAP50  mAP50-95): 100%|██████████| 2/2 [00:01<00:00,  1.28it/s]"
          ]
        },
        {
          "output_type": "stream",
          "name": "stdout",
          "text": [
            "                   all        133        894      0.891      0.872      0.903      0.515\n"
          ]
        },
        {
          "output_type": "stream",
          "name": "stderr",
          "text": [
            "\n"
          ]
        },
        {
          "output_type": "stream",
          "name": "stdout",
          "text": [
            "\n",
            "      Epoch    GPU_mem   box_loss   cls_loss   dfl_loss  Instances       Size\n"
          ]
        },
        {
          "output_type": "stream",
          "name": "stderr",
          "text": [
            "119/10000000      8.22G      1.219     0.7702      1.337        575        640: 100%|██████████| 64/64 [00:56<00:00,  1.12it/s]\n",
            "                 Class     Images  Instances      Box(P          R      mAP50  mAP50-95): 100%|██████████| 2/2 [00:01<00:00,  1.13it/s]"
          ]
        },
        {
          "output_type": "stream",
          "name": "stdout",
          "text": [
            "                   all        133        894      0.919      0.842      0.903      0.512\n"
          ]
        },
        {
          "output_type": "stream",
          "name": "stderr",
          "text": [
            "\n"
          ]
        },
        {
          "output_type": "stream",
          "name": "stdout",
          "text": [
            "\n",
            "      Epoch    GPU_mem   box_loss   cls_loss   dfl_loss  Instances       Size\n"
          ]
        },
        {
          "output_type": "stream",
          "name": "stderr",
          "text": [
            "120/10000000      7.97G      1.223     0.7783      1.338        470        640: 100%|██████████| 64/64 [00:56<00:00,  1.13it/s]\n",
            "                 Class     Images  Instances      Box(P          R      mAP50  mAP50-95): 100%|██████████| 2/2 [00:01<00:00,  1.27it/s]"
          ]
        },
        {
          "output_type": "stream",
          "name": "stdout",
          "text": [
            "                   all        133        894      0.919      0.843      0.909      0.515\n"
          ]
        },
        {
          "output_type": "stream",
          "name": "stderr",
          "text": [
            "\n"
          ]
        },
        {
          "output_type": "stream",
          "name": "stdout",
          "text": [
            "\n",
            "      Epoch    GPU_mem   box_loss   cls_loss   dfl_loss  Instances       Size\n"
          ]
        },
        {
          "output_type": "stream",
          "name": "stderr",
          "text": [
            "121/10000000      8.35G      1.226     0.7787       1.34        483        640: 100%|██████████| 64/64 [00:56<00:00,  1.13it/s]\n",
            "                 Class     Images  Instances      Box(P          R      mAP50  mAP50-95): 100%|██████████| 2/2 [00:01<00:00,  1.08it/s]"
          ]
        },
        {
          "output_type": "stream",
          "name": "stdout",
          "text": [
            "                   all        133        894      0.922      0.848      0.905      0.516\n"
          ]
        },
        {
          "output_type": "stream",
          "name": "stderr",
          "text": [
            "\n"
          ]
        },
        {
          "output_type": "stream",
          "name": "stdout",
          "text": [
            "\n",
            "      Epoch    GPU_mem   box_loss   cls_loss   dfl_loss  Instances       Size\n"
          ]
        },
        {
          "output_type": "stream",
          "name": "stderr",
          "text": [
            "122/10000000      8.34G      1.207     0.7613       1.33        556        640: 100%|██████████| 64/64 [00:56<00:00,  1.14it/s]\n",
            "                 Class     Images  Instances      Box(P          R      mAP50  mAP50-95): 100%|██████████| 2/2 [00:01<00:00,  1.10it/s]"
          ]
        },
        {
          "output_type": "stream",
          "name": "stdout",
          "text": [
            "                   all        133        894      0.915      0.857      0.904      0.509\n"
          ]
        },
        {
          "output_type": "stream",
          "name": "stderr",
          "text": [
            "\n"
          ]
        },
        {
          "output_type": "stream",
          "name": "stdout",
          "text": [
            "\n",
            "      Epoch    GPU_mem   box_loss   cls_loss   dfl_loss  Instances       Size\n"
          ]
        },
        {
          "output_type": "stream",
          "name": "stderr",
          "text": [
            "123/10000000      8.63G      1.207     0.7651      1.332        378        640: 100%|██████████| 64/64 [00:56<00:00,  1.13it/s]\n",
            "                 Class     Images  Instances      Box(P          R      mAP50  mAP50-95): 100%|██████████| 2/2 [00:02<00:00,  1.34s/it]"
          ]
        },
        {
          "output_type": "stream",
          "name": "stdout",
          "text": [
            "                   all        133        894      0.924       0.83        0.9      0.512\n"
          ]
        },
        {
          "output_type": "stream",
          "name": "stderr",
          "text": [
            "\n"
          ]
        },
        {
          "output_type": "stream",
          "name": "stdout",
          "text": [
            "\n",
            "      Epoch    GPU_mem   box_loss   cls_loss   dfl_loss  Instances       Size\n"
          ]
        },
        {
          "output_type": "stream",
          "name": "stderr",
          "text": [
            "124/10000000      8.09G      1.212     0.7644      1.338        461        640: 100%|██████████| 64/64 [00:56<00:00,  1.13it/s]\n",
            "                 Class     Images  Instances      Box(P          R      mAP50  mAP50-95): 100%|██████████| 2/2 [00:01<00:00,  1.14it/s]"
          ]
        },
        {
          "output_type": "stream",
          "name": "stdout",
          "text": [
            "                   all        133        894      0.904      0.857      0.903      0.514\n"
          ]
        },
        {
          "output_type": "stream",
          "name": "stderr",
          "text": [
            "\n"
          ]
        },
        {
          "output_type": "stream",
          "name": "stdout",
          "text": [
            "\n",
            "      Epoch    GPU_mem   box_loss   cls_loss   dfl_loss  Instances       Size\n"
          ]
        },
        {
          "output_type": "stream",
          "name": "stderr",
          "text": [
            "125/10000000      8.04G      1.223     0.7799      1.334        559        640: 100%|██████████| 64/64 [00:57<00:00,  1.12it/s]\n",
            "                 Class     Images  Instances      Box(P          R      mAP50  mAP50-95): 100%|██████████| 2/2 [00:01<00:00,  1.09it/s]"
          ]
        },
        {
          "output_type": "stream",
          "name": "stdout",
          "text": [
            "                   all        133        894      0.891      0.868      0.904      0.514\n"
          ]
        },
        {
          "output_type": "stream",
          "name": "stderr",
          "text": [
            "\n"
          ]
        },
        {
          "output_type": "stream",
          "name": "stdout",
          "text": [
            "\n",
            "      Epoch    GPU_mem   box_loss   cls_loss   dfl_loss  Instances       Size\n"
          ]
        },
        {
          "output_type": "stream",
          "name": "stderr",
          "text": [
            "126/10000000      8.81G      1.212     0.7648      1.334        420        640: 100%|██████████| 64/64 [00:56<00:00,  1.13it/s]\n",
            "                 Class     Images  Instances      Box(P          R      mAP50  mAP50-95): 100%|██████████| 2/2 [00:01<00:00,  1.10it/s]"
          ]
        },
        {
          "output_type": "stream",
          "name": "stdout",
          "text": [
            "                   all        133        894      0.898      0.863      0.904      0.514\n"
          ]
        },
        {
          "output_type": "stream",
          "name": "stderr",
          "text": [
            "\n"
          ]
        },
        {
          "output_type": "stream",
          "name": "stdout",
          "text": [
            "\n",
            "      Epoch    GPU_mem   box_loss   cls_loss   dfl_loss  Instances       Size\n"
          ]
        },
        {
          "output_type": "stream",
          "name": "stderr",
          "text": [
            "127/10000000      8.29G      1.207     0.7635      1.328        485        640: 100%|██████████| 64/64 [00:56<00:00,  1.13it/s]\n",
            "                 Class     Images  Instances      Box(P          R      mAP50  mAP50-95): 100%|██████████| 2/2 [00:01<00:00,  1.18it/s]"
          ]
        },
        {
          "output_type": "stream",
          "name": "stdout",
          "text": [
            "                   all        133        894      0.903      0.852      0.901      0.509\n"
          ]
        },
        {
          "output_type": "stream",
          "name": "stderr",
          "text": [
            "\n"
          ]
        },
        {
          "output_type": "stream",
          "name": "stdout",
          "text": [
            "\n",
            "      Epoch    GPU_mem   box_loss   cls_loss   dfl_loss  Instances       Size\n"
          ]
        },
        {
          "output_type": "stream",
          "name": "stderr",
          "text": [
            "128/10000000      8.01G      1.213     0.7701      1.342        499        640: 100%|██████████| 64/64 [00:56<00:00,  1.14it/s]\n",
            "                 Class     Images  Instances      Box(P          R      mAP50  mAP50-95): 100%|██████████| 2/2 [00:02<00:00,  1.31s/it]"
          ]
        },
        {
          "output_type": "stream",
          "name": "stdout",
          "text": [
            "                   all        133        894      0.919      0.843        0.9      0.507\n"
          ]
        },
        {
          "output_type": "stream",
          "name": "stderr",
          "text": [
            "\n"
          ]
        },
        {
          "output_type": "stream",
          "name": "stdout",
          "text": [
            "\n",
            "      Epoch    GPU_mem   box_loss   cls_loss   dfl_loss  Instances       Size\n"
          ]
        },
        {
          "output_type": "stream",
          "name": "stderr",
          "text": [
            "129/10000000      8.03G      1.213     0.7608      1.326        556        640: 100%|██████████| 64/64 [00:55<00:00,  1.16it/s]\n",
            "                 Class     Images  Instances      Box(P          R      mAP50  mAP50-95): 100%|██████████| 2/2 [00:02<00:00,  1.05s/it]"
          ]
        },
        {
          "output_type": "stream",
          "name": "stdout",
          "text": [
            "                   all        133        894      0.914      0.845      0.904      0.514\n"
          ]
        },
        {
          "output_type": "stream",
          "name": "stderr",
          "text": [
            "\n"
          ]
        },
        {
          "output_type": "stream",
          "name": "stdout",
          "text": [
            "\n",
            "      Epoch    GPU_mem   box_loss   cls_loss   dfl_loss  Instances       Size\n"
          ]
        },
        {
          "output_type": "stream",
          "name": "stderr",
          "text": [
            "130/10000000       7.6G        1.2     0.7551      1.323        555        640: 100%|██████████| 64/64 [00:56<00:00,  1.13it/s]\n",
            "                 Class     Images  Instances      Box(P          R      mAP50  mAP50-95): 100%|██████████| 2/2 [00:01<00:00,  1.17it/s]"
          ]
        },
        {
          "output_type": "stream",
          "name": "stdout",
          "text": [
            "                   all        133        894      0.892      0.865      0.908      0.515\n"
          ]
        },
        {
          "output_type": "stream",
          "name": "stderr",
          "text": [
            "\n"
          ]
        },
        {
          "output_type": "stream",
          "name": "stdout",
          "text": [
            "\n",
            "      Epoch    GPU_mem   box_loss   cls_loss   dfl_loss  Instances       Size\n"
          ]
        },
        {
          "output_type": "stream",
          "name": "stderr",
          "text": [
            "131/10000000      7.61G      1.203     0.7624      1.326        479        640: 100%|██████████| 64/64 [00:56<00:00,  1.12it/s]\n",
            "                 Class     Images  Instances      Box(P          R      mAP50  mAP50-95): 100%|██████████| 2/2 [00:02<00:00,  1.02s/it]"
          ]
        },
        {
          "output_type": "stream",
          "name": "stdout",
          "text": [
            "                   all        133        894      0.896      0.854      0.906      0.512\n"
          ]
        },
        {
          "output_type": "stream",
          "name": "stderr",
          "text": [
            "\n"
          ]
        },
        {
          "output_type": "stream",
          "name": "stdout",
          "text": [
            "\n",
            "      Epoch    GPU_mem   box_loss   cls_loss   dfl_loss  Instances       Size\n"
          ]
        },
        {
          "output_type": "stream",
          "name": "stderr",
          "text": [
            "132/10000000      7.29G      1.199     0.7544      1.325        446        640: 100%|██████████| 64/64 [00:56<00:00,  1.12it/s]\n",
            "                 Class     Images  Instances      Box(P          R      mAP50  mAP50-95): 100%|██████████| 2/2 [00:01<00:00,  1.09it/s]"
          ]
        },
        {
          "output_type": "stream",
          "name": "stdout",
          "text": [
            "                   all        133        894      0.911      0.843      0.904      0.514\n"
          ]
        },
        {
          "output_type": "stream",
          "name": "stderr",
          "text": [
            "\n"
          ]
        },
        {
          "output_type": "stream",
          "name": "stdout",
          "text": [
            "\n",
            "      Epoch    GPU_mem   box_loss   cls_loss   dfl_loss  Instances       Size\n"
          ]
        },
        {
          "output_type": "stream",
          "name": "stderr",
          "text": [
            "133/10000000      8.19G      1.192     0.7545      1.318        535        640: 100%|██████████| 64/64 [00:56<00:00,  1.14it/s]\n",
            "                 Class     Images  Instances      Box(P          R      mAP50  mAP50-95): 100%|██████████| 2/2 [00:02<00:00,  1.34s/it]"
          ]
        },
        {
          "output_type": "stream",
          "name": "stdout",
          "text": [
            "                   all        133        894      0.909      0.849      0.903      0.513\n"
          ]
        },
        {
          "output_type": "stream",
          "name": "stderr",
          "text": [
            "\n"
          ]
        },
        {
          "output_type": "stream",
          "name": "stdout",
          "text": [
            "\n",
            "      Epoch    GPU_mem   box_loss   cls_loss   dfl_loss  Instances       Size\n"
          ]
        },
        {
          "output_type": "stream",
          "name": "stderr",
          "text": [
            "134/10000000      7.47G      1.197     0.7497      1.316        505        640: 100%|██████████| 64/64 [00:55<00:00,  1.15it/s]\n",
            "                 Class     Images  Instances      Box(P          R      mAP50  mAP50-95): 100%|██████████| 2/2 [00:01<00:00,  1.04it/s]"
          ]
        },
        {
          "output_type": "stream",
          "name": "stdout",
          "text": [
            "                   all        133        894      0.882      0.871      0.898      0.511\n"
          ]
        },
        {
          "output_type": "stream",
          "name": "stderr",
          "text": [
            "\n"
          ]
        },
        {
          "output_type": "stream",
          "name": "stdout",
          "text": [
            "\n",
            "      Epoch    GPU_mem   box_loss   cls_loss   dfl_loss  Instances       Size\n"
          ]
        },
        {
          "output_type": "stream",
          "name": "stderr",
          "text": [
            "135/10000000      7.56G      1.204     0.7596      1.318        545        640: 100%|██████████| 64/64 [00:56<00:00,  1.12it/s]\n",
            "                 Class     Images  Instances      Box(P          R      mAP50  mAP50-95): 100%|██████████| 2/2 [00:01<00:00,  1.05it/s]"
          ]
        },
        {
          "output_type": "stream",
          "name": "stdout",
          "text": [
            "                   all        133        894      0.895      0.851      0.901      0.514\n"
          ]
        },
        {
          "output_type": "stream",
          "name": "stderr",
          "text": [
            "\n"
          ]
        },
        {
          "output_type": "stream",
          "name": "stdout",
          "text": [
            "\n",
            "      Epoch    GPU_mem   box_loss   cls_loss   dfl_loss  Instances       Size\n"
          ]
        },
        {
          "output_type": "stream",
          "name": "stderr",
          "text": [
            "136/10000000      8.06G      1.184     0.7448      1.316        427        640: 100%|██████████| 64/64 [00:56<00:00,  1.13it/s]\n",
            "                 Class     Images  Instances      Box(P          R      mAP50  mAP50-95): 100%|██████████| 2/2 [00:01<00:00,  1.05it/s]"
          ]
        },
        {
          "output_type": "stream",
          "name": "stdout",
          "text": [
            "                   all        133        894      0.918      0.833      0.899      0.517\n"
          ]
        },
        {
          "output_type": "stream",
          "name": "stderr",
          "text": [
            "\n"
          ]
        },
        {
          "output_type": "stream",
          "name": "stdout",
          "text": [
            "\n",
            "      Epoch    GPU_mem   box_loss   cls_loss   dfl_loss  Instances       Size\n"
          ]
        },
        {
          "output_type": "stream",
          "name": "stderr",
          "text": [
            "137/10000000      8.41G      1.192     0.7462      1.318        524        640: 100%|██████████| 64/64 [00:56<00:00,  1.12it/s]\n",
            "                 Class     Images  Instances      Box(P          R      mAP50  mAP50-95): 100%|██████████| 2/2 [00:01<00:00,  1.13it/s]"
          ]
        },
        {
          "output_type": "stream",
          "name": "stdout",
          "text": [
            "                   all        133        894      0.905      0.858        0.9      0.517\n"
          ]
        },
        {
          "output_type": "stream",
          "name": "stderr",
          "text": [
            "\n"
          ]
        },
        {
          "output_type": "stream",
          "name": "stdout",
          "text": [
            "\n",
            "      Epoch    GPU_mem   box_loss   cls_loss   dfl_loss  Instances       Size\n"
          ]
        },
        {
          "output_type": "stream",
          "name": "stderr",
          "text": [
            "138/10000000      8.04G      1.181     0.7433       1.31        413        640: 100%|██████████| 64/64 [00:56<00:00,  1.14it/s]\n",
            "                 Class     Images  Instances      Box(P          R      mAP50  mAP50-95): 100%|██████████| 2/2 [00:01<00:00,  1.08it/s]"
          ]
        },
        {
          "output_type": "stream",
          "name": "stdout",
          "text": [
            "                   all        133        894      0.918      0.848        0.9      0.517\n"
          ]
        },
        {
          "output_type": "stream",
          "name": "stderr",
          "text": [
            "\n"
          ]
        },
        {
          "output_type": "stream",
          "name": "stdout",
          "text": [
            "\n",
            "      Epoch    GPU_mem   box_loss   cls_loss   dfl_loss  Instances       Size\n"
          ]
        },
        {
          "output_type": "stream",
          "name": "stderr",
          "text": [
            "139/10000000      8.32G      1.183     0.7449      1.313        484        640: 100%|██████████| 64/64 [00:55<00:00,  1.16it/s]\n",
            "                 Class     Images  Instances      Box(P          R      mAP50  mAP50-95): 100%|██████████| 2/2 [00:02<00:00,  1.35s/it]"
          ]
        },
        {
          "output_type": "stream",
          "name": "stdout",
          "text": [
            "                   all        133        894       0.91      0.852      0.897      0.513\n"
          ]
        },
        {
          "output_type": "stream",
          "name": "stderr",
          "text": [
            "\n"
          ]
        },
        {
          "output_type": "stream",
          "name": "stdout",
          "text": [
            "\n",
            "      Epoch    GPU_mem   box_loss   cls_loss   dfl_loss  Instances       Size\n"
          ]
        },
        {
          "output_type": "stream",
          "name": "stderr",
          "text": [
            "140/10000000      7.58G      1.187     0.7448      1.314        481        640: 100%|██████████| 64/64 [00:55<00:00,  1.15it/s]\n",
            "                 Class     Images  Instances      Box(P          R      mAP50  mAP50-95): 100%|██████████| 2/2 [00:02<00:00,  1.02s/it]"
          ]
        },
        {
          "output_type": "stream",
          "name": "stdout",
          "text": [
            "                   all        133        894      0.895      0.862      0.893       0.51\n"
          ]
        },
        {
          "output_type": "stream",
          "name": "stderr",
          "text": [
            "\n"
          ]
        },
        {
          "output_type": "stream",
          "name": "stdout",
          "text": [
            "\n",
            "      Epoch    GPU_mem   box_loss   cls_loss   dfl_loss  Instances       Size\n"
          ]
        },
        {
          "output_type": "stream",
          "name": "stderr",
          "text": [
            "141/10000000       7.4G      1.188     0.7409       1.31        462        640: 100%|██████████| 64/64 [00:56<00:00,  1.13it/s]\n",
            "                 Class     Images  Instances      Box(P          R      mAP50  mAP50-95): 100%|██████████| 2/2 [00:01<00:00,  1.14it/s]"
          ]
        },
        {
          "output_type": "stream",
          "name": "stdout",
          "text": [
            "                   all        133        894      0.921      0.836      0.899      0.511\n"
          ]
        },
        {
          "output_type": "stream",
          "name": "stderr",
          "text": [
            "\n"
          ]
        },
        {
          "output_type": "stream",
          "name": "stdout",
          "text": [
            "\n",
            "      Epoch    GPU_mem   box_loss   cls_loss   dfl_loss  Instances       Size\n"
          ]
        },
        {
          "output_type": "stream",
          "name": "stderr",
          "text": [
            "142/10000000      8.14G       1.18      0.738      1.311        505        640: 100%|██████████| 64/64 [00:56<00:00,  1.13it/s]\n",
            "                 Class     Images  Instances      Box(P          R      mAP50  mAP50-95): 100%|██████████| 2/2 [00:01<00:00,  1.01it/s]"
          ]
        },
        {
          "output_type": "stream",
          "name": "stdout",
          "text": [
            "                   all        133        894      0.894      0.869      0.902      0.512\n"
          ]
        },
        {
          "output_type": "stream",
          "name": "stderr",
          "text": [
            "\n"
          ]
        },
        {
          "output_type": "stream",
          "name": "stdout",
          "text": [
            "\n",
            "      Epoch    GPU_mem   box_loss   cls_loss   dfl_loss  Instances       Size\n"
          ]
        },
        {
          "output_type": "stream",
          "name": "stderr",
          "text": [
            "143/10000000      7.75G      1.179     0.7374       1.31        464        640: 100%|██████████| 64/64 [00:56<00:00,  1.14it/s]\n",
            "                 Class     Images  Instances      Box(P          R      mAP50  mAP50-95): 100%|██████████| 2/2 [00:01<00:00,  1.29it/s]"
          ]
        },
        {
          "output_type": "stream",
          "name": "stdout",
          "text": [
            "                   all        133        894      0.898      0.851      0.898      0.512\n"
          ]
        },
        {
          "output_type": "stream",
          "name": "stderr",
          "text": [
            "\n"
          ]
        },
        {
          "output_type": "stream",
          "name": "stdout",
          "text": [
            "\n",
            "      Epoch    GPU_mem   box_loss   cls_loss   dfl_loss  Instances       Size\n"
          ]
        },
        {
          "output_type": "stream",
          "name": "stderr",
          "text": [
            "144/10000000      8.24G      1.173      0.736      1.301        368        640: 100%|██████████| 64/64 [00:56<00:00,  1.14it/s]\n",
            "                 Class     Images  Instances      Box(P          R      mAP50  mAP50-95): 100%|██████████| 2/2 [00:01<00:00,  1.00it/s]"
          ]
        },
        {
          "output_type": "stream",
          "name": "stdout",
          "text": [
            "                   all        133        894      0.903      0.846      0.894      0.516\n"
          ]
        },
        {
          "output_type": "stream",
          "name": "stderr",
          "text": [
            "\n"
          ]
        },
        {
          "output_type": "stream",
          "name": "stdout",
          "text": [
            "\n",
            "      Epoch    GPU_mem   box_loss   cls_loss   dfl_loss  Instances       Size\n"
          ]
        },
        {
          "output_type": "stream",
          "name": "stderr",
          "text": [
            "145/10000000      7.54G      1.181     0.7403       1.31        459        640: 100%|██████████| 64/64 [00:55<00:00,  1.15it/s]\n",
            "                 Class     Images  Instances      Box(P          R      mAP50  mAP50-95): 100%|██████████| 2/2 [00:02<00:00,  1.40s/it]"
          ]
        },
        {
          "output_type": "stream",
          "name": "stdout",
          "text": [
            "                   all        133        894      0.899      0.858      0.899      0.514\n"
          ]
        },
        {
          "output_type": "stream",
          "name": "stderr",
          "text": [
            "\n"
          ]
        },
        {
          "output_type": "stream",
          "name": "stdout",
          "text": [
            "\n",
            "      Epoch    GPU_mem   box_loss   cls_loss   dfl_loss  Instances       Size\n"
          ]
        },
        {
          "output_type": "stream",
          "name": "stderr",
          "text": [
            "146/10000000      7.63G      1.172     0.7346      1.299        483        640: 100%|██████████| 64/64 [00:56<00:00,  1.13it/s]\n",
            "                 Class     Images  Instances      Box(P          R      mAP50  mAP50-95): 100%|██████████| 2/2 [00:01<00:00,  1.08it/s]"
          ]
        },
        {
          "output_type": "stream",
          "name": "stdout",
          "text": [
            "                   all        133        894      0.899      0.866      0.899      0.516\n"
          ]
        },
        {
          "output_type": "stream",
          "name": "stderr",
          "text": [
            "\n"
          ]
        },
        {
          "output_type": "stream",
          "name": "stdout",
          "text": [
            "\n",
            "      Epoch    GPU_mem   box_loss   cls_loss   dfl_loss  Instances       Size\n"
          ]
        },
        {
          "output_type": "stream",
          "name": "stderr",
          "text": [
            "147/10000000      8.41G      1.172     0.7337      1.295        432        640: 100%|██████████| 64/64 [00:55<00:00,  1.15it/s]\n",
            "                 Class     Images  Instances      Box(P          R      mAP50  mAP50-95): 100%|██████████| 2/2 [00:01<00:00,  1.11it/s]"
          ]
        },
        {
          "output_type": "stream",
          "name": "stdout",
          "text": [
            "                   all        133        894      0.893      0.869        0.9      0.513\n"
          ]
        },
        {
          "output_type": "stream",
          "name": "stderr",
          "text": [
            "\n"
          ]
        },
        {
          "output_type": "stream",
          "name": "stdout",
          "text": [
            "\n",
            "      Epoch    GPU_mem   box_loss   cls_loss   dfl_loss  Instances       Size\n"
          ]
        },
        {
          "output_type": "stream",
          "name": "stderr",
          "text": [
            "148/10000000      7.69G      1.167     0.7322        1.3        546        640: 100%|██████████| 64/64 [00:56<00:00,  1.13it/s]\n",
            "                 Class     Images  Instances      Box(P          R      mAP50  mAP50-95): 100%|██████████| 2/2 [00:01<00:00,  1.26it/s]"
          ]
        },
        {
          "output_type": "stream",
          "name": "stdout",
          "text": [
            "                   all        133        894      0.899      0.868      0.901      0.512\n"
          ]
        },
        {
          "output_type": "stream",
          "name": "stderr",
          "text": [
            "\n"
          ]
        },
        {
          "output_type": "stream",
          "name": "stdout",
          "text": [
            "\n",
            "      Epoch    GPU_mem   box_loss   cls_loss   dfl_loss  Instances       Size\n"
          ]
        },
        {
          "output_type": "stream",
          "name": "stderr",
          "text": [
            "149/10000000      7.92G      1.165     0.7323      1.292        436        640: 100%|██████████| 64/64 [00:57<00:00,  1.12it/s]\n",
            "                 Class     Images  Instances      Box(P          R      mAP50  mAP50-95): 100%|██████████| 2/2 [00:01<00:00,  1.18it/s]"
          ]
        },
        {
          "output_type": "stream",
          "name": "stdout",
          "text": [
            "                   all        133        894        0.9      0.871      0.898      0.512\n"
          ]
        },
        {
          "output_type": "stream",
          "name": "stderr",
          "text": [
            "\n"
          ]
        },
        {
          "output_type": "stream",
          "name": "stdout",
          "text": [
            "\n",
            "      Epoch    GPU_mem   box_loss   cls_loss   dfl_loss  Instances       Size\n"
          ]
        },
        {
          "output_type": "stream",
          "name": "stderr",
          "text": [
            "150/10000000      7.72G      1.169     0.7289      1.298        498        640: 100%|██████████| 64/64 [00:57<00:00,  1.12it/s]\n",
            "                 Class     Images  Instances      Box(P          R      mAP50  mAP50-95): 100%|██████████| 2/2 [00:02<00:00,  1.23s/it]"
          ]
        },
        {
          "output_type": "stream",
          "name": "stdout",
          "text": [
            "                   all        133        894      0.908      0.868      0.902      0.512\n"
          ]
        },
        {
          "output_type": "stream",
          "name": "stderr",
          "text": [
            "\n"
          ]
        },
        {
          "output_type": "stream",
          "name": "stdout",
          "text": [
            "\n",
            "      Epoch    GPU_mem   box_loss   cls_loss   dfl_loss  Instances       Size\n"
          ]
        },
        {
          "output_type": "stream",
          "name": "stderr",
          "text": [
            "151/10000000      8.68G      1.166     0.7325      1.301        465        640: 100%|██████████| 64/64 [00:55<00:00,  1.15it/s]\n",
            "                 Class     Images  Instances      Box(P          R      mAP50  mAP50-95): 100%|██████████| 2/2 [00:02<00:00,  1.08s/it]"
          ]
        },
        {
          "output_type": "stream",
          "name": "stdout",
          "text": [
            "                   all        133        894      0.912      0.871      0.902      0.512\n"
          ]
        },
        {
          "output_type": "stream",
          "name": "stderr",
          "text": [
            "\n"
          ]
        },
        {
          "output_type": "stream",
          "name": "stdout",
          "text": [
            "\n",
            "      Epoch    GPU_mem   box_loss   cls_loss   dfl_loss  Instances       Size\n"
          ]
        },
        {
          "output_type": "stream",
          "name": "stderr",
          "text": [
            "152/10000000      8.77G       1.16      0.726      1.291        411        640: 100%|██████████| 64/64 [00:57<00:00,  1.12it/s]\n",
            "                 Class     Images  Instances      Box(P          R      mAP50  mAP50-95): 100%|██████████| 2/2 [00:02<00:00,  1.09s/it]"
          ]
        },
        {
          "output_type": "stream",
          "name": "stdout",
          "text": [
            "                   all        133        894      0.928      0.854      0.901      0.512\n"
          ]
        },
        {
          "output_type": "stream",
          "name": "stderr",
          "text": [
            "\n"
          ]
        },
        {
          "output_type": "stream",
          "name": "stdout",
          "text": [
            "\n",
            "      Epoch    GPU_mem   box_loss   cls_loss   dfl_loss  Instances       Size\n"
          ]
        },
        {
          "output_type": "stream",
          "name": "stderr",
          "text": [
            "153/10000000      7.95G      1.163     0.7273      1.296        412        640: 100%|██████████| 64/64 [00:57<00:00,  1.12it/s]\n",
            "                 Class     Images  Instances      Box(P          R      mAP50  mAP50-95): 100%|██████████| 2/2 [00:01<00:00,  1.17it/s]"
          ]
        },
        {
          "output_type": "stream",
          "name": "stdout",
          "text": [
            "                   all        133        894      0.908      0.857      0.901      0.512\n"
          ]
        },
        {
          "output_type": "stream",
          "name": "stderr",
          "text": [
            "\n"
          ]
        },
        {
          "output_type": "stream",
          "name": "stdout",
          "text": [
            "\n",
            "      Epoch    GPU_mem   box_loss   cls_loss   dfl_loss  Instances       Size\n"
          ]
        },
        {
          "output_type": "stream",
          "name": "stderr",
          "text": [
            "154/10000000      8.28G      1.165     0.7234      1.292        424        640: 100%|██████████| 64/64 [00:56<00:00,  1.13it/s]\n",
            "                 Class     Images  Instances      Box(P          R      mAP50  mAP50-95): 100%|██████████| 2/2 [00:01<00:00,  1.24it/s]"
          ]
        },
        {
          "output_type": "stream",
          "name": "stdout",
          "text": [
            "                   all        133        894      0.908       0.86      0.899      0.513\n"
          ]
        },
        {
          "output_type": "stream",
          "name": "stderr",
          "text": [
            "\n"
          ]
        },
        {
          "output_type": "stream",
          "name": "stdout",
          "text": [
            "\n",
            "      Epoch    GPU_mem   box_loss   cls_loss   dfl_loss  Instances       Size\n"
          ]
        },
        {
          "output_type": "stream",
          "name": "stderr",
          "text": [
            "155/10000000      8.09G      1.155     0.7172      1.284        466        640: 100%|██████████| 64/64 [00:56<00:00,  1.13it/s]\n",
            "                 Class     Images  Instances      Box(P          R      mAP50  mAP50-95): 100%|██████████| 2/2 [00:02<00:00,  1.36s/it]"
          ]
        },
        {
          "output_type": "stream",
          "name": "stdout",
          "text": [
            "                   all        133        894      0.893       0.87      0.901      0.519\n"
          ]
        },
        {
          "output_type": "stream",
          "name": "stderr",
          "text": [
            "\n"
          ]
        },
        {
          "output_type": "stream",
          "name": "stdout",
          "text": [
            "\n",
            "      Epoch    GPU_mem   box_loss   cls_loss   dfl_loss  Instances       Size\n"
          ]
        },
        {
          "output_type": "stream",
          "name": "stderr",
          "text": [
            "156/10000000      8.34G      1.147     0.7164      1.287        490        640: 100%|██████████| 64/64 [00:56<00:00,  1.12it/s]\n",
            "                 Class     Images  Instances      Box(P          R      mAP50  mAP50-95): 100%|██████████| 2/2 [00:01<00:00,  1.16it/s]"
          ]
        },
        {
          "output_type": "stream",
          "name": "stdout",
          "text": [
            "                   all        133        894      0.903       0.85      0.901      0.518\n"
          ]
        },
        {
          "output_type": "stream",
          "name": "stderr",
          "text": [
            "\n"
          ]
        },
        {
          "output_type": "stream",
          "name": "stdout",
          "text": [
            "\n",
            "      Epoch    GPU_mem   box_loss   cls_loss   dfl_loss  Instances       Size\n"
          ]
        },
        {
          "output_type": "stream",
          "name": "stderr",
          "text": [
            "157/10000000      7.59G      1.156      0.723      1.294        453        640: 100%|██████████| 64/64 [00:56<00:00,  1.13it/s]\n",
            "                 Class     Images  Instances      Box(P          R      mAP50  mAP50-95): 100%|██████████| 2/2 [00:01<00:00,  1.18it/s]"
          ]
        },
        {
          "output_type": "stream",
          "name": "stdout",
          "text": [
            "                   all        133        894      0.902       0.86      0.906      0.516\n"
          ]
        },
        {
          "output_type": "stream",
          "name": "stderr",
          "text": [
            "\n"
          ]
        },
        {
          "output_type": "stream",
          "name": "stdout",
          "text": [
            "\n",
            "      Epoch    GPU_mem   box_loss   cls_loss   dfl_loss  Instances       Size\n"
          ]
        },
        {
          "output_type": "stream",
          "name": "stderr",
          "text": [
            "158/10000000      8.26G      1.151     0.7126      1.281        406        640: 100%|██████████| 64/64 [00:56<00:00,  1.13it/s]\n",
            "                 Class     Images  Instances      Box(P          R      mAP50  mAP50-95): 100%|██████████| 2/2 [00:02<00:00,  1.08s/it]"
          ]
        },
        {
          "output_type": "stream",
          "name": "stdout",
          "text": [
            "                   all        133        894      0.894      0.861      0.901      0.517\n"
          ]
        },
        {
          "output_type": "stream",
          "name": "stderr",
          "text": [
            "\n"
          ]
        },
        {
          "output_type": "stream",
          "name": "stdout",
          "text": [
            "\n",
            "      Epoch    GPU_mem   box_loss   cls_loss   dfl_loss  Instances       Size\n"
          ]
        },
        {
          "output_type": "stream",
          "name": "stderr",
          "text": [
            "159/10000000      7.61G      1.161     0.7225      1.287        349        640: 100%|██████████| 64/64 [00:57<00:00,  1.12it/s]\n",
            "                 Class     Images  Instances      Box(P          R      mAP50  mAP50-95): 100%|██████████| 2/2 [00:01<00:00,  1.17it/s]"
          ]
        },
        {
          "output_type": "stream",
          "name": "stdout",
          "text": [
            "                   all        133        894      0.892      0.867        0.9      0.516\n"
          ]
        },
        {
          "output_type": "stream",
          "name": "stderr",
          "text": [
            "\n"
          ]
        },
        {
          "output_type": "stream",
          "name": "stdout",
          "text": [
            "\n",
            "      Epoch    GPU_mem   box_loss   cls_loss   dfl_loss  Instances       Size\n"
          ]
        },
        {
          "output_type": "stream",
          "name": "stderr",
          "text": [
            "160/10000000      7.93G      1.156     0.7242      1.284        390        640: 100%|██████████| 64/64 [00:56<00:00,  1.14it/s]\n",
            "                 Class     Images  Instances      Box(P          R      mAP50  mAP50-95): 100%|██████████| 2/2 [00:01<00:00,  1.16it/s]"
          ]
        },
        {
          "output_type": "stream",
          "name": "stdout",
          "text": [
            "                   all        133        894       0.91      0.845      0.901      0.515\n"
          ]
        },
        {
          "output_type": "stream",
          "name": "stderr",
          "text": [
            "\n"
          ]
        },
        {
          "output_type": "stream",
          "name": "stdout",
          "text": [
            "\n",
            "      Epoch    GPU_mem   box_loss   cls_loss   dfl_loss  Instances       Size\n"
          ]
        },
        {
          "output_type": "stream",
          "name": "stderr",
          "text": [
            "161/10000000      9.25G      1.148     0.7101      1.273        490        640: 100%|██████████| 64/64 [00:57<00:00,  1.11it/s]\n",
            "                 Class     Images  Instances      Box(P          R      mAP50  mAP50-95): 100%|██████████| 2/2 [00:02<00:00,  1.22s/it]"
          ]
        },
        {
          "output_type": "stream",
          "name": "stdout",
          "text": [
            "                   all        133        894      0.892      0.869      0.901      0.515\n"
          ]
        },
        {
          "output_type": "stream",
          "name": "stderr",
          "text": [
            "\n"
          ]
        },
        {
          "output_type": "stream",
          "name": "stdout",
          "text": [
            "\n",
            "      Epoch    GPU_mem   box_loss   cls_loss   dfl_loss  Instances       Size\n"
          ]
        },
        {
          "output_type": "stream",
          "name": "stderr",
          "text": [
            "162/10000000      8.27G      1.148     0.7185      1.281        419        640: 100%|██████████| 64/64 [00:58<00:00,  1.10it/s]\n",
            "                 Class     Images  Instances      Box(P          R      mAP50  mAP50-95): 100%|██████████| 2/2 [00:01<00:00,  1.10it/s]"
          ]
        },
        {
          "output_type": "stream",
          "name": "stdout",
          "text": [
            "                   all        133        894      0.894       0.87      0.904      0.518\n"
          ]
        },
        {
          "output_type": "stream",
          "name": "stderr",
          "text": [
            "\n"
          ]
        },
        {
          "output_type": "stream",
          "name": "stdout",
          "text": [
            "\n",
            "      Epoch    GPU_mem   box_loss   cls_loss   dfl_loss  Instances       Size\n"
          ]
        },
        {
          "output_type": "stream",
          "name": "stderr",
          "text": [
            "163/10000000      7.76G      1.141     0.7109      1.275        517        640: 100%|██████████| 64/64 [00:57<00:00,  1.11it/s]\n",
            "                 Class     Images  Instances      Box(P          R      mAP50  mAP50-95): 100%|██████████| 2/2 [00:01<00:00,  1.06it/s]"
          ]
        },
        {
          "output_type": "stream",
          "name": "stdout",
          "text": [
            "                   all        133        894      0.918      0.836      0.902      0.518\n"
          ]
        },
        {
          "output_type": "stream",
          "name": "stderr",
          "text": [
            "\n"
          ]
        },
        {
          "output_type": "stream",
          "name": "stdout",
          "text": [
            "\n",
            "      Epoch    GPU_mem   box_loss   cls_loss   dfl_loss  Instances       Size\n"
          ]
        },
        {
          "output_type": "stream",
          "name": "stderr",
          "text": [
            "164/10000000      7.76G      1.151      0.714      1.275        438        640: 100%|██████████| 64/64 [00:56<00:00,  1.13it/s]\n",
            "                 Class     Images  Instances      Box(P          R      mAP50  mAP50-95): 100%|██████████| 2/2 [00:01<00:00,  1.03it/s]"
          ]
        },
        {
          "output_type": "stream",
          "name": "stdout",
          "text": [
            "                   all        133        894      0.898      0.858      0.902      0.517\n"
          ]
        },
        {
          "output_type": "stream",
          "name": "stderr",
          "text": [
            "\n"
          ]
        },
        {
          "output_type": "stream",
          "name": "stdout",
          "text": [
            "\n",
            "      Epoch    GPU_mem   box_loss   cls_loss   dfl_loss  Instances       Size\n"
          ]
        },
        {
          "output_type": "stream",
          "name": "stderr",
          "text": [
            "165/10000000      8.62G      1.141      0.706      1.279        523        640: 100%|██████████| 64/64 [00:56<00:00,  1.13it/s]\n",
            "                 Class     Images  Instances      Box(P          R      mAP50  mAP50-95): 100%|██████████| 2/2 [00:02<00:00,  1.18s/it]"
          ]
        },
        {
          "output_type": "stream",
          "name": "stdout",
          "text": [
            "                   all        133        894      0.913       0.84      0.898      0.516\n"
          ]
        },
        {
          "output_type": "stream",
          "name": "stderr",
          "text": [
            "\n"
          ]
        },
        {
          "output_type": "stream",
          "name": "stdout",
          "text": [
            "\n",
            "      Epoch    GPU_mem   box_loss   cls_loss   dfl_loss  Instances       Size\n"
          ]
        },
        {
          "output_type": "stream",
          "name": "stderr",
          "text": [
            "166/10000000      7.87G      1.139     0.7065      1.271        425        640: 100%|██████████| 64/64 [00:56<00:00,  1.12it/s]\n",
            "                 Class     Images  Instances      Box(P          R      mAP50  mAP50-95): 100%|██████████| 2/2 [00:01<00:00,  1.05it/s]"
          ]
        },
        {
          "output_type": "stream",
          "name": "stdout",
          "text": [
            "                   all        133        894      0.927      0.832      0.899      0.517\n"
          ]
        },
        {
          "output_type": "stream",
          "name": "stderr",
          "text": [
            "\n"
          ]
        },
        {
          "output_type": "stream",
          "name": "stdout",
          "text": [
            "\n",
            "      Epoch    GPU_mem   box_loss   cls_loss   dfl_loss  Instances       Size\n"
          ]
        },
        {
          "output_type": "stream",
          "name": "stderr",
          "text": [
            "167/10000000      7.85G      1.147     0.7137      1.279        488        640: 100%|██████████| 64/64 [00:57<00:00,  1.12it/s]\n",
            "                 Class     Images  Instances      Box(P          R      mAP50  mAP50-95): 100%|██████████| 2/2 [00:01<00:00,  1.02it/s]"
          ]
        },
        {
          "output_type": "stream",
          "name": "stdout",
          "text": [
            "                   all        133        894      0.917      0.842        0.9      0.516\n"
          ]
        },
        {
          "output_type": "stream",
          "name": "stderr",
          "text": [
            "\n"
          ]
        },
        {
          "output_type": "stream",
          "name": "stdout",
          "text": [
            "\n",
            "      Epoch    GPU_mem   box_loss   cls_loss   dfl_loss  Instances       Size\n"
          ]
        },
        {
          "output_type": "stream",
          "name": "stderr",
          "text": [
            "168/10000000      7.29G      1.145     0.7094      1.277        450        640: 100%|██████████| 64/64 [00:56<00:00,  1.13it/s]\n",
            "                 Class     Images  Instances      Box(P          R      mAP50  mAP50-95): 100%|██████████| 2/2 [00:01<00:00,  1.21it/s]"
          ]
        },
        {
          "output_type": "stream",
          "name": "stdout",
          "text": [
            "                   all        133        894      0.909      0.855      0.903      0.518\n"
          ]
        },
        {
          "output_type": "stream",
          "name": "stderr",
          "text": [
            "\n"
          ]
        },
        {
          "output_type": "stream",
          "name": "stdout",
          "text": [
            "\n",
            "      Epoch    GPU_mem   box_loss   cls_loss   dfl_loss  Instances       Size\n"
          ]
        },
        {
          "output_type": "stream",
          "name": "stderr",
          "text": [
            "169/10000000      8.21G      1.128     0.7006      1.267        489        640: 100%|██████████| 64/64 [00:56<00:00,  1.13it/s]\n",
            "                 Class     Images  Instances      Box(P          R      mAP50  mAP50-95): 100%|██████████| 2/2 [00:01<00:00,  1.13it/s]"
          ]
        },
        {
          "output_type": "stream",
          "name": "stdout",
          "text": [
            "                   all        133        894      0.902      0.856      0.902      0.516\n"
          ]
        },
        {
          "output_type": "stream",
          "name": "stderr",
          "text": [
            "\n"
          ]
        },
        {
          "output_type": "stream",
          "name": "stdout",
          "text": [
            "\n",
            "      Epoch    GPU_mem   box_loss   cls_loss   dfl_loss  Instances       Size\n"
          ]
        },
        {
          "output_type": "stream",
          "name": "stderr",
          "text": [
            "170/10000000       7.7G      1.134     0.7023      1.267        387        640: 100%|██████████| 64/64 [00:57<00:00,  1.12it/s]\n",
            "                 Class     Images  Instances      Box(P          R      mAP50  mAP50-95): 100%|██████████| 2/2 [00:02<00:00,  1.06s/it]"
          ]
        },
        {
          "output_type": "stream",
          "name": "stdout",
          "text": [
            "                   all        133        894       0.91      0.851      0.897      0.515\n"
          ]
        },
        {
          "output_type": "stream",
          "name": "stderr",
          "text": [
            "\n"
          ]
        },
        {
          "output_type": "stream",
          "name": "stdout",
          "text": [
            "\n",
            "      Epoch    GPU_mem   box_loss   cls_loss   dfl_loss  Instances       Size\n"
          ]
        },
        {
          "output_type": "stream",
          "name": "stderr",
          "text": [
            "171/10000000      8.61G      1.129     0.7079      1.273        429        640: 100%|██████████| 64/64 [00:55<00:00,  1.15it/s]\n",
            "                 Class     Images  Instances      Box(P          R      mAP50  mAP50-95): 100%|██████████| 2/2 [00:02<00:00,  1.50s/it]"
          ]
        },
        {
          "output_type": "stream",
          "name": "stdout",
          "text": [
            "                   all        133        894      0.902      0.865      0.902      0.517\n"
          ]
        },
        {
          "output_type": "stream",
          "name": "stderr",
          "text": [
            "\n"
          ]
        },
        {
          "output_type": "stream",
          "name": "stdout",
          "text": [
            "\n",
            "      Epoch    GPU_mem   box_loss   cls_loss   dfl_loss  Instances       Size\n"
          ]
        },
        {
          "output_type": "stream",
          "name": "stderr",
          "text": [
            "172/10000000      7.66G      1.133      0.699      1.266        451        640: 100%|██████████| 64/64 [00:57<00:00,  1.12it/s]\n",
            "                 Class     Images  Instances      Box(P          R      mAP50  mAP50-95): 100%|██████████| 2/2 [00:01<00:00,  1.15it/s]"
          ]
        },
        {
          "output_type": "stream",
          "name": "stdout",
          "text": [
            "                   all        133        894      0.896      0.865        0.9      0.518\n"
          ]
        },
        {
          "output_type": "stream",
          "name": "stderr",
          "text": [
            "\n"
          ]
        },
        {
          "output_type": "stream",
          "name": "stdout",
          "text": [
            "\n",
            "      Epoch    GPU_mem   box_loss   cls_loss   dfl_loss  Instances       Size\n"
          ]
        },
        {
          "output_type": "stream",
          "name": "stderr",
          "text": [
            "173/10000000      7.85G      1.132     0.7062      1.268        470        640: 100%|██████████| 64/64 [00:57<00:00,  1.12it/s]\n",
            "                 Class     Images  Instances      Box(P          R      mAP50  mAP50-95): 100%|██████████| 2/2 [00:01<00:00,  1.09it/s]"
          ]
        },
        {
          "output_type": "stream",
          "name": "stdout",
          "text": [
            "                   all        133        894      0.899       0.86        0.9      0.519\n"
          ]
        },
        {
          "output_type": "stream",
          "name": "stderr",
          "text": [
            "\n"
          ]
        },
        {
          "output_type": "stream",
          "name": "stdout",
          "text": [
            "\n",
            "      Epoch    GPU_mem   box_loss   cls_loss   dfl_loss  Instances       Size\n"
          ]
        },
        {
          "output_type": "stream",
          "name": "stderr",
          "text": [
            "174/10000000      8.01G      1.139     0.7028       1.26        434        640: 100%|██████████| 64/64 [00:56<00:00,  1.12it/s]\n",
            "                 Class     Images  Instances      Box(P          R      mAP50  mAP50-95): 100%|██████████| 2/2 [00:01<00:00,  1.21it/s]"
          ]
        },
        {
          "output_type": "stream",
          "name": "stdout",
          "text": [
            "                   all        133        894      0.896      0.864      0.896      0.518\n"
          ]
        },
        {
          "output_type": "stream",
          "name": "stderr",
          "text": [
            "\n"
          ]
        },
        {
          "output_type": "stream",
          "name": "stdout",
          "text": [
            "\n",
            "      Epoch    GPU_mem   box_loss   cls_loss   dfl_loss  Instances       Size\n"
          ]
        },
        {
          "output_type": "stream",
          "name": "stderr",
          "text": [
            "175/10000000      7.71G      1.118     0.6976      1.255        487        640: 100%|██████████| 64/64 [00:56<00:00,  1.12it/s]\n",
            "                 Class     Images  Instances      Box(P          R      mAP50  mAP50-95): 100%|██████████| 2/2 [00:02<00:00,  1.06s/it]"
          ]
        },
        {
          "output_type": "stream",
          "name": "stdout",
          "text": [
            "                   all        133        894      0.898      0.868      0.895      0.519\n"
          ]
        },
        {
          "output_type": "stream",
          "name": "stderr",
          "text": [
            "\n"
          ]
        },
        {
          "output_type": "stream",
          "name": "stdout",
          "text": [
            "\n",
            "      Epoch    GPU_mem   box_loss   cls_loss   dfl_loss  Instances       Size\n"
          ]
        },
        {
          "output_type": "stream",
          "name": "stderr",
          "text": [
            "176/10000000      8.15G      1.133     0.7054      1.263        536        640: 100%|██████████| 64/64 [00:56<00:00,  1.13it/s]\n",
            "                 Class     Images  Instances      Box(P          R      mAP50  mAP50-95): 100%|██████████| 2/2 [00:02<00:00,  1.40s/it]"
          ]
        },
        {
          "output_type": "stream",
          "name": "stdout",
          "text": [
            "                   all        133        894      0.892      0.871      0.899      0.521\n"
          ]
        },
        {
          "output_type": "stream",
          "name": "stderr",
          "text": [
            "\n"
          ]
        },
        {
          "output_type": "stream",
          "name": "stdout",
          "text": [
            "\n",
            "      Epoch    GPU_mem   box_loss   cls_loss   dfl_loss  Instances       Size\n"
          ]
        },
        {
          "output_type": "stream",
          "name": "stderr",
          "text": [
            "177/10000000      8.29G      1.132     0.7007      1.262        395        640: 100%|██████████| 64/64 [00:56<00:00,  1.12it/s]\n",
            "                 Class     Images  Instances      Box(P          R      mAP50  mAP50-95): 100%|██████████| 2/2 [00:02<00:00,  1.01s/it]"
          ]
        },
        {
          "output_type": "stream",
          "name": "stdout",
          "text": [
            "                   all        133        894      0.894      0.871      0.898      0.519\n"
          ]
        },
        {
          "output_type": "stream",
          "name": "stderr",
          "text": [
            "\n"
          ]
        },
        {
          "output_type": "stream",
          "name": "stdout",
          "text": [
            "\n",
            "      Epoch    GPU_mem   box_loss   cls_loss   dfl_loss  Instances       Size\n"
          ]
        },
        {
          "output_type": "stream",
          "name": "stderr",
          "text": [
            "178/10000000      8.11G       1.13     0.7015      1.259        461        640: 100%|██████████| 64/64 [00:56<00:00,  1.13it/s]\n",
            "                 Class     Images  Instances      Box(P          R      mAP50  mAP50-95): 100%|██████████| 2/2 [00:01<00:00,  1.05it/s]"
          ]
        },
        {
          "output_type": "stream",
          "name": "stdout",
          "text": [
            "                   all        133        894      0.888      0.869      0.898      0.521\n"
          ]
        },
        {
          "output_type": "stream",
          "name": "stderr",
          "text": [
            "\n"
          ]
        },
        {
          "output_type": "stream",
          "name": "stdout",
          "text": [
            "\n",
            "      Epoch    GPU_mem   box_loss   cls_loss   dfl_loss  Instances       Size\n"
          ]
        },
        {
          "output_type": "stream",
          "name": "stderr",
          "text": [
            "179/10000000      8.01G      1.118     0.6917      1.248        409        640: 100%|██████████| 64/64 [00:57<00:00,  1.12it/s]\n",
            "                 Class     Images  Instances      Box(P          R      mAP50  mAP50-95): 100%|██████████| 2/2 [00:01<00:00,  1.06it/s]"
          ]
        },
        {
          "output_type": "stream",
          "name": "stdout",
          "text": [
            "                   all        133        894      0.895      0.864        0.9       0.52\n"
          ]
        },
        {
          "output_type": "stream",
          "name": "stderr",
          "text": [
            "\n"
          ]
        },
        {
          "output_type": "stream",
          "name": "stdout",
          "text": [
            "\n",
            "      Epoch    GPU_mem   box_loss   cls_loss   dfl_loss  Instances       Size\n"
          ]
        },
        {
          "output_type": "stream",
          "name": "stderr",
          "text": [
            "180/10000000      8.11G      1.115     0.6913      1.254        445        640: 100%|██████████| 64/64 [00:56<00:00,  1.13it/s]\n",
            "                 Class     Images  Instances      Box(P          R      mAP50  mAP50-95): 100%|██████████| 2/2 [00:01<00:00,  1.15it/s]"
          ]
        },
        {
          "output_type": "stream",
          "name": "stdout",
          "text": [
            "                   all        133        894       0.89      0.864        0.9      0.521\n"
          ]
        },
        {
          "output_type": "stream",
          "name": "stderr",
          "text": [
            "\n"
          ]
        },
        {
          "output_type": "stream",
          "name": "stdout",
          "text": [
            "\n",
            "      Epoch    GPU_mem   box_loss   cls_loss   dfl_loss  Instances       Size\n"
          ]
        },
        {
          "output_type": "stream",
          "name": "stderr",
          "text": [
            "181/10000000      8.54G      1.116     0.6907      1.252        399        640: 100%|██████████| 64/64 [00:57<00:00,  1.12it/s]\n",
            "                 Class     Images  Instances      Box(P          R      mAP50  mAP50-95): 100%|██████████| 2/2 [00:02<00:00,  1.24s/it]"
          ]
        },
        {
          "output_type": "stream",
          "name": "stdout",
          "text": [
            "                   all        133        894      0.908      0.854      0.902      0.521\n"
          ]
        },
        {
          "output_type": "stream",
          "name": "stderr",
          "text": [
            "\n"
          ]
        },
        {
          "output_type": "stream",
          "name": "stdout",
          "text": [
            "\n",
            "      Epoch    GPU_mem   box_loss   cls_loss   dfl_loss  Instances       Size\n"
          ]
        },
        {
          "output_type": "stream",
          "name": "stderr",
          "text": [
            "182/10000000      8.06G      1.104     0.6865      1.243        506        640: 100%|██████████| 64/64 [00:58<00:00,  1.10it/s]\n",
            "                 Class     Images  Instances      Box(P          R      mAP50  mAP50-95): 100%|██████████| 2/2 [00:01<00:00,  1.07it/s]"
          ]
        },
        {
          "output_type": "stream",
          "name": "stdout",
          "text": [
            "                   all        133        894      0.895      0.868      0.904      0.518\n"
          ]
        },
        {
          "output_type": "stream",
          "name": "stderr",
          "text": [
            "\n"
          ]
        },
        {
          "output_type": "stream",
          "name": "stdout",
          "text": [
            "\n",
            "      Epoch    GPU_mem   box_loss   cls_loss   dfl_loss  Instances       Size\n"
          ]
        },
        {
          "output_type": "stream",
          "name": "stderr",
          "text": [
            "183/10000000      7.65G      1.114     0.6882      1.247        468        640: 100%|██████████| 64/64 [00:57<00:00,  1.11it/s]\n",
            "                 Class     Images  Instances      Box(P          R      mAP50  mAP50-95): 100%|██████████| 2/2 [00:02<00:00,  1.02s/it]"
          ]
        },
        {
          "output_type": "stream",
          "name": "stdout",
          "text": [
            "                   all        133        894      0.886      0.876      0.903      0.519\n"
          ]
        },
        {
          "output_type": "stream",
          "name": "stderr",
          "text": [
            "\n"
          ]
        },
        {
          "output_type": "stream",
          "name": "stdout",
          "text": [
            "\n",
            "      Epoch    GPU_mem   box_loss   cls_loss   dfl_loss  Instances       Size\n"
          ]
        },
        {
          "output_type": "stream",
          "name": "stderr",
          "text": [
            "184/10000000      8.08G      1.116     0.6908      1.251        495        640: 100%|██████████| 64/64 [00:57<00:00,  1.11it/s]\n",
            "                 Class     Images  Instances      Box(P          R      mAP50  mAP50-95): 100%|██████████| 2/2 [00:02<00:00,  1.15s/it]"
          ]
        },
        {
          "output_type": "stream",
          "name": "stdout",
          "text": [
            "                   all        133        894      0.886       0.88      0.904      0.522\n"
          ]
        },
        {
          "output_type": "stream",
          "name": "stderr",
          "text": [
            "\n"
          ]
        },
        {
          "output_type": "stream",
          "name": "stdout",
          "text": [
            "\n",
            "      Epoch    GPU_mem   box_loss   cls_loss   dfl_loss  Instances       Size\n"
          ]
        },
        {
          "output_type": "stream",
          "name": "stderr",
          "text": [
            "185/10000000      7.96G      1.111     0.6876      1.247        384        640: 100%|██████████| 64/64 [00:57<00:00,  1.12it/s]\n",
            "                 Class     Images  Instances      Box(P          R      mAP50  mAP50-95): 100%|██████████| 2/2 [00:02<00:00,  1.31s/it]"
          ]
        },
        {
          "output_type": "stream",
          "name": "stdout",
          "text": [
            "                   all        133        894        0.9      0.867      0.901      0.521\n"
          ]
        },
        {
          "output_type": "stream",
          "name": "stderr",
          "text": [
            "\n"
          ]
        },
        {
          "output_type": "stream",
          "name": "stdout",
          "text": [
            "\n",
            "      Epoch    GPU_mem   box_loss   cls_loss   dfl_loss  Instances       Size\n"
          ]
        },
        {
          "output_type": "stream",
          "name": "stderr",
          "text": [
            "186/10000000      7.71G      1.124     0.6914      1.253        360        640: 100%|██████████| 64/64 [00:57<00:00,  1.12it/s]\n",
            "                 Class     Images  Instances      Box(P          R      mAP50  mAP50-95): 100%|██████████| 2/2 [00:01<00:00,  1.15it/s]"
          ]
        },
        {
          "output_type": "stream",
          "name": "stdout",
          "text": [
            "                   all        133        894      0.896      0.868      0.902      0.519\n"
          ]
        },
        {
          "output_type": "stream",
          "name": "stderr",
          "text": [
            "\n"
          ]
        },
        {
          "output_type": "stream",
          "name": "stdout",
          "text": [
            "\n",
            "      Epoch    GPU_mem   box_loss   cls_loss   dfl_loss  Instances       Size\n"
          ]
        },
        {
          "output_type": "stream",
          "name": "stderr",
          "text": [
            "187/10000000      8.46G      1.108     0.6844      1.243        446        640: 100%|██████████| 64/64 [00:56<00:00,  1.12it/s]\n",
            "                 Class     Images  Instances      Box(P          R      mAP50  mAP50-95): 100%|██████████| 2/2 [00:01<00:00,  1.12it/s]"
          ]
        },
        {
          "output_type": "stream",
          "name": "stdout",
          "text": [
            "                   all        133        894        0.9      0.863        0.9      0.517\n"
          ]
        },
        {
          "output_type": "stream",
          "name": "stderr",
          "text": [
            "\n"
          ]
        },
        {
          "output_type": "stream",
          "name": "stdout",
          "text": [
            "\n",
            "      Epoch    GPU_mem   box_loss   cls_loss   dfl_loss  Instances       Size\n"
          ]
        },
        {
          "output_type": "stream",
          "name": "stderr",
          "text": [
            "188/10000000      8.39G      1.092     0.6728      1.244        386        640: 100%|██████████| 64/64 [00:57<00:00,  1.12it/s]\n",
            "                 Class     Images  Instances      Box(P          R      mAP50  mAP50-95): 100%|██████████| 2/2 [00:01<00:00,  1.16it/s]"
          ]
        },
        {
          "output_type": "stream",
          "name": "stdout",
          "text": [
            "                   all        133        894        0.9      0.863      0.901      0.518\n"
          ]
        },
        {
          "output_type": "stream",
          "name": "stderr",
          "text": [
            "\n"
          ]
        },
        {
          "output_type": "stream",
          "name": "stdout",
          "text": [
            "\n",
            "      Epoch    GPU_mem   box_loss   cls_loss   dfl_loss  Instances       Size\n"
          ]
        },
        {
          "output_type": "stream",
          "name": "stderr",
          "text": [
            "189/10000000      7.36G      1.114     0.6871      1.249        556        640: 100%|██████████| 64/64 [00:56<00:00,  1.13it/s]\n",
            "                 Class     Images  Instances      Box(P          R      mAP50  mAP50-95): 100%|██████████| 2/2 [00:02<00:00,  1.37s/it]"
          ]
        },
        {
          "output_type": "stream",
          "name": "stdout",
          "text": [
            "                   all        133        894      0.898      0.862      0.901      0.519\n"
          ]
        },
        {
          "output_type": "stream",
          "name": "stderr",
          "text": [
            "\n"
          ]
        },
        {
          "output_type": "stream",
          "name": "stdout",
          "text": [
            "\n",
            "      Epoch    GPU_mem   box_loss   cls_loss   dfl_loss  Instances       Size\n"
          ]
        },
        {
          "output_type": "stream",
          "name": "stderr",
          "text": [
            "190/10000000      7.49G      1.102     0.6792       1.24        465        640: 100%|██████████| 64/64 [00:56<00:00,  1.13it/s]\n",
            "                 Class     Images  Instances      Box(P          R      mAP50  mAP50-95): 100%|██████████| 2/2 [00:01<00:00,  1.20it/s]"
          ]
        },
        {
          "output_type": "stream",
          "name": "stdout",
          "text": [
            "                   all        133        894      0.897      0.862      0.899       0.52\n"
          ]
        },
        {
          "output_type": "stream",
          "name": "stderr",
          "text": [
            "\n"
          ]
        },
        {
          "output_type": "stream",
          "name": "stdout",
          "text": [
            "\n",
            "      Epoch    GPU_mem   box_loss   cls_loss   dfl_loss  Instances       Size\n"
          ]
        },
        {
          "output_type": "stream",
          "name": "stderr",
          "text": [
            "191/10000000       7.8G      1.113     0.6861       1.24        520        640: 100%|██████████| 64/64 [00:56<00:00,  1.13it/s]\n",
            "                 Class     Images  Instances      Box(P          R      mAP50  mAP50-95): 100%|██████████| 2/2 [00:02<00:00,  1.14s/it]"
          ]
        },
        {
          "output_type": "stream",
          "name": "stdout",
          "text": [
            "                   all        133        894      0.896      0.863      0.898      0.519\n"
          ]
        },
        {
          "output_type": "stream",
          "name": "stderr",
          "text": [
            "\n"
          ]
        },
        {
          "output_type": "stream",
          "name": "stdout",
          "text": [
            "\n",
            "      Epoch    GPU_mem   box_loss   cls_loss   dfl_loss  Instances       Size\n"
          ]
        },
        {
          "output_type": "stream",
          "name": "stderr",
          "text": [
            "192/10000000      7.77G      1.102      0.689      1.252        489        640: 100%|██████████| 64/64 [00:56<00:00,  1.13it/s]\n",
            "                 Class     Images  Instances      Box(P          R      mAP50  mAP50-95): 100%|██████████| 2/2 [00:01<00:00,  1.02it/s]"
          ]
        },
        {
          "output_type": "stream",
          "name": "stdout",
          "text": [
            "                   all        133        894      0.896      0.862      0.898      0.518\n"
          ]
        },
        {
          "output_type": "stream",
          "name": "stderr",
          "text": [
            "\n"
          ]
        },
        {
          "output_type": "stream",
          "name": "stdout",
          "text": [
            "\n",
            "      Epoch    GPU_mem   box_loss   cls_loss   dfl_loss  Instances       Size\n"
          ]
        },
        {
          "output_type": "stream",
          "name": "stderr",
          "text": [
            "193/10000000      8.04G      1.112     0.6911      1.243        579        640: 100%|██████████| 64/64 [00:57<00:00,  1.12it/s]\n",
            "                 Class     Images  Instances      Box(P          R      mAP50  mAP50-95): 100%|██████████| 2/2 [00:01<00:00,  1.05it/s]"
          ]
        },
        {
          "output_type": "stream",
          "name": "stdout",
          "text": [
            "                   all        133        894      0.895      0.865      0.899      0.517\n"
          ]
        },
        {
          "output_type": "stream",
          "name": "stderr",
          "text": [
            "\n"
          ]
        },
        {
          "output_type": "stream",
          "name": "stdout",
          "text": [
            "\n",
            "      Epoch    GPU_mem   box_loss   cls_loss   dfl_loss  Instances       Size\n"
          ]
        },
        {
          "output_type": "stream",
          "name": "stderr",
          "text": [
            "194/10000000      7.94G      1.097     0.6789      1.246        442        640: 100%|██████████| 64/64 [00:56<00:00,  1.14it/s]\n",
            "                 Class     Images  Instances      Box(P          R      mAP50  mAP50-95): 100%|██████████| 2/2 [00:02<00:00,  1.39s/it]"
          ]
        },
        {
          "output_type": "stream",
          "name": "stdout",
          "text": [
            "                   all        133        894      0.902      0.858      0.899      0.519\n"
          ]
        },
        {
          "output_type": "stream",
          "name": "stderr",
          "text": [
            "\n"
          ]
        },
        {
          "output_type": "stream",
          "name": "stdout",
          "text": [
            "\n",
            "      Epoch    GPU_mem   box_loss   cls_loss   dfl_loss  Instances       Size\n"
          ]
        },
        {
          "output_type": "stream",
          "name": "stderr",
          "text": [
            "195/10000000      8.28G      1.097     0.6854      1.237        554        640: 100%|██████████| 64/64 [00:56<00:00,  1.13it/s]\n",
            "                 Class     Images  Instances      Box(P          R      mAP50  mAP50-95): 100%|██████████| 2/2 [00:01<00:00,  1.05it/s]"
          ]
        },
        {
          "output_type": "stream",
          "name": "stdout",
          "text": [
            "                   all        133        894      0.904      0.858      0.899      0.519\n"
          ]
        },
        {
          "output_type": "stream",
          "name": "stderr",
          "text": [
            "\n"
          ]
        },
        {
          "output_type": "stream",
          "name": "stdout",
          "text": [
            "\n",
            "      Epoch    GPU_mem   box_loss   cls_loss   dfl_loss  Instances       Size\n"
          ]
        },
        {
          "output_type": "stream",
          "name": "stderr",
          "text": [
            "196/10000000      8.32G      1.093     0.6737      1.235        436        640: 100%|██████████| 64/64 [00:56<00:00,  1.13it/s]\n",
            "                 Class     Images  Instances      Box(P          R      mAP50  mAP50-95): 100%|██████████| 2/2 [00:01<00:00,  1.19it/s]"
          ]
        },
        {
          "output_type": "stream",
          "name": "stdout",
          "text": [
            "                   all        133        894      0.896      0.864        0.9      0.519\n"
          ]
        },
        {
          "output_type": "stream",
          "name": "stderr",
          "text": [
            "\n"
          ]
        },
        {
          "output_type": "stream",
          "name": "stdout",
          "text": [
            "\n",
            "      Epoch    GPU_mem   box_loss   cls_loss   dfl_loss  Instances       Size\n"
          ]
        },
        {
          "output_type": "stream",
          "name": "stderr",
          "text": [
            "197/10000000      7.82G      1.098     0.6762      1.237        429        640: 100%|██████████| 64/64 [00:57<00:00,  1.11it/s]\n",
            "                 Class     Images  Instances      Box(P          R      mAP50  mAP50-95): 100%|██████████| 2/2 [00:01<00:00,  1.10it/s]"
          ]
        },
        {
          "output_type": "stream",
          "name": "stdout",
          "text": [
            "                   all        133        894      0.888      0.869      0.901      0.518\n"
          ]
        },
        {
          "output_type": "stream",
          "name": "stderr",
          "text": [
            "\n"
          ]
        },
        {
          "output_type": "stream",
          "name": "stdout",
          "text": [
            "\n",
            "      Epoch    GPU_mem   box_loss   cls_loss   dfl_loss  Instances       Size\n"
          ]
        },
        {
          "output_type": "stream",
          "name": "stderr",
          "text": [
            "198/10000000       7.9G      1.108     0.6805      1.238        543        640: 100%|██████████| 64/64 [00:57<00:00,  1.12it/s]\n",
            "                 Class     Images  Instances      Box(P          R      mAP50  mAP50-95): 100%|██████████| 2/2 [00:01<00:00,  1.06it/s]"
          ]
        },
        {
          "output_type": "stream",
          "name": "stdout",
          "text": [
            "                   all        133        894      0.888       0.87        0.9      0.521\n"
          ]
        },
        {
          "output_type": "stream",
          "name": "stderr",
          "text": [
            "\n"
          ]
        },
        {
          "output_type": "stream",
          "name": "stdout",
          "text": [
            "\n",
            "      Epoch    GPU_mem   box_loss   cls_loss   dfl_loss  Instances       Size\n"
          ]
        },
        {
          "output_type": "stream",
          "name": "stderr",
          "text": [
            "199/10000000      7.31G      1.091     0.6731      1.235        506        640: 100%|██████████| 64/64 [00:56<00:00,  1.13it/s]\n",
            "                 Class     Images  Instances      Box(P          R      mAP50  mAP50-95): 100%|██████████| 2/2 [00:02<00:00,  1.40s/it]"
          ]
        },
        {
          "output_type": "stream",
          "name": "stdout",
          "text": [
            "                   all        133        894      0.886      0.874      0.899      0.518\n"
          ]
        },
        {
          "output_type": "stream",
          "name": "stderr",
          "text": [
            "\n"
          ]
        },
        {
          "output_type": "stream",
          "name": "stdout",
          "text": [
            "\n",
            "      Epoch    GPU_mem   box_loss   cls_loss   dfl_loss  Instances       Size\n"
          ]
        },
        {
          "output_type": "stream",
          "name": "stderr",
          "text": [
            "200/10000000      8.46G      1.089     0.6753      1.233        392        640: 100%|██████████| 64/64 [00:57<00:00,  1.11it/s]\n",
            "                 Class     Images  Instances      Box(P          R      mAP50  mAP50-95): 100%|██████████| 2/2 [00:01<00:00,  1.14it/s]"
          ]
        },
        {
          "output_type": "stream",
          "name": "stdout",
          "text": [
            "                   all        133        894      0.893      0.873      0.902      0.518\n"
          ]
        },
        {
          "output_type": "stream",
          "name": "stderr",
          "text": [
            "\n"
          ]
        },
        {
          "output_type": "stream",
          "name": "stdout",
          "text": [
            "\n",
            "      Epoch    GPU_mem   box_loss   cls_loss   dfl_loss  Instances       Size\n"
          ]
        },
        {
          "output_type": "stream",
          "name": "stderr",
          "text": [
            "201/10000000      8.72G      1.086     0.6757      1.235        406        640: 100%|██████████| 64/64 [00:57<00:00,  1.12it/s]\n",
            "                 Class     Images  Instances      Box(P          R      mAP50  mAP50-95): 100%|██████████| 2/2 [00:01<00:00,  1.09it/s]"
          ]
        },
        {
          "output_type": "stream",
          "name": "stdout",
          "text": [
            "                   all        133        894      0.894      0.873      0.901      0.519\n"
          ]
        },
        {
          "output_type": "stream",
          "name": "stderr",
          "text": [
            "\n"
          ]
        },
        {
          "output_type": "stream",
          "name": "stdout",
          "text": [
            "\n",
            "      Epoch    GPU_mem   box_loss   cls_loss   dfl_loss  Instances       Size\n"
          ]
        },
        {
          "output_type": "stream",
          "name": "stderr",
          "text": [
            "202/10000000         8G      1.092     0.6737      1.233        429        640: 100%|██████████| 64/64 [00:56<00:00,  1.12it/s]\n",
            "                 Class     Images  Instances      Box(P          R      mAP50  mAP50-95): 100%|██████████| 2/2 [00:01<00:00,  1.11it/s]"
          ]
        },
        {
          "output_type": "stream",
          "name": "stdout",
          "text": [
            "                   all        133        894      0.906      0.859      0.901      0.515\n"
          ]
        },
        {
          "output_type": "stream",
          "name": "stderr",
          "text": [
            "\n"
          ]
        },
        {
          "output_type": "stream",
          "name": "stdout",
          "text": [
            "\n",
            "      Epoch    GPU_mem   box_loss   cls_loss   dfl_loss  Instances       Size\n"
          ]
        },
        {
          "output_type": "stream",
          "name": "stderr",
          "text": [
            "203/10000000      7.54G      1.098     0.6749      1.226        521        640: 100%|██████████| 64/64 [00:56<00:00,  1.13it/s]\n",
            "                 Class     Images  Instances      Box(P          R      mAP50  mAP50-95): 100%|██████████| 2/2 [00:02<00:00,  1.12s/it]"
          ]
        },
        {
          "output_type": "stream",
          "name": "stdout",
          "text": [
            "                   all        133        894      0.917      0.855        0.9      0.514\n"
          ]
        },
        {
          "output_type": "stream",
          "name": "stderr",
          "text": [
            "\n"
          ]
        },
        {
          "output_type": "stream",
          "name": "stdout",
          "text": [
            "\n",
            "      Epoch    GPU_mem   box_loss   cls_loss   dfl_loss  Instances       Size\n"
          ]
        },
        {
          "output_type": "stream",
          "name": "stderr",
          "text": [
            "204/10000000      8.46G      1.087      0.677      1.229        593        640: 100%|██████████| 64/64 [00:56<00:00,  1.12it/s]\n",
            "                 Class     Images  Instances      Box(P          R      mAP50  mAP50-95): 100%|██████████| 2/2 [00:02<00:00,  1.13s/it]"
          ]
        },
        {
          "output_type": "stream",
          "name": "stdout",
          "text": [
            "                   all        133        894       0.92      0.856        0.9      0.514\n"
          ]
        },
        {
          "output_type": "stream",
          "name": "stderr",
          "text": [
            "\n"
          ]
        },
        {
          "output_type": "stream",
          "name": "stdout",
          "text": [
            "\n",
            "      Epoch    GPU_mem   box_loss   cls_loss   dfl_loss  Instances       Size\n"
          ]
        },
        {
          "output_type": "stream",
          "name": "stderr",
          "text": [
            "205/10000000      7.69G       1.09     0.6726       1.23        461        640: 100%|██████████| 64/64 [00:56<00:00,  1.13it/s]\n",
            "                 Class     Images  Instances      Box(P          R      mAP50  mAP50-95): 100%|██████████| 2/2 [00:01<00:00,  1.12it/s]"
          ]
        },
        {
          "output_type": "stream",
          "name": "stdout",
          "text": [
            "                   all        133        894      0.903      0.863      0.899      0.515\n"
          ]
        },
        {
          "output_type": "stream",
          "name": "stderr",
          "text": [
            "\n"
          ]
        },
        {
          "output_type": "stream",
          "name": "stdout",
          "text": [
            "\n",
            "      Epoch    GPU_mem   box_loss   cls_loss   dfl_loss  Instances       Size\n"
          ]
        },
        {
          "output_type": "stream",
          "name": "stderr",
          "text": [
            "206/10000000      7.72G      1.096     0.6714      1.227        602        640: 100%|██████████| 64/64 [00:56<00:00,  1.14it/s]\n",
            "                 Class     Images  Instances      Box(P          R      mAP50  mAP50-95): 100%|██████████| 2/2 [00:01<00:00,  1.11it/s]"
          ]
        },
        {
          "output_type": "stream",
          "name": "stdout",
          "text": [
            "                   all        133        894      0.908      0.856      0.899      0.516\n"
          ]
        },
        {
          "output_type": "stream",
          "name": "stderr",
          "text": [
            "\n"
          ]
        },
        {
          "output_type": "stream",
          "name": "stdout",
          "text": [
            "\n",
            "      Epoch    GPU_mem   box_loss   cls_loss   dfl_loss  Instances       Size\n"
          ]
        },
        {
          "output_type": "stream",
          "name": "stderr",
          "text": [
            "207/10000000      7.41G      1.083     0.6707      1.227        383        640: 100%|██████████| 64/64 [00:57<00:00,  1.12it/s]\n",
            "                 Class     Images  Instances      Box(P          R      mAP50  mAP50-95): 100%|██████████| 2/2 [00:01<00:00,  1.13it/s]"
          ]
        },
        {
          "output_type": "stream",
          "name": "stdout",
          "text": [
            "                   all        133        894      0.898      0.866      0.896      0.514\n"
          ]
        },
        {
          "output_type": "stream",
          "name": "stderr",
          "text": [
            "\n"
          ]
        },
        {
          "output_type": "stream",
          "name": "stdout",
          "text": [
            "\n",
            "      Epoch    GPU_mem   box_loss   cls_loss   dfl_loss  Instances       Size\n"
          ]
        },
        {
          "output_type": "stream",
          "name": "stderr",
          "text": [
            "208/10000000      8.36G      1.091     0.6683      1.225        364        640: 100%|██████████| 64/64 [00:57<00:00,  1.11it/s]\n",
            "                 Class     Images  Instances      Box(P          R      mAP50  mAP50-95): 100%|██████████| 2/2 [00:01<00:00,  1.06it/s]"
          ]
        },
        {
          "output_type": "stream",
          "name": "stdout",
          "text": [
            "                   all        133        894      0.901      0.863      0.894      0.514\n"
          ]
        },
        {
          "output_type": "stream",
          "name": "stderr",
          "text": [
            "\n"
          ]
        },
        {
          "output_type": "stream",
          "name": "stdout",
          "text": [
            "\n",
            "      Epoch    GPU_mem   box_loss   cls_loss   dfl_loss  Instances       Size\n"
          ]
        },
        {
          "output_type": "stream",
          "name": "stderr",
          "text": [
            "209/10000000      8.18G      1.078     0.6661      1.224        486        640: 100%|██████████| 64/64 [00:56<00:00,  1.13it/s]\n",
            "                 Class     Images  Instances      Box(P          R      mAP50  mAP50-95): 100%|██████████| 2/2 [00:02<00:00,  1.37s/it]"
          ]
        },
        {
          "output_type": "stream",
          "name": "stdout",
          "text": [
            "                   all        133        894      0.902      0.863      0.894      0.514\n"
          ]
        },
        {
          "output_type": "stream",
          "name": "stderr",
          "text": [
            "\n"
          ]
        },
        {
          "output_type": "stream",
          "name": "stdout",
          "text": [
            "\n",
            "      Epoch    GPU_mem   box_loss   cls_loss   dfl_loss  Instances       Size\n"
          ]
        },
        {
          "output_type": "stream",
          "name": "stderr",
          "text": [
            "210/10000000      8.46G      1.085     0.6643      1.226        467        640: 100%|██████████| 64/64 [00:55<00:00,  1.14it/s]\n",
            "                 Class     Images  Instances      Box(P          R      mAP50  mAP50-95): 100%|██████████| 2/2 [00:01<00:00,  1.03it/s]"
          ]
        },
        {
          "output_type": "stream",
          "name": "stdout",
          "text": [
            "                   all        133        894        0.9      0.866      0.894      0.515\n"
          ]
        },
        {
          "output_type": "stream",
          "name": "stderr",
          "text": [
            "\n"
          ]
        },
        {
          "output_type": "stream",
          "name": "stdout",
          "text": [
            "\n",
            "      Epoch    GPU_mem   box_loss   cls_loss   dfl_loss  Instances       Size\n"
          ]
        },
        {
          "output_type": "stream",
          "name": "stderr",
          "text": [
            "211/10000000      7.97G      1.069     0.6639      1.225        393        640: 100%|██████████| 64/64 [00:57<00:00,  1.12it/s]\n",
            "                 Class     Images  Instances      Box(P          R      mAP50  mAP50-95): 100%|██████████| 2/2 [00:01<00:00,  1.11it/s]"
          ]
        },
        {
          "output_type": "stream",
          "name": "stdout",
          "text": [
            "                   all        133        894      0.898      0.865      0.893      0.513\n"
          ]
        },
        {
          "output_type": "stream",
          "name": "stderr",
          "text": [
            "\n"
          ]
        },
        {
          "output_type": "stream",
          "name": "stdout",
          "text": [
            "\n",
            "      Epoch    GPU_mem   box_loss   cls_loss   dfl_loss  Instances       Size\n"
          ]
        },
        {
          "output_type": "stream",
          "name": "stderr",
          "text": [
            "212/10000000       8.4G      1.074     0.6651      1.222        413        640: 100%|██████████| 64/64 [00:57<00:00,  1.11it/s]\n",
            "                 Class     Images  Instances      Box(P          R      mAP50  mAP50-95): 100%|██████████| 2/2 [00:01<00:00,  1.21it/s]"
          ]
        },
        {
          "output_type": "stream",
          "name": "stdout",
          "text": [
            "                   all        133        894      0.897      0.866      0.894      0.512\n"
          ]
        },
        {
          "output_type": "stream",
          "name": "stderr",
          "text": [
            "\n"
          ]
        },
        {
          "output_type": "stream",
          "name": "stdout",
          "text": [
            "\n",
            "      Epoch    GPU_mem   box_loss   cls_loss   dfl_loss  Instances       Size\n"
          ]
        },
        {
          "output_type": "stream",
          "name": "stderr",
          "text": [
            "213/10000000      8.54G      1.074     0.6607      1.212        494        640: 100%|██████████| 64/64 [00:57<00:00,  1.11it/s]\n",
            "                 Class     Images  Instances      Box(P          R      mAP50  mAP50-95): 100%|██████████| 2/2 [00:01<00:00,  1.23it/s]"
          ]
        },
        {
          "output_type": "stream",
          "name": "stdout",
          "text": [
            "                   all        133        894      0.902      0.862      0.896      0.512\n"
          ]
        },
        {
          "output_type": "stream",
          "name": "stderr",
          "text": [
            "\n"
          ]
        },
        {
          "output_type": "stream",
          "name": "stdout",
          "text": [
            "\n",
            "      Epoch    GPU_mem   box_loss   cls_loss   dfl_loss  Instances       Size\n"
          ]
        },
        {
          "output_type": "stream",
          "name": "stderr",
          "text": [
            "214/10000000      8.55G      1.088     0.6654      1.224        375        640: 100%|██████████| 64/64 [00:56<00:00,  1.13it/s]\n",
            "                 Class     Images  Instances      Box(P          R      mAP50  mAP50-95): 100%|██████████| 2/2 [00:02<00:00,  1.21s/it]"
          ]
        },
        {
          "output_type": "stream",
          "name": "stdout",
          "text": [
            "                   all        133        894      0.903      0.856      0.895      0.513\n"
          ]
        },
        {
          "output_type": "stream",
          "name": "stderr",
          "text": [
            "\n"
          ]
        },
        {
          "output_type": "stream",
          "name": "stdout",
          "text": [
            "\n",
            "      Epoch    GPU_mem   box_loss   cls_loss   dfl_loss  Instances       Size\n"
          ]
        },
        {
          "output_type": "stream",
          "name": "stderr",
          "text": [
            "215/10000000      8.62G      1.077     0.6621      1.216        555        640: 100%|██████████| 64/64 [00:55<00:00,  1.15it/s]\n",
            "                 Class     Images  Instances      Box(P          R      mAP50  mAP50-95): 100%|██████████| 2/2 [00:02<00:00,  1.28s/it]"
          ]
        },
        {
          "output_type": "stream",
          "name": "stdout",
          "text": [
            "                   all        133        894      0.906      0.854      0.896      0.511\n"
          ]
        },
        {
          "output_type": "stream",
          "name": "stderr",
          "text": [
            "\n"
          ]
        },
        {
          "output_type": "stream",
          "name": "stdout",
          "text": [
            "\n",
            "      Epoch    GPU_mem   box_loss   cls_loss   dfl_loss  Instances       Size\n"
          ]
        },
        {
          "output_type": "stream",
          "name": "stderr",
          "text": [
            "216/10000000      7.72G      1.076     0.6606      1.218        568        640: 100%|██████████| 64/64 [00:56<00:00,  1.14it/s]\n",
            "                 Class     Images  Instances      Box(P          R      mAP50  mAP50-95): 100%|██████████| 2/2 [00:01<00:00,  1.05it/s]"
          ]
        },
        {
          "output_type": "stream",
          "name": "stdout",
          "text": [
            "                   all        133        894      0.908      0.851      0.896      0.511\n"
          ]
        },
        {
          "output_type": "stream",
          "name": "stderr",
          "text": [
            "\n"
          ]
        },
        {
          "output_type": "stream",
          "name": "stdout",
          "text": [
            "\n",
            "      Epoch    GPU_mem   box_loss   cls_loss   dfl_loss  Instances       Size\n"
          ]
        },
        {
          "output_type": "stream",
          "name": "stderr",
          "text": [
            "217/10000000      7.87G      1.074     0.6582      1.213        443        640: 100%|██████████| 64/64 [00:56<00:00,  1.14it/s]\n",
            "                 Class     Images  Instances      Box(P          R      mAP50  mAP50-95): 100%|██████████| 2/2 [00:01<00:00,  1.05it/s]"
          ]
        },
        {
          "output_type": "stream",
          "name": "stdout",
          "text": [
            "                   all        133        894      0.911      0.848      0.896      0.513\n"
          ]
        },
        {
          "output_type": "stream",
          "name": "stderr",
          "text": [
            "\n"
          ]
        },
        {
          "output_type": "stream",
          "name": "stdout",
          "text": [
            "\n",
            "      Epoch    GPU_mem   box_loss   cls_loss   dfl_loss  Instances       Size\n"
          ]
        },
        {
          "output_type": "stream",
          "name": "stderr",
          "text": [
            "218/10000000      8.51G      1.069     0.6559      1.212        523        640: 100%|██████████| 64/64 [00:56<00:00,  1.13it/s]\n",
            "                 Class     Images  Instances      Box(P          R      mAP50  mAP50-95): 100%|██████████| 2/2 [00:01<00:00,  1.10it/s]"
          ]
        },
        {
          "output_type": "stream",
          "name": "stdout",
          "text": [
            "                   all        133        894      0.912      0.848      0.896      0.512\n"
          ]
        },
        {
          "output_type": "stream",
          "name": "stderr",
          "text": [
            "\n"
          ]
        },
        {
          "output_type": "stream",
          "name": "stdout",
          "text": [
            "\n",
            "      Epoch    GPU_mem   box_loss   cls_loss   dfl_loss  Instances       Size\n"
          ]
        },
        {
          "output_type": "stream",
          "name": "stderr",
          "text": [
            "219/10000000      8.35G      1.066     0.6602      1.212        485        640: 100%|██████████| 64/64 [00:56<00:00,  1.13it/s]\n",
            "                 Class     Images  Instances      Box(P          R      mAP50  mAP50-95): 100%|██████████| 2/2 [00:01<00:00,  1.26it/s]"
          ]
        },
        {
          "output_type": "stream",
          "name": "stdout",
          "text": [
            "                   all        133        894      0.909      0.852      0.896      0.512\n"
          ]
        },
        {
          "output_type": "stream",
          "name": "stderr",
          "text": [
            "\n"
          ]
        },
        {
          "output_type": "stream",
          "name": "stdout",
          "text": [
            "\n",
            "      Epoch    GPU_mem   box_loss   cls_loss   dfl_loss  Instances       Size\n"
          ]
        },
        {
          "output_type": "stream",
          "name": "stderr",
          "text": [
            "220/10000000      8.03G      1.066      0.657      1.213        437        640: 100%|██████████| 64/64 [00:56<00:00,  1.13it/s]\n",
            "                 Class     Images  Instances      Box(P          R      mAP50  mAP50-95): 100%|██████████| 2/2 [00:02<00:00,  1.13s/it]"
          ]
        },
        {
          "output_type": "stream",
          "name": "stdout",
          "text": [
            "                   all        133        894      0.911       0.85      0.896      0.513\n"
          ]
        },
        {
          "output_type": "stream",
          "name": "stderr",
          "text": [
            "\n"
          ]
        },
        {
          "output_type": "stream",
          "name": "stdout",
          "text": [
            "\n",
            "      Epoch    GPU_mem   box_loss   cls_loss   dfl_loss  Instances       Size\n"
          ]
        },
        {
          "output_type": "stream",
          "name": "stderr",
          "text": [
            "221/10000000       7.7G      1.063     0.6523      1.205        458        640: 100%|██████████| 64/64 [00:55<00:00,  1.14it/s]\n",
            "                 Class     Images  Instances      Box(P          R      mAP50  mAP50-95): 100%|██████████| 2/2 [00:02<00:00,  1.19s/it]"
          ]
        },
        {
          "output_type": "stream",
          "name": "stdout",
          "text": [
            "                   all        133        894      0.915      0.851      0.897      0.512\n"
          ]
        },
        {
          "output_type": "stream",
          "name": "stderr",
          "text": [
            "\n"
          ]
        },
        {
          "output_type": "stream",
          "name": "stdout",
          "text": [
            "\n",
            "      Epoch    GPU_mem   box_loss   cls_loss   dfl_loss  Instances       Size\n"
          ]
        },
        {
          "output_type": "stream",
          "name": "stderr",
          "text": [
            "222/10000000      7.99G      1.057     0.6511      1.203        506        640: 100%|██████████| 64/64 [00:57<00:00,  1.12it/s]\n",
            "                 Class     Images  Instances      Box(P          R      mAP50  mAP50-95): 100%|██████████| 2/2 [00:01<00:00,  1.11it/s]"
          ]
        },
        {
          "output_type": "stream",
          "name": "stdout",
          "text": [
            "                   all        133        894      0.916      0.853      0.898       0.51\n"
          ]
        },
        {
          "output_type": "stream",
          "name": "stderr",
          "text": [
            "\n"
          ]
        },
        {
          "output_type": "stream",
          "name": "stdout",
          "text": [
            "\n",
            "      Epoch    GPU_mem   box_loss   cls_loss   dfl_loss  Instances       Size\n"
          ]
        },
        {
          "output_type": "stream",
          "name": "stderr",
          "text": [
            "223/10000000      7.42G      1.061     0.6513      1.213        496        640: 100%|██████████| 64/64 [00:56<00:00,  1.13it/s]\n",
            "                 Class     Images  Instances      Box(P          R      mAP50  mAP50-95): 100%|██████████| 2/2 [00:01<00:00,  1.16it/s]"
          ]
        },
        {
          "output_type": "stream",
          "name": "stdout",
          "text": [
            "                   all        133        894      0.916      0.853      0.898      0.511\n"
          ]
        },
        {
          "output_type": "stream",
          "name": "stderr",
          "text": [
            "\n"
          ]
        },
        {
          "output_type": "stream",
          "name": "stdout",
          "text": [
            "\n",
            "      Epoch    GPU_mem   box_loss   cls_loss   dfl_loss  Instances       Size\n"
          ]
        },
        {
          "output_type": "stream",
          "name": "stderr",
          "text": [
            "224/10000000      7.46G      1.058     0.6505      1.209        436        640: 100%|██████████| 64/64 [00:56<00:00,  1.12it/s]\n",
            "                 Class     Images  Instances      Box(P          R      mAP50  mAP50-95): 100%|██████████| 2/2 [00:01<00:00,  1.20it/s]"
          ]
        },
        {
          "output_type": "stream",
          "name": "stdout",
          "text": [
            "                   all        133        894      0.911      0.854      0.898      0.511\n"
          ]
        },
        {
          "output_type": "stream",
          "name": "stderr",
          "text": [
            "\n"
          ]
        },
        {
          "output_type": "stream",
          "name": "stdout",
          "text": [
            "\n",
            "      Epoch    GPU_mem   box_loss   cls_loss   dfl_loss  Instances       Size\n"
          ]
        },
        {
          "output_type": "stream",
          "name": "stderr",
          "text": [
            "225/10000000      8.95G      1.067     0.6509      1.207        563        640: 100%|██████████| 64/64 [00:56<00:00,  1.14it/s]\n",
            "                 Class     Images  Instances      Box(P          R      mAP50  mAP50-95): 100%|██████████| 2/2 [00:01<00:00,  1.05it/s]"
          ]
        },
        {
          "output_type": "stream",
          "name": "stdout",
          "text": [
            "                   all        133        894      0.912      0.856      0.899       0.51\n"
          ]
        },
        {
          "output_type": "stream",
          "name": "stderr",
          "text": [
            "\n"
          ]
        },
        {
          "output_type": "stream",
          "name": "stdout",
          "text": [
            "\n",
            "      Epoch    GPU_mem   box_loss   cls_loss   dfl_loss  Instances       Size\n"
          ]
        },
        {
          "output_type": "stream",
          "name": "stderr",
          "text": [
            "226/10000000      7.68G      1.057     0.6478      1.206        518        640: 100%|██████████| 64/64 [00:56<00:00,  1.13it/s]\n",
            "                 Class     Images  Instances      Box(P          R      mAP50  mAP50-95): 100%|██████████| 2/2 [00:01<00:00,  1.22it/s]"
          ]
        },
        {
          "output_type": "stream",
          "name": "stdout",
          "text": [
            "                   all        133        894       0.91      0.857        0.9       0.51\n"
          ]
        },
        {
          "output_type": "stream",
          "name": "stderr",
          "text": [
            "\n"
          ]
        },
        {
          "output_type": "stream",
          "name": "stdout",
          "text": [
            "\n",
            "      Epoch    GPU_mem   box_loss   cls_loss   dfl_loss  Instances       Size\n"
          ]
        },
        {
          "output_type": "stream",
          "name": "stderr",
          "text": [
            "227/10000000      8.66G      1.063     0.6506      1.208        501        640: 100%|██████████| 64/64 [00:57<00:00,  1.11it/s]\n",
            "                 Class     Images  Instances      Box(P          R      mAP50  mAP50-95): 100%|██████████| 2/2 [00:02<00:00,  1.39s/it]"
          ]
        },
        {
          "output_type": "stream",
          "name": "stdout",
          "text": [
            "                   all        133        894      0.905      0.856      0.899       0.51\n"
          ]
        },
        {
          "output_type": "stream",
          "name": "stderr",
          "text": [
            "\n"
          ]
        },
        {
          "output_type": "stream",
          "name": "stdout",
          "text": [
            "\n",
            "      Epoch    GPU_mem   box_loss   cls_loss   dfl_loss  Instances       Size\n"
          ]
        },
        {
          "output_type": "stream",
          "name": "stderr",
          "text": [
            "228/10000000      8.27G      1.046     0.6422      1.203        451        640: 100%|██████████| 64/64 [00:57<00:00,  1.11it/s]\n",
            "                 Class     Images  Instances      Box(P          R      mAP50  mAP50-95): 100%|██████████| 2/2 [00:01<00:00,  1.21it/s]"
          ]
        },
        {
          "output_type": "stream",
          "name": "stdout",
          "text": [
            "                   all        133        894      0.902      0.857      0.899       0.51\n"
          ]
        },
        {
          "output_type": "stream",
          "name": "stderr",
          "text": [
            "\n"
          ]
        },
        {
          "output_type": "stream",
          "name": "stdout",
          "text": [
            "\n",
            "      Epoch    GPU_mem   box_loss   cls_loss   dfl_loss  Instances       Size\n"
          ]
        },
        {
          "output_type": "stream",
          "name": "stderr",
          "text": [
            "229/10000000      7.87G      1.063     0.6563      1.208        543        640: 100%|██████████| 64/64 [00:58<00:00,  1.10it/s]\n",
            "                 Class     Images  Instances      Box(P          R      mAP50  mAP50-95): 100%|██████████| 2/2 [00:01<00:00,  1.07it/s]"
          ]
        },
        {
          "output_type": "stream",
          "name": "stdout",
          "text": [
            "                   all        133        894      0.904      0.857        0.9       0.51\n"
          ]
        },
        {
          "output_type": "stream",
          "name": "stderr",
          "text": [
            "\n"
          ]
        },
        {
          "output_type": "stream",
          "name": "stdout",
          "text": [
            "\n",
            "      Epoch    GPU_mem   box_loss   cls_loss   dfl_loss  Instances       Size\n"
          ]
        },
        {
          "output_type": "stream",
          "name": "stderr",
          "text": [
            "230/10000000      8.45G      1.064     0.6507      1.207        525        640: 100%|██████████| 64/64 [00:57<00:00,  1.12it/s]\n",
            "                 Class     Images  Instances      Box(P          R      mAP50  mAP50-95): 100%|██████████| 2/2 [00:01<00:00,  1.04it/s]"
          ]
        },
        {
          "output_type": "stream",
          "name": "stdout",
          "text": [
            "                   all        133        894      0.904      0.857        0.9      0.511\n"
          ]
        },
        {
          "output_type": "stream",
          "name": "stderr",
          "text": [
            "\n"
          ]
        },
        {
          "output_type": "stream",
          "name": "stdout",
          "text": [
            "\n",
            "      Epoch    GPU_mem   box_loss   cls_loss   dfl_loss  Instances       Size\n"
          ]
        },
        {
          "output_type": "stream",
          "name": "stderr",
          "text": [
            "231/10000000      8.64G      1.057     0.6509      1.204        461        640: 100%|██████████| 64/64 [00:56<00:00,  1.14it/s]\n",
            "                 Class     Images  Instances      Box(P          R      mAP50  mAP50-95): 100%|██████████| 2/2 [00:01<00:00,  1.03it/s]"
          ]
        },
        {
          "output_type": "stream",
          "name": "stdout",
          "text": [
            "                   all        133        894      0.904      0.856        0.9      0.511\n"
          ]
        },
        {
          "output_type": "stream",
          "name": "stderr",
          "text": [
            "\n"
          ]
        },
        {
          "output_type": "stream",
          "name": "stdout",
          "text": [
            "\n",
            "      Epoch    GPU_mem   box_loss   cls_loss   dfl_loss  Instances       Size\n"
          ]
        },
        {
          "output_type": "stream",
          "name": "stderr",
          "text": [
            "232/10000000       8.5G      1.052     0.6453      1.205        405        640: 100%|██████████| 64/64 [00:56<00:00,  1.14it/s]\n",
            "                 Class     Images  Instances      Box(P          R      mAP50  mAP50-95): 100%|██████████| 2/2 [00:02<00:00,  1.27s/it]"
          ]
        },
        {
          "output_type": "stream",
          "name": "stdout",
          "text": [
            "                   all        133        894      0.904      0.853        0.9      0.513\n"
          ]
        },
        {
          "output_type": "stream",
          "name": "stderr",
          "text": [
            "\n"
          ]
        },
        {
          "output_type": "stream",
          "name": "stdout",
          "text": [
            "\n",
            "      Epoch    GPU_mem   box_loss   cls_loss   dfl_loss  Instances       Size\n"
          ]
        },
        {
          "output_type": "stream",
          "name": "stderr",
          "text": [
            "233/10000000      8.15G      1.061     0.6606       1.21        475        640: 100%|██████████| 64/64 [00:55<00:00,  1.16it/s]\n",
            "                 Class     Images  Instances      Box(P          R      mAP50  mAP50-95): 100%|██████████| 2/2 [00:02<00:00,  1.28s/it]"
          ]
        },
        {
          "output_type": "stream",
          "name": "stdout",
          "text": [
            "                   all        133        894      0.902      0.853      0.899      0.512\n"
          ]
        },
        {
          "output_type": "stream",
          "name": "stderr",
          "text": [
            "\n"
          ]
        },
        {
          "output_type": "stream",
          "name": "stdout",
          "text": [
            "\n",
            "      Epoch    GPU_mem   box_loss   cls_loss   dfl_loss  Instances       Size\n"
          ]
        },
        {
          "output_type": "stream",
          "name": "stderr",
          "text": [
            "234/10000000      8.08G      1.045     0.6387      1.198        530        640: 100%|██████████| 64/64 [00:56<00:00,  1.13it/s]\n",
            "                 Class     Images  Instances      Box(P          R      mAP50  mAP50-95): 100%|██████████| 2/2 [00:01<00:00,  1.17it/s]"
          ]
        },
        {
          "output_type": "stream",
          "name": "stdout",
          "text": [
            "                   all        133        894      0.903      0.853        0.9      0.513\n",
            "\u001b[34m\u001b[1mEarlyStopping: \u001b[0mTraining stopped early as no improvement observed in last 50 epochs. Best results observed at epoch 184, best model saved as best.pt.\n",
            "To update EarlyStopping(patience=50) pass a new patience value, i.e. `patience=300` or use `patience=0` to disable EarlyStopping.\n"
          ]
        },
        {
          "output_type": "stream",
          "name": "stderr",
          "text": [
            "\n"
          ]
        },
        {
          "output_type": "stream",
          "name": "stdout",
          "text": [
            "\n",
            "234 epochs completed in 3.903 hours.\n",
            "Optimizer stripped from runs/detect/CHV-dataset/weights/last.pt, 5.5MB\n",
            "Optimizer stripped from runs/detect/CHV-dataset/weights/best.pt, 5.5MB\n",
            "\n",
            "Validating runs/detect/CHV-dataset/weights/best.pt...\n",
            "Ultralytics 8.3.111 🚀 Python-3.11.12 torch-2.6.0+cu124 CUDA:0 (Tesla T4, 15095MiB)\n",
            "YOLO summary (fused): 100 layers, 2,582,737 parameters, 0 gradients, 6.3 GFLOPs\n"
          ]
        },
        {
          "output_type": "stream",
          "name": "stderr",
          "text": [
            "                 Class     Images  Instances      Box(P          R      mAP50  mAP50-95): 100%|██████████| 2/2 [00:01<00:00,  1.25it/s]\n"
          ]
        },
        {
          "output_type": "stream",
          "name": "stdout",
          "text": [
            "                   all        133        894      0.894      0.874      0.905      0.522\n",
            "                     0        133        398       0.91      0.818      0.884      0.506\n",
            "                     1         60        153      0.863      0.904      0.899      0.533\n",
            "                     2        129        343      0.909        0.9       0.93      0.526\n",
            "Speed: 0.2ms preprocess, 2.5ms inference, 0.0ms loss, 1.2ms postprocess per image\n",
            "Results saved to \u001b[1mruns/detect/CHV-dataset\u001b[0m\n"
          ]
        }
      ]
    },
    {
      "cell_type": "code",
      "source": [
        "import shutil\n",
        "from google.colab import files\n",
        "\n",
        "# 1. 압축\n",
        "shutil.make_archive('test_results', 'zip', '/content/runs')\n",
        "\n",
        "# 2. 다운로드\n",
        "files.download('test_results.zip')"
      ],
      "metadata": {
        "colab": {
          "base_uri": "https://localhost:8080/",
          "height": 17
        },
        "id": "iBkxfLx18Nnq",
        "outputId": "44f712e7-6c3b-483a-f7e2-dc6646840677"
      },
      "execution_count": 8,
      "outputs": [
        {
          "output_type": "display_data",
          "data": {
            "text/plain": [
              "<IPython.core.display.Javascript object>"
            ],
            "application/javascript": [
              "\n",
              "    async function download(id, filename, size) {\n",
              "      if (!google.colab.kernel.accessAllowed) {\n",
              "        return;\n",
              "      }\n",
              "      const div = document.createElement('div');\n",
              "      const label = document.createElement('label');\n",
              "      label.textContent = `Downloading \"${filename}\": `;\n",
              "      div.appendChild(label);\n",
              "      const progress = document.createElement('progress');\n",
              "      progress.max = size;\n",
              "      div.appendChild(progress);\n",
              "      document.body.appendChild(div);\n",
              "\n",
              "      const buffers = [];\n",
              "      let downloaded = 0;\n",
              "\n",
              "      const channel = await google.colab.kernel.comms.open(id);\n",
              "      // Send a message to notify the kernel that we're ready.\n",
              "      channel.send({})\n",
              "\n",
              "      for await (const message of channel.messages) {\n",
              "        // Send a message to notify the kernel that we're ready.\n",
              "        channel.send({})\n",
              "        if (message.buffers) {\n",
              "          for (const buffer of message.buffers) {\n",
              "            buffers.push(buffer);\n",
              "            downloaded += buffer.byteLength;\n",
              "            progress.value = downloaded;\n",
              "          }\n",
              "        }\n",
              "      }\n",
              "      const blob = new Blob(buffers, {type: 'application/binary'});\n",
              "      const a = document.createElement('a');\n",
              "      a.href = window.URL.createObjectURL(blob);\n",
              "      a.download = filename;\n",
              "      div.appendChild(a);\n",
              "      a.click();\n",
              "      div.remove();\n",
              "    }\n",
              "  "
            ]
          },
          "metadata": {}
        },
        {
          "output_type": "display_data",
          "data": {
            "text/plain": [
              "<IPython.core.display.Javascript object>"
            ],
            "application/javascript": [
              "download(\"download_81fa6a24-d9ce-44fb-928b-522c1781e9cf\", \"test_results.zip\", 16840067)"
            ]
          },
          "metadata": {}
        }
      ]
    },
    {
      "cell_type": "code",
      "source": [
        "# 📌 1. 필요 라이브러리 설치\n",
        "!pip install -q ultralytics matplotlib opencv-python\n",
        "\n",
        "# 📌 2. 라이브러리 임포트\n",
        "from ultralytics import YOLO\n",
        "import numpy as np\n",
        "import os\n",
        "import matplotlib.pyplot as plt\n",
        "import cv2\n",
        "from sklearn.metrics import precision_recall_curve, average_precision_score\n",
        "\n",
        "# 📌 3. 모델 로드 (본인 모델 경로로 수정)\n",
        "model = YOLO(\"/content/runs/detect/CHV-dataset/weights/best.pt\")\n",
        "\n",
        "# 📌 4. 테스트 이미지 추론 (confidence 낮게 설정해 많이 뽑기)\n",
        "results = model.predict(source=\"/content/chv-DATASET-1/test/images/\", save=False, stream=True, conf=0.001)\n",
        "\n",
        "# 📌 5. GT 및 Pred 추출\n",
        "pred_boxes = []\n",
        "gt_boxes = []\n",
        "all_scores = []\n",
        "all_labels = []\n",
        "\n",
        "label_dir = \"/content/chv-DATASET-1/test/labels\"\n",
        "\n",
        "for r in results:\n",
        "    image_path = r.path\n",
        "    image_name = os.path.basename(image_path).split('.')[0]\n",
        "\n",
        "    # ✅ 예측 박스\n",
        "    preds = r.boxes.data.cpu().numpy()  # [cls, conf, x1, y1, x2, y2]\n",
        "    pred_boxes_xyxy = preds[:, 2:] if len(preds) else np.zeros((0, 4))\n",
        "    pred_scores = preds[:, 1] if len(preds) else []\n",
        "\n",
        "    # ✅ GT 박스\n",
        "    label_path = os.path.join(label_dir, f\"{image_name}.txt\")\n",
        "    if os.path.exists(label_path):\n",
        "        with open(label_path, \"r\") as f:\n",
        "            gt = []\n",
        "            for line in f:\n",
        "                cls, x, y, w, h = map(float, line.strip().split())\n",
        "                # YOLO -> xyxy 변환\n",
        "                img = cv2.imread(image_path)\n",
        "                h_img, w_img = img.shape[:2]\n",
        "                x1 = (x - w / 2) * w_img\n",
        "                y1 = (y - h / 2) * h_img\n",
        "                x2 = (x + w / 2) * w_img\n",
        "                y2 = (y + h / 2) * h_img\n",
        "                gt.append([cls, x1, y1, x2, y2])\n",
        "            gt = np.array(gt)\n",
        "    else:\n",
        "        gt = np.array([])\n",
        "\n",
        "    # ✅ IoU 기반 매칭\n",
        "    for i, pb in enumerate(pred_boxes_xyxy):\n",
        "        ious = []\n",
        "        for gb in gt[:, 1:] if len(gt) else []:\n",
        "            # IoU 계산\n",
        "            inter_x1 = max(pb[0], gb[0])\n",
        "            inter_y1 = max(pb[1], gb[1])\n",
        "            inter_x2 = min(pb[2], gb[2])\n",
        "            inter_y2 = min(pb[3], gb[3])\n",
        "            inter_area = max(0, inter_x2 - inter_x1) * max(0, inter_y2 - inter_y1)\n",
        "            pb_area = (pb[2] - pb[0]) * (pb[3] - pb[1])\n",
        "            gb_area = (gb[2] - gb[0]) * (gb[3] - gb[1])\n",
        "            union = pb_area + gb_area - inter_area\n",
        "            iou = inter_area / union if union > 0 else 0\n",
        "            ious.append(iou)\n",
        "\n",
        "        max_iou = max(ious) if ious else 0\n",
        "        match = 1 if max_iou >= 0.5 else 0\n",
        "\n",
        "        all_scores.append(pred_scores[i])\n",
        "        all_labels.append(match)\n",
        "\n",
        "# 📌 6. Precision-Recall Curve 시각화\n",
        "if sum(all_labels) == 0:\n",
        "    print(\"⚠️ No positive class found in GT. Cannot plot PR curve.\")\n",
        "else:\n",
        "    precision, recall, thresholds = precision_recall_curve(all_labels, all_scores)\n",
        "    ap = average_precision_score(all_labels, all_scores)\n",
        "\n",
        "    plt.figure(figsize=(8, 6))\n",
        "    plt.plot(recall, precision, label=f\"AP = {ap:.3f}\")\n",
        "    plt.xlabel(\"Recall\")\n",
        "    plt.ylabel(\"Precision\")\n",
        "    plt.title(\"Precision-Recall Curve\")\n",
        "    plt.grid(True)\n",
        "    plt.legend()\n",
        "    plt.show()\n",
        "\n"
      ],
      "metadata": {
        "colab": {
          "base_uri": "https://localhost:8080/"
        },
        "id": "dfVowq3f4P15",
        "outputId": "20dfe27d-9f8f-4967-e025-d405d2dd2f4b"
      },
      "execution_count": 10,
      "outputs": [
        {
          "output_type": "stream",
          "name": "stdout",
          "text": [
            "\n",
            "image 1/133 /content/chv-DATASET-1/test/images/ppe_0001_jpg.rf.09de01d4574daed0b6b70431735c36fb.jpg: 640x640 8 0s, 4 1s, 4 2s, 9.4ms\n",
            "image 2/133 /content/chv-DATASET-1/test/images/ppe_0005_jpg.rf.951addcb6b1c7455499abdfdcdbc822b.jpg: 640x640 22 0s, 1 1, 5 2s, 8.9ms\n",
            "image 3/133 /content/chv-DATASET-1/test/images/ppe_0030_jpg.rf.3e7fa2ff2e19a52920cd2732d5d4d99a.jpg: 640x640 9 0s, 44 2s, 8.4ms\n",
            "image 4/133 /content/chv-DATASET-1/test/images/ppe_0032_jpg.rf.3d7c65ecb1342dc62dcaa9552e9072a5.jpg: 640x640 19 0s, 1 1, 18 2s, 8.3ms\n",
            "image 5/133 /content/chv-DATASET-1/test/images/ppe_0045_jpg.rf.4cac6f60788a90a864aa44bd98a9e7dc.jpg: 640x640 9 0s, 16 1s, 7 2s, 8.5ms\n",
            "image 6/133 /content/chv-DATASET-1/test/images/ppe_0061_jpg.rf.ec8dcfe8e4e742d7572483537f31740c.jpg: 640x640 8 0s, 2 1s, 1 2, 9.7ms\n",
            "image 7/133 /content/chv-DATASET-1/test/images/ppe_0067_jpg.rf.ffc788e441b4a66e2bb2e937aefd7437.jpg: 640x640 3 0s, 9 2s, 8.4ms\n",
            "image 8/133 /content/chv-DATASET-1/test/images/ppe_0089_jpg.rf.f5c60bd09fc20c864f42fe69e23adc8c.jpg: 640x640 15 0s, 5 1s, 7 2s, 8.4ms\n",
            "image 9/133 /content/chv-DATASET-1/test/images/ppe_0090_jpg.rf.3207dfb281a890d38e222624b0970a6e.jpg: 640x640 53 0s, 18 1s, 2 2s, 8.1ms\n",
            "image 10/133 /content/chv-DATASET-1/test/images/ppe_0106_jpg.rf.3f1fbebf473f2b72434e1d8aa99ef5ef.jpg: 640x640 12 0s, 4 1s, 9 2s, 9.5ms\n",
            "image 11/133 /content/chv-DATASET-1/test/images/ppe_0111_jpg.rf.19e792bcc7f4d8e84ac19d8fe9fd29e6.jpg: 640x640 45 0s, 3 1s, 18 2s, 8.9ms\n",
            "image 12/133 /content/chv-DATASET-1/test/images/ppe_0122_jpg.rf.733eae213033dbb3a79e90424bc8eec2.jpg: 640x640 18 0s, 2 1s, 19 2s, 12.0ms\n",
            "image 13/133 /content/chv-DATASET-1/test/images/ppe_0134_jpg.rf.c471e81cba044dd84a5b919dd7ab1889.jpg: 640x640 2 0s, 1 2, 8.6ms\n",
            "image 14/133 /content/chv-DATASET-1/test/images/ppe_0140_jpg.rf.2046254fcc505791bddd49aacb281158.jpg: 640x640 6 0s, 1 1, 1 2, 13.2ms\n",
            "image 15/133 /content/chv-DATASET-1/test/images/ppe_0173_jpg.rf.7de446aaf4ed508893b4dda9f94c3b8d.jpg: 640x640 11 0s, 6 2s, 17.3ms\n",
            "image 16/133 /content/chv-DATASET-1/test/images/ppe_0184_jpg.rf.cd48397008dc29b36ea64b6520ab1a88.jpg: 640x640 3 0s, 1 2, 11.4ms\n",
            "image 17/133 /content/chv-DATASET-1/test/images/ppe_0201_jpg.rf.af09517dd1974721d4f847639b53b5a2.jpg: 640x640 8 0s, 1 1, 2 2s, 9.5ms\n",
            "image 18/133 /content/chv-DATASET-1/test/images/ppe_0207_jpg.rf.de5cb5a095eaf2574217fa9b33a3aba2.jpg: 640x640 19 0s, 2 1s, 6 2s, 8.6ms\n",
            "image 19/133 /content/chv-DATASET-1/test/images/ppe_0209_jpg.rf.48719882e851629b5a38498888c2cc9d.jpg: 640x640 27 0s, 17 1s, 13 2s, 10.5ms\n",
            "image 20/133 /content/chv-DATASET-1/test/images/ppe_0218_jpg.rf.3543f416b1f428a7805a62682b640231.jpg: 640x640 61 0s, 9 1s, 59 2s, 8.6ms\n",
            "image 21/133 /content/chv-DATASET-1/test/images/ppe_0233_jpg.rf.6615507f2d8ab12be2440c66cbac07e1.jpg: 640x640 28 0s, 13 1s, 29 2s, 8.7ms\n",
            "image 22/133 /content/chv-DATASET-1/test/images/ppe_0242_jpg.rf.add249a5ed148a8083c0d7b62c79fe3c.jpg: 640x640 24 0s, 3 1s, 11 2s, 8.7ms\n",
            "image 23/133 /content/chv-DATASET-1/test/images/ppe_0244_jpg.rf.8a5986dead086405980189f591883325.jpg: 640x640 26 0s, 9 1s, 12 2s, 8.6ms\n",
            "image 24/133 /content/chv-DATASET-1/test/images/ppe_0250_jpg.rf.c8c8baf53ff454a8507f2480ed6b9e73.jpg: 640x640 17 0s, 6 1s, 6 2s, 8.6ms\n",
            "image 25/133 /content/chv-DATASET-1/test/images/ppe_0254_jpg.rf.042ecaea416d2b68749cc313b01961f5.jpg: 640x640 21 0s, 2 1s, 7 2s, 8.4ms\n",
            "image 26/133 /content/chv-DATASET-1/test/images/ppe_0260_jpg.rf.9b7f3d9b07fefae39348e9915872071d.jpg: 640x640 118 0s, 86 1s, 39 2s, 8.9ms\n",
            "image 27/133 /content/chv-DATASET-1/test/images/ppe_0273_jpg.rf.18c2b4d2c568cea08a94026213a1d371.jpg: 640x640 22 0s, 1 1, 9 2s, 8.6ms\n",
            "image 28/133 /content/chv-DATASET-1/test/images/ppe_0292_jpg.rf.7725c30737e7a6c583ca52fdcdf7b11f.jpg: 640x640 18 0s, 25 1s, 11 2s, 8.3ms\n",
            "image 29/133 /content/chv-DATASET-1/test/images/ppe_0345_jpg.rf.e5fb349ae701a7152c012fece4e4a58b.jpg: 640x640 22 0s, 12 1s, 14 2s, 8.0ms\n",
            "image 30/133 /content/chv-DATASET-1/test/images/ppe_0354_jpg.rf.117a877be62e36a931f838b2b793a180.jpg: 640x640 27 0s, 7 1s, 12 2s, 7.8ms\n",
            "image 31/133 /content/chv-DATASET-1/test/images/ppe_0359_jpg.rf.eae103eafd51a765d271fcc9079ff54a.jpg: 640x640 11 0s, 3 1s, 1 2, 8.0ms\n",
            "image 32/133 /content/chv-DATASET-1/test/images/ppe_0373_jpg.rf.749b677d7183fa774d77920b0244ee40.jpg: 640x640 56 0s, 5 1s, 10 2s, 10.3ms\n",
            "image 33/133 /content/chv-DATASET-1/test/images/ppe_0402_jpg.rf.7cf74e1386aeae4bc1869a4c56327f49.jpg: 640x640 24 0s, 1 1, 8 2s, 8.5ms\n",
            "image 34/133 /content/chv-DATASET-1/test/images/ppe_0420_jpg.rf.145001b87dd7bc1c4a5e687b619f07a7.jpg: 640x640 11 0s, 4 2s, 8.3ms\n",
            "image 35/133 /content/chv-DATASET-1/test/images/ppe_0445_jpg.rf.3370e357d7b98b5d028c18a777933b1f.jpg: 640x640 32 0s, 10 1s, 13 2s, 8.5ms\n",
            "image 36/133 /content/chv-DATASET-1/test/images/ppe_0459_jpg.rf.9ab1ca49e48f3a066257a7f0966a9fd2.jpg: 640x640 6 0s, 4 1s, 7 2s, 8.8ms\n",
            "image 37/133 /content/chv-DATASET-1/test/images/ppe_0484_jpg.rf.c4923b14224097652867b77b36030024.jpg: 640x640 9 0s, 10 2s, 10.0ms\n",
            "image 38/133 /content/chv-DATASET-1/test/images/ppe_0497_jpg.rf.4cc67487d8de29cd896a758679acb9db.jpg: 640x640 25 0s, 27 1s, 13 2s, 8.9ms\n",
            "image 39/133 /content/chv-DATASET-1/test/images/ppe_0517_jpg.rf.48d943eb4fe2531f1266ae418a4055bc.jpg: 640x640 30 0s, 29 2s, 8.3ms\n",
            "image 40/133 /content/chv-DATASET-1/test/images/ppe_0521_jpg.rf.176f204a9acbd0eb4e2ab3d2533a4723.jpg: 640x640 86 0s, 10 1s, 31 2s, 8.2ms\n",
            "image 41/133 /content/chv-DATASET-1/test/images/ppe_0543_jpg.rf.0a941622b6201b0d6b3dd6ec04981eeb.jpg: 640x640 4 0s, 1 1, 1 2, 8.4ms\n",
            "image 42/133 /content/chv-DATASET-1/test/images/ppe_0549_jpg.rf.4284d59b62ebaa7334560970d0c7ba89.jpg: 640x640 2 0s, 2 1s, 4 2s, 8.5ms\n",
            "image 43/133 /content/chv-DATASET-1/test/images/ppe_0561_jpg.rf.714d09a8e6800a645ac467539f39b135.jpg: 640x640 13 0s, 3 1s, 3 2s, 8.4ms\n",
            "image 44/133 /content/chv-DATASET-1/test/images/ppe_0580_jpg.rf.33076978856c46eef7a51e57907c1ff8.jpg: 640x640 41 0s, 16 1s, 18 2s, 8.3ms\n",
            "image 45/133 /content/chv-DATASET-1/test/images/ppe_0586_jpg.rf.47ce09c99b6a510a9a18db426ff8a8ba.jpg: 640x640 26 0s, 24 2s, 8.3ms\n",
            "image 46/133 /content/chv-DATASET-1/test/images/ppe_0596_jpg.rf.b145df7a7d1a18343f39e5e50c4a1353.jpg: 640x640 20 0s, 1 1, 6 2s, 8.5ms\n",
            "image 47/133 /content/chv-DATASET-1/test/images/ppe_0601_jpg.rf.95a3d2e4f30499e51c00e16cfa70e6f8.jpg: 640x640 2 0s, 5 1s, 4 2s, 9.0ms\n",
            "image 48/133 /content/chv-DATASET-1/test/images/ppe_0621_jpg.rf.22c9c9e8b594731336b1e68c6f59dca6.jpg: 640x640 30 0s, 7 1s, 18 2s, 9.4ms\n",
            "image 49/133 /content/chv-DATASET-1/test/images/ppe_0625_jpg.rf.4655af9a8fef3956cbdbef3a89beeac3.jpg: 640x640 18 0s, 2 1s, 22 2s, 8.3ms\n",
            "image 50/133 /content/chv-DATASET-1/test/images/ppe_0627_jpg.rf.92d6ba64cc34e8eb5c9c53fcb7adc1fc.jpg: 640x640 10 0s, 1 1, 6 2s, 9.2ms\n",
            "image 51/133 /content/chv-DATASET-1/test/images/ppe_0643_jpg.rf.cd3a9075baf343d5137ed345fddf83c6.jpg: 640x640 5 0s, 4 1s, 3 2s, 8.4ms\n",
            "image 52/133 /content/chv-DATASET-1/test/images/ppe_0657_jpg.rf.ae013daf7fb107601dad844846f09fb7.jpg: 640x640 11 0s, 3 1s, 6 2s, 8.3ms\n",
            "image 53/133 /content/chv-DATASET-1/test/images/ppe_0659_jpg.rf.510eecef35d2e41c863ba51e54942cb7.jpg: 640x640 13 0s, 3 1s, 3 2s, 8.3ms\n",
            "image 54/133 /content/chv-DATASET-1/test/images/ppe_0668_jpg.rf.d48f704fc6cf4d715e6668eb5968769e.jpg: 640x640 10 0s, 3 1s, 9 2s, 9.3ms\n",
            "image 55/133 /content/chv-DATASET-1/test/images/ppe_0677_jpg.rf.6e24847910ca584b01124d3e423920cf.jpg: 640x640 42 0s, 22 1s, 13 2s, 8.1ms\n",
            "image 56/133 /content/chv-DATASET-1/test/images/ppe_0679_jpg.rf.01bbf439127469a1a2c5a9d7bc5d994b.jpg: 640x640 11 0s, 6 2s, 8.2ms\n",
            "image 57/133 /content/chv-DATASET-1/test/images/ppe_0682_jpg.rf.763028ab140a43af59da00cdc59b3947.jpg: 640x640 12 0s, 5 1s, 2 2s, 8.2ms\n",
            "image 58/133 /content/chv-DATASET-1/test/images/ppe_0687_jpg.rf.f74aebce917a638caf4e55e3fb023587.jpg: 640x640 13 0s, 1 1, 6 2s, 8.3ms\n",
            "image 59/133 /content/chv-DATASET-1/test/images/ppe_0689_jpg.rf.34953a4e7884714bd63258be46de7ace.jpg: 640x640 21 0s, 12 1s, 11 2s, 8.2ms\n",
            "image 60/133 /content/chv-DATASET-1/test/images/ppe_0693_jpg.rf.440e1741ed59ca2cd743e11f3e26338e.jpg: 640x640 149 0s, 6 1s, 71 2s, 8.2ms\n",
            "image 61/133 /content/chv-DATASET-1/test/images/ppe_0700_jpg.rf.bb64ab9eff8519ccbf418a32a40b9d56.jpg: 640x640 15 0s, 1 1, 1 2, 9.4ms\n",
            "image 62/133 /content/chv-DATASET-1/test/images/ppe_0709_jpg.rf.4879258b56ed6f9ede26c98ac7e87e79.jpg: 640x640 6 0s, 8 1s, 2 2s, 8.4ms\n",
            "image 63/133 /content/chv-DATASET-1/test/images/ppe_0714_jpg.rf.e374dded56233c898b27f4dbb94448d5.jpg: 640x640 51 0s, 7 1s, 18 2s, 9.4ms\n",
            "image 64/133 /content/chv-DATASET-1/test/images/ppe_0718_jpg.rf.546aeaaff3c8ecf4d0db2d83a3e15c82.jpg: 640x640 6 0s, 5 1s, 3 2s, 8.6ms\n",
            "image 65/133 /content/chv-DATASET-1/test/images/ppe_0726_jpg.rf.fb220a442f53425fe2c36afcb64b449e.jpg: 640x640 51 0s, 20 1s, 19 2s, 8.4ms\n",
            "image 66/133 /content/chv-DATASET-1/test/images/ppe_0738_jpg.rf.a4aa456f3b449ddd8164767a5c447598.jpg: 640x640 12 0s, 4 1s, 4 2s, 8.2ms\n",
            "image 67/133 /content/chv-DATASET-1/test/images/ppe_0751_jpg.rf.b0fafe3d2fc15e8c3989a4aec80cd32e.jpg: 640x640 97 0s, 28 1s, 63 2s, 8.4ms\n",
            "image 68/133 /content/chv-DATASET-1/test/images/ppe_0752_jpg.rf.0fbeb6431ff9b08c0ad7028cbac4564a.jpg: 640x640 29 0s, 5 1s, 12 2s, 8.5ms\n",
            "image 69/133 /content/chv-DATASET-1/test/images/ppe_0753_jpg.rf.dda1aea0dcbbaac096dd3e13ca3c1f76.jpg: 640x640 30 0s, 8 1s, 15 2s, 8.2ms\n",
            "image 70/133 /content/chv-DATASET-1/test/images/ppe_0758_jpg.rf.97889378b80a23393654d4cd12eb5536.jpg: 640x640 21 0s, 2 1s, 21 2s, 8.4ms\n",
            "image 71/133 /content/chv-DATASET-1/test/images/ppe_0765_jpg.rf.260fafdf29ab36b23f208ee1477d87b8.jpg: 640x640 17 0s, 2 1s, 2 2s, 8.5ms\n",
            "image 72/133 /content/chv-DATASET-1/test/images/ppe_0775_jpg.rf.86afdd67cfea6d95f65544741009e061.jpg: 640x640 29 0s, 9 2s, 10.2ms\n",
            "image 73/133 /content/chv-DATASET-1/test/images/ppe_0779_jpg.rf.88d9c36ac4f75c18932cc4c5dce4e086.jpg: 640x640 3 0s, 13 1s, 16 2s, 8.7ms\n",
            "image 74/133 /content/chv-DATASET-1/test/images/ppe_0780_jpg.rf.f92db13db833b6e276e304d4deb2e18f.jpg: 640x640 32 0s, 9 1s, 38 2s, 8.3ms\n",
            "image 75/133 /content/chv-DATASET-1/test/images/ppe_0786_jpg.rf.778c1c3f4c975f4702368ced3d6d64b0.jpg: 640x640 29 0s, 15 1s, 9 2s, 8.7ms\n",
            "image 76/133 /content/chv-DATASET-1/test/images/ppe_0819_jpg.rf.a296382e208115fe23860715bff777d2.jpg: 640x640 15 0s, 6 1s, 16 2s, 8.4ms\n",
            "image 77/133 /content/chv-DATASET-1/test/images/ppe_0830_jpg.rf.2b4bfc3b3df33ba4ec057a51b978905a.jpg: 640x640 20 0s, 13 1s, 4 2s, 18.6ms\n",
            "image 78/133 /content/chv-DATASET-1/test/images/ppe_0835_jpg.rf.dacf97095d7db4546ec6311754f480e0.jpg: 640x640 11 0s, 12 2s, 12.1ms\n",
            "image 79/133 /content/chv-DATASET-1/test/images/ppe_0842_jpg.rf.6f5b9f982e2aec59952e62c2909eea6b.jpg: 640x640 5 0s, 7 1s, 3 2s, 11.7ms\n",
            "image 80/133 /content/chv-DATASET-1/test/images/ppe_0849_jpg.rf.eea9826f18dac8aa46ba1cbf4818c418.jpg: 640x640 83 0s, 28 1s, 21 2s, 8.8ms\n",
            "image 81/133 /content/chv-DATASET-1/test/images/ppe_0859_jpg.rf.e202d66cf4eaaa224476cbf822ae15f2.jpg: 640x640 12 0s, 7 1s, 4 2s, 8.3ms\n",
            "image 82/133 /content/chv-DATASET-1/test/images/ppe_0884_jpg.rf.154c3ec13c91ea0369872c8894fcad08.jpg: 640x640 11 0s, 3 2s, 8.5ms\n",
            "image 83/133 /content/chv-DATASET-1/test/images/ppe_0901_jpg.rf.35cfa06f38229f46312232060ee1d5b8.jpg: 640x640 30 0s, 21 1s, 18 2s, 8.2ms\n",
            "image 84/133 /content/chv-DATASET-1/test/images/ppe_0905_jpg.rf.a83038cb38d2f9a07c6b139b70415c01.jpg: 640x640 76 0s, 16 1s, 24 2s, 8.4ms\n",
            "image 85/133 /content/chv-DATASET-1/test/images/ppe_0921_jpg.rf.eb824743bb74151fb58fb1d79e89a57f.jpg: 640x640 40 0s, 29 1s, 10 2s, 8.4ms\n",
            "image 86/133 /content/chv-DATASET-1/test/images/ppe_0922_jpg.rf.55ea769b77fbb7fd4e13302dcb49b636.jpg: 640x640 92 0s, 5 1s, 11 2s, 8.3ms\n",
            "image 87/133 /content/chv-DATASET-1/test/images/ppe_0928_jpg.rf.9ac3439795e1fce075f9baddbaa85326.jpg: 640x640 56 0s, 2 1s, 31 2s, 10.2ms\n",
            "image 88/133 /content/chv-DATASET-1/test/images/ppe_0939_jpg.rf.66a27ae1f1665e8839555c1eb6e19e91.jpg: 640x640 3 0s, 1 1, 13 2s, 8.1ms\n",
            "image 89/133 /content/chv-DATASET-1/test/images/ppe_0946_jpg.rf.e6dbf92b50762060ab122203253fd907.jpg: 640x640 125 0s, 2 1s, 58 2s, 8.6ms\n",
            "image 90/133 /content/chv-DATASET-1/test/images/ppe_0953_jpg.rf.2ca2a641d227bbc33a48a392eb422c9d.jpg: 640x640 21 0s, 9 1s, 10 2s, 8.3ms\n",
            "image 91/133 /content/chv-DATASET-1/test/images/ppe_0963_jpg.rf.d91703631416da21bd04ab22aca0d47b.jpg: 640x640 25 0s, 17 1s, 11 2s, 8.2ms\n",
            "image 92/133 /content/chv-DATASET-1/test/images/ppe_0965_jpg.rf.5e3f068d8b9a2ee8a84fd67b089fe6dc.jpg: 640x640 57 0s, 14 1s, 28 2s, 10.5ms\n",
            "image 93/133 /content/chv-DATASET-1/test/images/ppe_0974_jpg.rf.ac78b8c570868c1438029caa150b18b4.jpg: 640x640 6 0s, 3 1s, 3 2s, 8.3ms\n",
            "image 94/133 /content/chv-DATASET-1/test/images/ppe_0982_jpg.rf.2fbb7656d74a83a23cd7055a5f53d6da.jpg: 640x640 29 0s, 2 1s, 7 2s, 9.2ms\n",
            "image 95/133 /content/chv-DATASET-1/test/images/ppe_0985_jpg.rf.8994aa005d797f231f8d47aa85081834.jpg: 640x640 28 0s, 7 1s, 14 2s, 9.4ms\n",
            "image 96/133 /content/chv-DATASET-1/test/images/ppe_1009_jpg.rf.74f54c1b38570e99316f53d1f282feab.jpg: 640x640 32 0s, 9 2s, 8.9ms\n",
            "image 97/133 /content/chv-DATASET-1/test/images/ppe_1015_jpg.rf.6ff4dd511a2908bd63819ed603b2b674.jpg: 640x640 108 0s, 8 1s, 20 2s, 9.7ms\n",
            "image 98/133 /content/chv-DATASET-1/test/images/ppe_1027_jpg.rf.4af3a1c6409ea0f989ebecf5881b2a48.jpg: 640x640 85 0s, 16 1s, 46 2s, 8.2ms\n",
            "image 99/133 /content/chv-DATASET-1/test/images/ppe_1029_jpg.rf.32d047cbfea79829f4fa4e53694880bd.jpg: 640x640 26 0s, 7 1s, 15 2s, 8.5ms\n",
            "image 100/133 /content/chv-DATASET-1/test/images/ppe_1032_jpg.rf.8ef285380e86a85fa9fba4a01e7baf8c.jpg: 640x640 33 0s, 18 1s, 27 2s, 8.1ms\n",
            "image 101/133 /content/chv-DATASET-1/test/images/ppe_1035_jpg.rf.e9465b3c949b04a67a98b0b165e3e121.jpg: 640x640 123 0s, 21 1s, 72 2s, 9.3ms\n",
            "image 102/133 /content/chv-DATASET-1/test/images/ppe_1049_jpg.rf.e3ae629e2f420646203fb8b4602aa8d6.jpg: 640x640 15 0s, 3 1s, 10 2s, 8.2ms\n",
            "image 103/133 /content/chv-DATASET-1/test/images/ppe_1073_jpg.rf.4fa956d59d5a7aeb7ba93f04e715ebbb.jpg: 640x640 68 0s, 30 1s, 31 2s, 8.2ms\n",
            "image 104/133 /content/chv-DATASET-1/test/images/ppe_1076_jpg.rf.05e8e42991a17f99909efcd3b2f0dbf6.jpg: 640x640 7 0s, 2 2s, 8.2ms\n",
            "image 105/133 /content/chv-DATASET-1/test/images/ppe_1097_jpg.rf.4202c4cfc726a407f772f516955d2956.jpg: 640x640 56 0s, 2 1s, 10 2s, 8.7ms\n",
            "image 106/133 /content/chv-DATASET-1/test/images/ppe_1104_jpg.rf.78565ed277ebbda0002434a2869fe85f.jpg: 640x640 151 0s, 4 1s, 46 2s, 8.2ms\n",
            "image 107/133 /content/chv-DATASET-1/test/images/ppe_1105_jpg.rf.354885747af91cf7b95cff34ebcd0a3e.jpg: 640x640 57 0s, 1 1, 37 2s, 8.2ms\n",
            "image 108/133 /content/chv-DATASET-1/test/images/ppe_1106_jpg.rf.304cb3fa5465d6ddd681ea728155665b.jpg: 640x640 5 0s, 1 1, 1 2, 8.3ms\n",
            "image 109/133 /content/chv-DATASET-1/test/images/ppe_1124_jpg.rf.4379401773f26966d97db8ea2e7d6432.jpg: 640x640 20 0s, 13 1s, 7 2s, 8.2ms\n",
            "image 110/133 /content/chv-DATASET-1/test/images/ppe_1126_jpg.rf.c12d6b599f835ed5294e9cd4e80f99b1.jpg: 640x640 16 0s, 12 1s, 5 2s, 8.9ms\n",
            "image 111/133 /content/chv-DATASET-1/test/images/ppe_1130_jpg.rf.1ff451011ca578ef66e968859a55c922.jpg: 640x640 11 0s, 7 1s, 4 2s, 8.9ms\n",
            "image 112/133 /content/chv-DATASET-1/test/images/ppe_1138_jpg.rf.1a5232f2286cdfcc711d071d9baf3425.jpg: 640x640 18 0s, 3 2s, 8.3ms\n",
            "image 113/133 /content/chv-DATASET-1/test/images/ppe_1140_jpg.rf.dcdc0dbbe2dc10fa2ecb201fea8ef513.jpg: 640x640 76 0s, 19 1s, 33 2s, 9.4ms\n",
            "image 114/133 /content/chv-DATASET-1/test/images/ppe_1147_jpg.rf.4a3813892d49a1b7f03d1c20bd27c79f.jpg: 640x640 31 0s, 4 1s, 26 2s, 8.3ms\n",
            "image 115/133 /content/chv-DATASET-1/test/images/ppe_1168_jpg.rf.2d0dc12fb60f582c25dabb0be2f669dd.jpg: 640x640 3 0s, 9 1s, 2 2s, 8.5ms\n",
            "image 116/133 /content/chv-DATASET-1/test/images/ppe_1170_jpg.rf.19e95c9016dbb85c644067d46b5e392c.jpg: 640x640 20 0s, 10 1s, 2 2s, 8.7ms\n",
            "image 117/133 /content/chv-DATASET-1/test/images/ppe_1197_jpg.rf.6dfb0f056d9e036b7149168c3cb67bc2.jpg: 640x640 26 0s, 6 1s, 21 2s, 8.5ms\n",
            "image 118/133 /content/chv-DATASET-1/test/images/ppe_1201_jpg.rf.db3b14e786b52ac575ae1b627a758fee.jpg: 640x640 53 0s, 1 1, 8 2s, 8.4ms\n",
            "image 119/133 /content/chv-DATASET-1/test/images/ppe_1204_jpg.rf.28ea44470fcb18d90a5609670920f349.jpg: 640x640 7 0s, 3 1s, 1 2, 8.7ms\n",
            "image 120/133 /content/chv-DATASET-1/test/images/ppe_1205_jpg.rf.aba4da2bbc5ad07a186ee2e351bd01a7.jpg: 640x640 41 0s, 1 1, 24 2s, 9.4ms\n",
            "image 121/133 /content/chv-DATASET-1/test/images/ppe_1214_jpg.rf.303bf4eeb43ac3adb0b7a1e5992b00fb.jpg: 640x640 7 0s, 1 1, 6 2s, 8.6ms\n",
            "image 122/133 /content/chv-DATASET-1/test/images/ppe_1219_jpg.rf.c8ddfd377131444b8e07d8200185ca79.jpg: 640x640 90 0s, 20 1s, 21 2s, 8.6ms\n",
            "image 123/133 /content/chv-DATASET-1/test/images/ppe_1227_jpg.rf.6b1feb58e3fc945996828537fb55f116.jpg: 640x640 67 0s, 36 1s, 20 2s, 8.6ms\n",
            "image 124/133 /content/chv-DATASET-1/test/images/ppe_1235_jpg.rf.aeb531f39da01c4a37b75caae863f49c.jpg: 640x640 61 0s, 8 2s, 8.5ms\n",
            "image 125/133 /content/chv-DATASET-1/test/images/ppe_1240_jpg.rf.b376a1c9b6e0c30cb7cc38bc7184474b.jpg: 640x640 27 0s, 1 1, 33 2s, 8.3ms\n",
            "image 126/133 /content/chv-DATASET-1/test/images/ppe_1246_jpg.rf.b20439dcba3c6682dd8188a4667e37d5.jpg: 640x640 216 0s, 12 1s, 44 2s, 10.7ms\n",
            "image 127/133 /content/chv-DATASET-1/test/images/ppe_1247_jpg.rf.47f7704f5896039b567034e1c87ceb7a.jpg: 640x640 97 0s, 18 1s, 26 2s, 10.2ms\n",
            "image 128/133 /content/chv-DATASET-1/test/images/ppe_1280_jpg.rf.972ef40c6bc4b7825e917582942f1f9e.jpg: 640x640 8 0s, 7 2s, 8.3ms\n",
            "image 129/133 /content/chv-DATASET-1/test/images/ppe_1293_jpg.rf.23b4968549b7c7a477582e071183fe3b.jpg: 640x640 104 0s, 40 1s, 74 2s, 8.8ms\n",
            "image 130/133 /content/chv-DATASET-1/test/images/ppe_1302_jpg.rf.33565b8de768430ab18036cd73c5e78b.jpg: 640x640 47 0s, 13 1s, 21 2s, 8.2ms\n",
            "image 131/133 /content/chv-DATASET-1/test/images/ppe_1307_jpg.rf.3d9f31b1d7cbd3db2e289bfc9dd47892.jpg: 640x640 49 0s, 2 1s, 7 2s, 8.2ms\n",
            "image 132/133 /content/chv-DATASET-1/test/images/ppe_1316_jpg.rf.623790a4c4201b1e0b840e9402aa789a.jpg: 640x640 56 0s, 18 1s, 38 2s, 9.8ms\n",
            "image 133/133 /content/chv-DATASET-1/test/images/ppe_1322_jpg.rf.d14d9bcf8f31694e23179b188ae3b693.jpg: 640x640 166 0s, 11 1s, 74 2s, 8.5ms\n",
            "Speed: 1.7ms preprocess, 8.9ms inference, 1.1ms postprocess per image at shape (1, 3, 640, 640)\n",
            "⚠️ No positive class found in GT. Cannot plot PR curve.\n"
          ]
        }
      ]
    },
    {
      "cell_type": "code",
      "source": [
        "from pathlib import Path\n",
        "\n",
        "# ① 이미지·라벨 디렉토리 Path로 정의\n",
        "img_dir   = Path(\"/content/chv-DATASET-1/test/images\")\n",
        "label_dir = Path(\"/content/chv-DATASET-1/test/labels\")\n",
        "\n",
        "# ② 파일 리스트 수집\n",
        "img_files   = sorted(img_dir.glob(\"*\"))        # 확장자 상관없이 전부\n",
        "label_files = sorted(label_dir.glob(\"*.txt\"))\n",
        "\n",
        "# ③ stem(확장자 뗀 기본 이름) 집합 생성\n",
        "img_stems   = {p.stem for p in img_files}\n",
        "label_stems = {p.stem for p in label_files}\n",
        "\n",
        "# ④ 교집합·차집합 계산\n",
        "common = img_stems & label_stems\n",
        "only_img   = img_stems - label_stems  # 라벨 없는 이미지\n",
        "only_label = label_stems - img_stems  # 이미지 없는 라벨\n",
        "\n",
        "# ⑤ 결과 출력\n",
        "print(f\"이미지 파일 수:  {len(img_files)}\")\n",
        "print(f\"라벨 파일 수:   {len(label_files)}\")\n",
        "print(f\"이름이 딱 맞는 쌍: {len(common)}\")\n",
        "\n",
        "if only_img:\n",
        "    print(f\"\\n⚠️ 라벨이 없는 이미지 예시 ({len(only_img)}개):\\n\",\n",
        "          list(only_img)[:10])\n",
        "if only_label:\n",
        "    print(f\"\\n⚠️ 이미지가 없는 라벨 예시 ({len(only_label)}개):\\n\",\n",
        "          list(only_label)[:10])\n"
      ],
      "metadata": {
        "colab": {
          "base_uri": "https://localhost:8080/"
        },
        "id": "duJbb7uI4V-t",
        "outputId": "3a4830ac-9e31-4dff-838e-f43276176cc2"
      },
      "execution_count": 11,
      "outputs": [
        {
          "output_type": "stream",
          "name": "stdout",
          "text": [
            "이미지 파일 수:  133\n",
            "라벨 파일 수:   133\n",
            "이름이 딱 맞는 쌍: 133\n"
          ]
        }
      ]
    },
    {
      "cell_type": "code",
      "source": [
        "# 📌 필요 라이브러리 설치 (노트북 전용)\n",
        "# !pip install -q ultralytics matplotlib opencv-python scikit-learn\n",
        "\n",
        "# 📌 라이브러리 임포트\n",
        "from ultralytics import YOLO\n",
        "from pathlib import Path\n",
        "import numpy as np\n",
        "import cv2\n",
        "import matplotlib.pyplot as plt\n",
        "from sklearn.metrics import precision_recall_curve, average_precision_score\n",
        "from collections import defaultdict\n",
        "\n",
        "# 📌 경로 설정\n",
        "MODEL_PATH = \"/content/runs/detect/CHV-dataset/weights/best.pt\"\n",
        "IMG_DIR    = Path(\"/content/chv-DATASET-1/test/images\")\n",
        "LABEL_DIR  = Path(\"/content/chv-DATASET-1/test/labels\")\n",
        "\n",
        "# 📌 클래스 번호 → 이름 매핑 (실제 CHV‑dataset 클래스명으로 수정)\n",
        "class_names = {\n",
        "    0: \"Helmet\",\n",
        "    1: \"Vest\",\n",
        "    2: \"Person\",\n",
        "    3: \"Mask\",\n",
        "    4: \"Gloves\",\n",
        "    5: \"Boots\"\n",
        "}\n",
        "\n",
        "# 📌 모델 로드\n",
        "model = YOLO(MODEL_PATH)\n",
        "\n",
        "# 📌 클래스별 스코어·레이블 저장\n",
        "scores_by_class = defaultdict(list)\n",
        "labels_by_class = defaultdict(list)\n",
        "\n",
        "# 📌 inference + GT/PRED 매칭\n",
        "for r in model.predict(source=str(IMG_DIR), stream=True, conf=0.001):\n",
        "    img_path = Path(r.path)\n",
        "    stem     = img_path.stem\n",
        "    gt_file  = LABEL_DIR / f\"{stem}.txt\"\n",
        "\n",
        "    # — GT 로드 —\n",
        "    gt_boxes, gt_classes = [], []\n",
        "    if gt_file.exists():\n",
        "        h_img, w_img = cv2.imread(str(img_path)).shape[:2]\n",
        "        for line in gt_file.read_text().splitlines():\n",
        "            cls, x, y, w, h = map(float, line.split())\n",
        "            x1 = (x - w/2) * w_img; y1 = (y - h/2) * h_img\n",
        "            x2 = (x + w/2) * w_img; y2 = (y + h/2) * h_img\n",
        "            gt_boxes.append([x1, y1, x2, y2])\n",
        "            gt_classes.append(int(cls))\n",
        "    gt_boxes   = np.array(gt_boxes)\n",
        "    gt_classes = np.array(gt_classes)\n",
        "\n",
        "    # — Pred 로드 —\n",
        "    preds = r.boxes.data.cpu().numpy()  # (n,6): x1,y1,x2,y2,conf,cls\n",
        "    if preds.size:\n",
        "        pred_boxes = preds[:, :4]\n",
        "        pred_scores = preds[:, 4]\n",
        "        pred_classes = preds[:, 5].astype(int)\n",
        "    else:\n",
        "        pred_boxes = np.zeros((0,4))\n",
        "        pred_scores = np.array([])\n",
        "        pred_classes = np.array([], dtype=int)\n",
        "\n",
        "    # — 클래스별 IoU 매칭 & 레이블 생성 —\n",
        "    for score, pb, pc in zip(pred_scores, pred_boxes, pred_classes):\n",
        "        mask = (gt_classes == pc)\n",
        "        best_iou = 0.0\n",
        "        for gb in gt_boxes[mask]:\n",
        "            ix1, iy1 = max(pb[0], gb[0]), max(pb[1], gb[1])\n",
        "            ix2, iy2 = min(pb[2], gb[2]), min(pb[3], gb[3])\n",
        "            inter = max(0, ix2-ix1) * max(0, iy2-iy1)\n",
        "            area_p = (pb[2]-pb[0])*(pb[3]-pb[1])\n",
        "            area_g = (gb[2]-gb[0])*(gb[3]-gb[1])\n",
        "            union = area_p + area_g - inter\n",
        "            if union > 0:\n",
        "                best_iou = max(best_iou, inter/union)\n",
        "        labels_by_class[pc].append(1 if best_iou >= 0.5 else 0)\n",
        "        scores_by_class[pc].append(score)\n",
        "\n",
        "# 📌 한 그래프에 클래스별 PR 커브 그리기\n",
        "plt.figure(figsize=(8,6))\n",
        "\n",
        "for cls_id, name in class_names.items():\n",
        "    y_true   = np.array(labels_by_class[cls_id])\n",
        "    y_scores = np.array(scores_by_class[cls_id])\n",
        "    if y_true.size == 0 or y_true.sum() == 0:\n",
        "        continue  # GT가 전혀 없는 클래스는 스킵\n",
        "    precision, recall, _ = precision_recall_curve(y_true, y_scores)\n",
        "    ap = average_precision_score(y_true, y_scores)\n",
        "    plt.plot(recall, precision, marker='.', label=f\"{cls_id}:{name} (AP={ap:.2f})\")\n",
        "\n",
        "plt.xlabel(\"Recall\")\n",
        "plt.ylabel(\"Precision\")\n",
        "plt.title(\"Precision-Recall Curve by Class (IoU ≥ 0.5)\")\n",
        "plt.legend(loc=\"best\")\n",
        "plt.grid(True)\n",
        "plt.tight_layout()\n",
        "plt.show()\n"
      ],
      "metadata": {
        "colab": {
          "base_uri": "https://localhost:8080/",
          "height": 1000
        },
        "id": "3118bGVu4mXd",
        "outputId": "0960cb6a-4109-48ed-a430-7735ea1c8c99"
      },
      "execution_count": 13,
      "outputs": [
        {
          "output_type": "stream",
          "name": "stdout",
          "text": [
            "\n",
            "image 1/133 /content/chv-DATASET-1/test/images/ppe_0001_jpg.rf.09de01d4574daed0b6b70431735c36fb.jpg: 640x640 8 0s, 4 1s, 4 2s, 48.2ms\n",
            "image 2/133 /content/chv-DATASET-1/test/images/ppe_0005_jpg.rf.951addcb6b1c7455499abdfdcdbc822b.jpg: 640x640 22 0s, 1 1, 5 2s, 36.8ms\n",
            "image 3/133 /content/chv-DATASET-1/test/images/ppe_0030_jpg.rf.3e7fa2ff2e19a52920cd2732d5d4d99a.jpg: 640x640 9 0s, 44 2s, 23.1ms\n",
            "image 4/133 /content/chv-DATASET-1/test/images/ppe_0032_jpg.rf.3d7c65ecb1342dc62dcaa9552e9072a5.jpg: 640x640 19 0s, 1 1, 18 2s, 17.6ms\n",
            "image 5/133 /content/chv-DATASET-1/test/images/ppe_0045_jpg.rf.4cac6f60788a90a864aa44bd98a9e7dc.jpg: 640x640 9 0s, 16 1s, 7 2s, 37.4ms\n",
            "image 6/133 /content/chv-DATASET-1/test/images/ppe_0061_jpg.rf.ec8dcfe8e4e742d7572483537f31740c.jpg: 640x640 8 0s, 2 1s, 1 2, 15.5ms\n",
            "image 7/133 /content/chv-DATASET-1/test/images/ppe_0067_jpg.rf.ffc788e441b4a66e2bb2e937aefd7437.jpg: 640x640 3 0s, 9 2s, 14.8ms\n",
            "image 8/133 /content/chv-DATASET-1/test/images/ppe_0089_jpg.rf.f5c60bd09fc20c864f42fe69e23adc8c.jpg: 640x640 15 0s, 5 1s, 7 2s, 16.3ms\n",
            "image 9/133 /content/chv-DATASET-1/test/images/ppe_0090_jpg.rf.3207dfb281a890d38e222624b0970a6e.jpg: 640x640 53 0s, 18 1s, 2 2s, 34.2ms\n",
            "image 10/133 /content/chv-DATASET-1/test/images/ppe_0106_jpg.rf.3f1fbebf473f2b72434e1d8aa99ef5ef.jpg: 640x640 12 0s, 4 1s, 9 2s, 14.3ms\n",
            "image 11/133 /content/chv-DATASET-1/test/images/ppe_0111_jpg.rf.19e792bcc7f4d8e84ac19d8fe9fd29e6.jpg: 640x640 45 0s, 3 1s, 18 2s, 15.5ms\n",
            "image 12/133 /content/chv-DATASET-1/test/images/ppe_0122_jpg.rf.733eae213033dbb3a79e90424bc8eec2.jpg: 640x640 18 0s, 2 1s, 19 2s, 28.2ms\n",
            "image 13/133 /content/chv-DATASET-1/test/images/ppe_0134_jpg.rf.c471e81cba044dd84a5b919dd7ab1889.jpg: 640x640 2 0s, 1 2, 36.4ms\n",
            "image 14/133 /content/chv-DATASET-1/test/images/ppe_0140_jpg.rf.2046254fcc505791bddd49aacb281158.jpg: 640x640 6 0s, 1 1, 1 2, 15.3ms\n",
            "image 15/133 /content/chv-DATASET-1/test/images/ppe_0173_jpg.rf.7de446aaf4ed508893b4dda9f94c3b8d.jpg: 640x640 11 0s, 6 2s, 28.1ms\n",
            "image 16/133 /content/chv-DATASET-1/test/images/ppe_0184_jpg.rf.cd48397008dc29b36ea64b6520ab1a88.jpg: 640x640 3 0s, 1 2, 28.5ms\n",
            "image 17/133 /content/chv-DATASET-1/test/images/ppe_0201_jpg.rf.af09517dd1974721d4f847639b53b5a2.jpg: 640x640 8 0s, 1 1, 2 2s, 16.0ms\n",
            "image 18/133 /content/chv-DATASET-1/test/images/ppe_0207_jpg.rf.de5cb5a095eaf2574217fa9b33a3aba2.jpg: 640x640 19 0s, 2 1s, 6 2s, 13.4ms\n",
            "image 19/133 /content/chv-DATASET-1/test/images/ppe_0209_jpg.rf.48719882e851629b5a38498888c2cc9d.jpg: 640x640 27 0s, 17 1s, 13 2s, 16.6ms\n",
            "image 20/133 /content/chv-DATASET-1/test/images/ppe_0218_jpg.rf.3543f416b1f428a7805a62682b640231.jpg: 640x640 61 0s, 9 1s, 59 2s, 15.3ms\n",
            "image 21/133 /content/chv-DATASET-1/test/images/ppe_0233_jpg.rf.6615507f2d8ab12be2440c66cbac07e1.jpg: 640x640 28 0s, 13 1s, 29 2s, 13.8ms\n",
            "image 22/133 /content/chv-DATASET-1/test/images/ppe_0242_jpg.rf.add249a5ed148a8083c0d7b62c79fe3c.jpg: 640x640 24 0s, 3 1s, 11 2s, 25.0ms\n",
            "image 23/133 /content/chv-DATASET-1/test/images/ppe_0244_jpg.rf.8a5986dead086405980189f591883325.jpg: 640x640 26 0s, 9 1s, 12 2s, 27.7ms\n",
            "image 24/133 /content/chv-DATASET-1/test/images/ppe_0250_jpg.rf.c8c8baf53ff454a8507f2480ed6b9e73.jpg: 640x640 17 0s, 6 1s, 6 2s, 26.5ms\n",
            "image 25/133 /content/chv-DATASET-1/test/images/ppe_0254_jpg.rf.042ecaea416d2b68749cc313b01961f5.jpg: 640x640 21 0s, 2 1s, 7 2s, 29.8ms\n",
            "image 26/133 /content/chv-DATASET-1/test/images/ppe_0260_jpg.rf.9b7f3d9b07fefae39348e9915872071d.jpg: 640x640 118 0s, 86 1s, 39 2s, 20.5ms\n",
            "image 27/133 /content/chv-DATASET-1/test/images/ppe_0273_jpg.rf.18c2b4d2c568cea08a94026213a1d371.jpg: 640x640 22 0s, 1 1, 9 2s, 39.9ms\n",
            "image 28/133 /content/chv-DATASET-1/test/images/ppe_0292_jpg.rf.7725c30737e7a6c583ca52fdcdf7b11f.jpg: 640x640 18 0s, 25 1s, 11 2s, 46.9ms\n",
            "image 29/133 /content/chv-DATASET-1/test/images/ppe_0345_jpg.rf.e5fb349ae701a7152c012fece4e4a58b.jpg: 640x640 22 0s, 12 1s, 14 2s, 58.2ms\n",
            "image 30/133 /content/chv-DATASET-1/test/images/ppe_0354_jpg.rf.117a877be62e36a931f838b2b793a180.jpg: 640x640 27 0s, 7 1s, 12 2s, 58.5ms\n",
            "image 31/133 /content/chv-DATASET-1/test/images/ppe_0359_jpg.rf.eae103eafd51a765d271fcc9079ff54a.jpg: 640x640 11 0s, 3 1s, 1 2, 38.2ms\n",
            "image 32/133 /content/chv-DATASET-1/test/images/ppe_0373_jpg.rf.749b677d7183fa774d77920b0244ee40.jpg: 640x640 56 0s, 5 1s, 10 2s, 50.4ms\n",
            "image 33/133 /content/chv-DATASET-1/test/images/ppe_0402_jpg.rf.7cf74e1386aeae4bc1869a4c56327f49.jpg: 640x640 24 0s, 1 1, 8 2s, 18.6ms\n",
            "image 34/133 /content/chv-DATASET-1/test/images/ppe_0420_jpg.rf.145001b87dd7bc1c4a5e687b619f07a7.jpg: 640x640 11 0s, 4 2s, 18.7ms\n",
            "image 35/133 /content/chv-DATASET-1/test/images/ppe_0445_jpg.rf.3370e357d7b98b5d028c18a777933b1f.jpg: 640x640 32 0s, 10 1s, 13 2s, 29.4ms\n",
            "image 36/133 /content/chv-DATASET-1/test/images/ppe_0459_jpg.rf.9ab1ca49e48f3a066257a7f0966a9fd2.jpg: 640x640 6 0s, 4 1s, 7 2s, 43.2ms\n",
            "image 37/133 /content/chv-DATASET-1/test/images/ppe_0484_jpg.rf.c4923b14224097652867b77b36030024.jpg: 640x640 9 0s, 10 2s, 51.7ms\n",
            "image 38/133 /content/chv-DATASET-1/test/images/ppe_0497_jpg.rf.4cc67487d8de29cd896a758679acb9db.jpg: 640x640 25 0s, 27 1s, 13 2s, 42.4ms\n",
            "image 39/133 /content/chv-DATASET-1/test/images/ppe_0517_jpg.rf.48d943eb4fe2531f1266ae418a4055bc.jpg: 640x640 30 0s, 29 2s, 42.0ms\n",
            "image 40/133 /content/chv-DATASET-1/test/images/ppe_0521_jpg.rf.176f204a9acbd0eb4e2ab3d2533a4723.jpg: 640x640 86 0s, 10 1s, 31 2s, 53.3ms\n",
            "image 41/133 /content/chv-DATASET-1/test/images/ppe_0543_jpg.rf.0a941622b6201b0d6b3dd6ec04981eeb.jpg: 640x640 4 0s, 1 1, 1 2, 61.9ms\n",
            "image 42/133 /content/chv-DATASET-1/test/images/ppe_0549_jpg.rf.4284d59b62ebaa7334560970d0c7ba89.jpg: 640x640 2 0s, 2 1s, 4 2s, 32.6ms\n",
            "image 43/133 /content/chv-DATASET-1/test/images/ppe_0561_jpg.rf.714d09a8e6800a645ac467539f39b135.jpg: 640x640 13 0s, 3 1s, 3 2s, 81.7ms\n",
            "image 44/133 /content/chv-DATASET-1/test/images/ppe_0580_jpg.rf.33076978856c46eef7a51e57907c1ff8.jpg: 640x640 41 0s, 16 1s, 18 2s, 24.3ms\n",
            "image 45/133 /content/chv-DATASET-1/test/images/ppe_0586_jpg.rf.47ce09c99b6a510a9a18db426ff8a8ba.jpg: 640x640 26 0s, 24 2s, 46.6ms\n",
            "image 46/133 /content/chv-DATASET-1/test/images/ppe_0596_jpg.rf.b145df7a7d1a18343f39e5e50c4a1353.jpg: 640x640 20 0s, 1 1, 6 2s, 58.7ms\n",
            "image 47/133 /content/chv-DATASET-1/test/images/ppe_0601_jpg.rf.95a3d2e4f30499e51c00e16cfa70e6f8.jpg: 640x640 2 0s, 5 1s, 4 2s, 36.1ms\n",
            "image 48/133 /content/chv-DATASET-1/test/images/ppe_0621_jpg.rf.22c9c9e8b594731336b1e68c6f59dca6.jpg: 640x640 30 0s, 7 1s, 18 2s, 29.5ms\n",
            "image 49/133 /content/chv-DATASET-1/test/images/ppe_0625_jpg.rf.4655af9a8fef3956cbdbef3a89beeac3.jpg: 640x640 18 0s, 2 1s, 22 2s, 32.2ms\n",
            "image 50/133 /content/chv-DATASET-1/test/images/ppe_0627_jpg.rf.92d6ba64cc34e8eb5c9c53fcb7adc1fc.jpg: 640x640 10 0s, 1 1, 6 2s, 82.4ms\n",
            "image 51/133 /content/chv-DATASET-1/test/images/ppe_0643_jpg.rf.cd3a9075baf343d5137ed345fddf83c6.jpg: 640x640 5 0s, 4 1s, 3 2s, 33.2ms\n",
            "image 52/133 /content/chv-DATASET-1/test/images/ppe_0657_jpg.rf.ae013daf7fb107601dad844846f09fb7.jpg: 640x640 11 0s, 3 1s, 6 2s, 28.0ms\n",
            "image 53/133 /content/chv-DATASET-1/test/images/ppe_0659_jpg.rf.510eecef35d2e41c863ba51e54942cb7.jpg: 640x640 13 0s, 3 1s, 3 2s, 46.2ms\n",
            "image 54/133 /content/chv-DATASET-1/test/images/ppe_0668_jpg.rf.d48f704fc6cf4d715e6668eb5968769e.jpg: 640x640 10 0s, 3 1s, 9 2s, 48.4ms\n",
            "image 55/133 /content/chv-DATASET-1/test/images/ppe_0677_jpg.rf.6e24847910ca584b01124d3e423920cf.jpg: 640x640 42 0s, 22 1s, 13 2s, 30.5ms\n",
            "image 56/133 /content/chv-DATASET-1/test/images/ppe_0679_jpg.rf.01bbf439127469a1a2c5a9d7bc5d994b.jpg: 640x640 11 0s, 6 2s, 55.3ms\n",
            "image 57/133 /content/chv-DATASET-1/test/images/ppe_0682_jpg.rf.763028ab140a43af59da00cdc59b3947.jpg: 640x640 12 0s, 5 1s, 2 2s, 39.8ms\n",
            "image 58/133 /content/chv-DATASET-1/test/images/ppe_0687_jpg.rf.f74aebce917a638caf4e55e3fb023587.jpg: 640x640 13 0s, 1 1, 6 2s, 75.8ms\n",
            "image 59/133 /content/chv-DATASET-1/test/images/ppe_0689_jpg.rf.34953a4e7884714bd63258be46de7ace.jpg: 640x640 21 0s, 12 1s, 11 2s, 36.4ms\n",
            "image 60/133 /content/chv-DATASET-1/test/images/ppe_0693_jpg.rf.440e1741ed59ca2cd743e11f3e26338e.jpg: 640x640 149 0s, 6 1s, 71 2s, 15.6ms\n",
            "image 61/133 /content/chv-DATASET-1/test/images/ppe_0700_jpg.rf.bb64ab9eff8519ccbf418a32a40b9d56.jpg: 640x640 15 0s, 1 1, 1 2, 18.7ms\n",
            "image 62/133 /content/chv-DATASET-1/test/images/ppe_0709_jpg.rf.4879258b56ed6f9ede26c98ac7e87e79.jpg: 640x640 6 0s, 8 1s, 2 2s, 25.4ms\n",
            "image 63/133 /content/chv-DATASET-1/test/images/ppe_0714_jpg.rf.e374dded56233c898b27f4dbb94448d5.jpg: 640x640 51 0s, 7 1s, 18 2s, 18.4ms\n",
            "image 64/133 /content/chv-DATASET-1/test/images/ppe_0718_jpg.rf.546aeaaff3c8ecf4d0db2d83a3e15c82.jpg: 640x640 6 0s, 5 1s, 3 2s, 48.1ms\n",
            "image 65/133 /content/chv-DATASET-1/test/images/ppe_0726_jpg.rf.fb220a442f53425fe2c36afcb64b449e.jpg: 640x640 51 0s, 20 1s, 19 2s, 36.8ms\n",
            "image 66/133 /content/chv-DATASET-1/test/images/ppe_0738_jpg.rf.a4aa456f3b449ddd8164767a5c447598.jpg: 640x640 12 0s, 4 1s, 4 2s, 12.4ms\n",
            "image 67/133 /content/chv-DATASET-1/test/images/ppe_0751_jpg.rf.b0fafe3d2fc15e8c3989a4aec80cd32e.jpg: 640x640 97 0s, 28 1s, 63 2s, 28.3ms\n",
            "image 68/133 /content/chv-DATASET-1/test/images/ppe_0752_jpg.rf.0fbeb6431ff9b08c0ad7028cbac4564a.jpg: 640x640 29 0s, 5 1s, 12 2s, 37.0ms\n",
            "image 69/133 /content/chv-DATASET-1/test/images/ppe_0753_jpg.rf.dda1aea0dcbbaac096dd3e13ca3c1f76.jpg: 640x640 30 0s, 8 1s, 15 2s, 42.3ms\n",
            "image 70/133 /content/chv-DATASET-1/test/images/ppe_0758_jpg.rf.97889378b80a23393654d4cd12eb5536.jpg: 640x640 21 0s, 2 1s, 21 2s, 47.7ms\n",
            "image 71/133 /content/chv-DATASET-1/test/images/ppe_0765_jpg.rf.260fafdf29ab36b23f208ee1477d87b8.jpg: 640x640 17 0s, 2 1s, 2 2s, 28.1ms\n",
            "image 72/133 /content/chv-DATASET-1/test/images/ppe_0775_jpg.rf.86afdd67cfea6d95f65544741009e061.jpg: 640x640 29 0s, 9 2s, 36.5ms\n",
            "image 73/133 /content/chv-DATASET-1/test/images/ppe_0779_jpg.rf.88d9c36ac4f75c18932cc4c5dce4e086.jpg: 640x640 3 0s, 13 1s, 16 2s, 27.6ms\n",
            "image 74/133 /content/chv-DATASET-1/test/images/ppe_0780_jpg.rf.f92db13db833b6e276e304d4deb2e18f.jpg: 640x640 32 0s, 9 1s, 38 2s, 23.7ms\n",
            "image 75/133 /content/chv-DATASET-1/test/images/ppe_0786_jpg.rf.778c1c3f4c975f4702368ced3d6d64b0.jpg: 640x640 29 0s, 15 1s, 9 2s, 58.6ms\n",
            "image 76/133 /content/chv-DATASET-1/test/images/ppe_0819_jpg.rf.a296382e208115fe23860715bff777d2.jpg: 640x640 15 0s, 6 1s, 16 2s, 42.3ms\n",
            "image 77/133 /content/chv-DATASET-1/test/images/ppe_0830_jpg.rf.2b4bfc3b3df33ba4ec057a51b978905a.jpg: 640x640 20 0s, 13 1s, 4 2s, 33.7ms\n",
            "image 78/133 /content/chv-DATASET-1/test/images/ppe_0835_jpg.rf.dacf97095d7db4546ec6311754f480e0.jpg: 640x640 11 0s, 12 2s, 50.1ms\n",
            "image 79/133 /content/chv-DATASET-1/test/images/ppe_0842_jpg.rf.6f5b9f982e2aec59952e62c2909eea6b.jpg: 640x640 5 0s, 7 1s, 3 2s, 34.8ms\n",
            "image 80/133 /content/chv-DATASET-1/test/images/ppe_0849_jpg.rf.eea9826f18dac8aa46ba1cbf4818c418.jpg: 640x640 83 0s, 28 1s, 21 2s, 33.3ms\n",
            "image 81/133 /content/chv-DATASET-1/test/images/ppe_0859_jpg.rf.e202d66cf4eaaa224476cbf822ae15f2.jpg: 640x640 12 0s, 7 1s, 4 2s, 16.2ms\n",
            "image 82/133 /content/chv-DATASET-1/test/images/ppe_0884_jpg.rf.154c3ec13c91ea0369872c8894fcad08.jpg: 640x640 11 0s, 3 2s, 16.9ms\n",
            "image 83/133 /content/chv-DATASET-1/test/images/ppe_0901_jpg.rf.35cfa06f38229f46312232060ee1d5b8.jpg: 640x640 30 0s, 21 1s, 18 2s, 16.2ms\n",
            "image 84/133 /content/chv-DATASET-1/test/images/ppe_0905_jpg.rf.a83038cb38d2f9a07c6b139b70415c01.jpg: 640x640 76 0s, 16 1s, 24 2s, 15.1ms\n",
            "image 85/133 /content/chv-DATASET-1/test/images/ppe_0921_jpg.rf.eb824743bb74151fb58fb1d79e89a57f.jpg: 640x640 40 0s, 29 1s, 10 2s, 15.8ms\n",
            "image 86/133 /content/chv-DATASET-1/test/images/ppe_0922_jpg.rf.55ea769b77fbb7fd4e13302dcb49b636.jpg: 640x640 92 0s, 5 1s, 11 2s, 16.8ms\n",
            "image 87/133 /content/chv-DATASET-1/test/images/ppe_0928_jpg.rf.9ac3439795e1fce075f9baddbaa85326.jpg: 640x640 56 0s, 2 1s, 31 2s, 15.8ms\n",
            "image 88/133 /content/chv-DATASET-1/test/images/ppe_0939_jpg.rf.66a27ae1f1665e8839555c1eb6e19e91.jpg: 640x640 3 0s, 1 1, 13 2s, 14.0ms\n",
            "image 89/133 /content/chv-DATASET-1/test/images/ppe_0946_jpg.rf.e6dbf92b50762060ab122203253fd907.jpg: 640x640 125 0s, 2 1s, 58 2s, 13.0ms\n",
            "image 90/133 /content/chv-DATASET-1/test/images/ppe_0953_jpg.rf.2ca2a641d227bbc33a48a392eb422c9d.jpg: 640x640 21 0s, 9 1s, 10 2s, 23.9ms\n",
            "image 91/133 /content/chv-DATASET-1/test/images/ppe_0963_jpg.rf.d91703631416da21bd04ab22aca0d47b.jpg: 640x640 25 0s, 17 1s, 11 2s, 15.1ms\n",
            "image 92/133 /content/chv-DATASET-1/test/images/ppe_0965_jpg.rf.5e3f068d8b9a2ee8a84fd67b089fe6dc.jpg: 640x640 57 0s, 14 1s, 28 2s, 16.0ms\n",
            "image 93/133 /content/chv-DATASET-1/test/images/ppe_0974_jpg.rf.ac78b8c570868c1438029caa150b18b4.jpg: 640x640 6 0s, 3 1s, 3 2s, 17.5ms\n",
            "image 94/133 /content/chv-DATASET-1/test/images/ppe_0982_jpg.rf.2fbb7656d74a83a23cd7055a5f53d6da.jpg: 640x640 29 0s, 2 1s, 7 2s, 16.8ms\n",
            "image 95/133 /content/chv-DATASET-1/test/images/ppe_0985_jpg.rf.8994aa005d797f231f8d47aa85081834.jpg: 640x640 28 0s, 7 1s, 14 2s, 15.4ms\n",
            "image 96/133 /content/chv-DATASET-1/test/images/ppe_1009_jpg.rf.74f54c1b38570e99316f53d1f282feab.jpg: 640x640 32 0s, 9 2s, 15.0ms\n",
            "image 97/133 /content/chv-DATASET-1/test/images/ppe_1015_jpg.rf.6ff4dd511a2908bd63819ed603b2b674.jpg: 640x640 108 0s, 8 1s, 20 2s, 13.1ms\n",
            "image 98/133 /content/chv-DATASET-1/test/images/ppe_1027_jpg.rf.4af3a1c6409ea0f989ebecf5881b2a48.jpg: 640x640 85 0s, 16 1s, 46 2s, 13.6ms\n",
            "image 99/133 /content/chv-DATASET-1/test/images/ppe_1029_jpg.rf.32d047cbfea79829f4fa4e53694880bd.jpg: 640x640 26 0s, 7 1s, 15 2s, 33.8ms\n",
            "image 100/133 /content/chv-DATASET-1/test/images/ppe_1032_jpg.rf.8ef285380e86a85fa9fba4a01e7baf8c.jpg: 640x640 33 0s, 18 1s, 27 2s, 14.7ms\n",
            "image 101/133 /content/chv-DATASET-1/test/images/ppe_1035_jpg.rf.e9465b3c949b04a67a98b0b165e3e121.jpg: 640x640 123 0s, 21 1s, 72 2s, 15.6ms\n",
            "image 102/133 /content/chv-DATASET-1/test/images/ppe_1049_jpg.rf.e3ae629e2f420646203fb8b4602aa8d6.jpg: 640x640 15 0s, 3 1s, 10 2s, 15.3ms\n",
            "image 103/133 /content/chv-DATASET-1/test/images/ppe_1073_jpg.rf.4fa956d59d5a7aeb7ba93f04e715ebbb.jpg: 640x640 68 0s, 30 1s, 31 2s, 19.0ms\n",
            "image 104/133 /content/chv-DATASET-1/test/images/ppe_1076_jpg.rf.05e8e42991a17f99909efcd3b2f0dbf6.jpg: 640x640 7 0s, 2 2s, 16.3ms\n",
            "image 105/133 /content/chv-DATASET-1/test/images/ppe_1097_jpg.rf.4202c4cfc726a407f772f516955d2956.jpg: 640x640 56 0s, 2 1s, 10 2s, 16.1ms\n",
            "image 106/133 /content/chv-DATASET-1/test/images/ppe_1104_jpg.rf.78565ed277ebbda0002434a2869fe85f.jpg: 640x640 151 0s, 4 1s, 46 2s, 16.0ms\n",
            "image 107/133 /content/chv-DATASET-1/test/images/ppe_1105_jpg.rf.354885747af91cf7b95cff34ebcd0a3e.jpg: 640x640 57 0s, 1 1, 37 2s, 33.5ms\n",
            "image 108/133 /content/chv-DATASET-1/test/images/ppe_1106_jpg.rf.304cb3fa5465d6ddd681ea728155665b.jpg: 640x640 5 0s, 1 1, 1 2, 16.9ms\n",
            "image 109/133 /content/chv-DATASET-1/test/images/ppe_1124_jpg.rf.4379401773f26966d97db8ea2e7d6432.jpg: 640x640 20 0s, 13 1s, 7 2s, 16.5ms\n",
            "image 110/133 /content/chv-DATASET-1/test/images/ppe_1126_jpg.rf.c12d6b599f835ed5294e9cd4e80f99b1.jpg: 640x640 16 0s, 12 1s, 5 2s, 16.7ms\n",
            "image 111/133 /content/chv-DATASET-1/test/images/ppe_1130_jpg.rf.1ff451011ca578ef66e968859a55c922.jpg: 640x640 11 0s, 7 1s, 4 2s, 14.9ms\n",
            "image 112/133 /content/chv-DATASET-1/test/images/ppe_1138_jpg.rf.1a5232f2286cdfcc711d071d9baf3425.jpg: 640x640 18 0s, 3 2s, 18.6ms\n",
            "image 113/133 /content/chv-DATASET-1/test/images/ppe_1140_jpg.rf.dcdc0dbbe2dc10fa2ecb201fea8ef513.jpg: 640x640 76 0s, 19 1s, 33 2s, 16.9ms\n",
            "image 114/133 /content/chv-DATASET-1/test/images/ppe_1147_jpg.rf.4a3813892d49a1b7f03d1c20bd27c79f.jpg: 640x640 31 0s, 4 1s, 26 2s, 17.9ms\n",
            "image 115/133 /content/chv-DATASET-1/test/images/ppe_1168_jpg.rf.2d0dc12fb60f582c25dabb0be2f669dd.jpg: 640x640 3 0s, 9 1s, 2 2s, 15.9ms\n",
            "image 116/133 /content/chv-DATASET-1/test/images/ppe_1170_jpg.rf.19e95c9016dbb85c644067d46b5e392c.jpg: 640x640 20 0s, 10 1s, 2 2s, 16.2ms\n",
            "image 117/133 /content/chv-DATASET-1/test/images/ppe_1197_jpg.rf.6dfb0f056d9e036b7149168c3cb67bc2.jpg: 640x640 26 0s, 6 1s, 21 2s, 17.4ms\n",
            "image 118/133 /content/chv-DATASET-1/test/images/ppe_1201_jpg.rf.db3b14e786b52ac575ae1b627a758fee.jpg: 640x640 53 0s, 1 1, 8 2s, 12.7ms\n",
            "image 119/133 /content/chv-DATASET-1/test/images/ppe_1204_jpg.rf.28ea44470fcb18d90a5609670920f349.jpg: 640x640 7 0s, 3 1s, 1 2, 15.4ms\n",
            "image 120/133 /content/chv-DATASET-1/test/images/ppe_1205_jpg.rf.aba4da2bbc5ad07a186ee2e351bd01a7.jpg: 640x640 41 0s, 1 1, 24 2s, 16.6ms\n",
            "image 121/133 /content/chv-DATASET-1/test/images/ppe_1214_jpg.rf.303bf4eeb43ac3adb0b7a1e5992b00fb.jpg: 640x640 7 0s, 1 1, 6 2s, 15.2ms\n",
            "image 122/133 /content/chv-DATASET-1/test/images/ppe_1219_jpg.rf.c8ddfd377131444b8e07d8200185ca79.jpg: 640x640 90 0s, 20 1s, 21 2s, 33.6ms\n",
            "image 123/133 /content/chv-DATASET-1/test/images/ppe_1227_jpg.rf.6b1feb58e3fc945996828537fb55f116.jpg: 640x640 67 0s, 36 1s, 20 2s, 15.7ms\n",
            "image 124/133 /content/chv-DATASET-1/test/images/ppe_1235_jpg.rf.aeb531f39da01c4a37b75caae863f49c.jpg: 640x640 61 0s, 8 2s, 18.6ms\n",
            "image 125/133 /content/chv-DATASET-1/test/images/ppe_1240_jpg.rf.b376a1c9b6e0c30cb7cc38bc7184474b.jpg: 640x640 27 0s, 1 1, 33 2s, 15.9ms\n",
            "image 126/133 /content/chv-DATASET-1/test/images/ppe_1246_jpg.rf.b20439dcba3c6682dd8188a4667e37d5.jpg: 640x640 216 0s, 12 1s, 44 2s, 17.4ms\n",
            "image 127/133 /content/chv-DATASET-1/test/images/ppe_1247_jpg.rf.47f7704f5896039b567034e1c87ceb7a.jpg: 640x640 97 0s, 18 1s, 26 2s, 15.1ms\n",
            "image 128/133 /content/chv-DATASET-1/test/images/ppe_1280_jpg.rf.972ef40c6bc4b7825e917582942f1f9e.jpg: 640x640 8 0s, 7 2s, 17.0ms\n",
            "image 129/133 /content/chv-DATASET-1/test/images/ppe_1293_jpg.rf.23b4968549b7c7a477582e071183fe3b.jpg: 640x640 104 0s, 40 1s, 74 2s, 15.6ms\n",
            "image 130/133 /content/chv-DATASET-1/test/images/ppe_1302_jpg.rf.33565b8de768430ab18036cd73c5e78b.jpg: 640x640 47 0s, 13 1s, 21 2s, 16.0ms\n",
            "image 131/133 /content/chv-DATASET-1/test/images/ppe_1307_jpg.rf.3d9f31b1d7cbd3db2e289bfc9dd47892.jpg: 640x640 49 0s, 2 1s, 7 2s, 16.3ms\n",
            "image 132/133 /content/chv-DATASET-1/test/images/ppe_1316_jpg.rf.623790a4c4201b1e0b840e9402aa789a.jpg: 640x640 56 0s, 18 1s, 38 2s, 16.4ms\n",
            "image 133/133 /content/chv-DATASET-1/test/images/ppe_1322_jpg.rf.d14d9bcf8f31694e23179b188ae3b693.jpg: 640x640 166 0s, 11 1s, 74 2s, 17.2ms\n",
            "Speed: 4.5ms preprocess, 27.8ms inference, 3.1ms postprocess per image at shape (1, 3, 640, 640)\n"
          ]
        },
        {
          "output_type": "display_data",
          "data": {
            "text/plain": [
              "<Figure size 800x600 with 1 Axes>"
            ],
            "image/png": "[encoded data removed]"
          },
          "metadata": {}
        }
      ]
    },
    {
      "cell_type": "code",
      "source": [
        "import cv2\n",
        "import matplotlib.pyplot as plt\n",
        "import numpy as np\n",
        "from ultralytics import YOLO\n",
        "from pathlib import Path\n",
        "\n",
        "# ✅ 모델 로드\n",
        "model = YOLO(\"/content/runs/detect/CHV-dataset/weights/best.pt\")  # YOLOv8 형식 모델\n",
        "\n",
        "# ✅ 클래스 이름 (CHV 데이터셋 기준)\n",
        "class_names = {\n",
        "    0: \"Helmet\",\n",
        "    1: \"Vest\",\n",
        "    2: \"Person\",\n",
        "    3: \"Mask\",\n",
        "    4: \"Gloves\",\n",
        "    5: \"Boots\"\n",
        "}\n",
        "\n",
        "# ✅ 테스트 이미지 경로\n",
        "image_path = \"/content/chv-DATASET-1/test/images/ppe_0001_jpg.rf.09de01d4574daed0b6b70431735c36fb.jpg\"\n",
        "\n",
        "# ✅ 이미지 원본 로드 및 복사본 생성\n",
        "img = cv2.imread(image_path)\n",
        "img_rgb = cv2.cvtColor(img, cv2.COLOR_BGR2RGB)\n",
        "\n",
        "# ✅ 추론 실행 (confidence 낮게 설정해 최대 탐지)\n",
        "results = model.predict(source=image_path, conf=0.5, verbose=False)\n",
        "\n",
        "# ✅ 결과 파싱\n",
        "boxes = results[0].boxes  # 첫 번째 이미지에 대한 결과\n",
        "\n",
        "if boxes is not None and boxes.data.shape[0] > 0:\n",
        "    for box in boxes:\n",
        "        x1, y1, x2, y2 = map(int, box.xyxy[0].tolist())\n",
        "        conf = float(box.conf[0])\n",
        "        cls_id = int(box.cls[0])\n",
        "        label = class_names.get(cls_id, f\"class_{cls_id}\")\n",
        "\n",
        "        # 바운딩 박스 & 라벨 그리기\n",
        "        cv2.rectangle(img_rgb, (x1, y1), (x2, y2), (0, 255, 0), 2)\n",
        "        cv2.putText(img_rgb, f'{label} {conf:.2f}', (x1, y1 - 10),\n",
        "                    cv2.FONT_HERSHEY_SIMPLEX, 0.6, (0, 255, 0), 2)\n",
        "\n",
        "# ✅ 출력\n",
        "plt.figure(figsize=(10, 10))\n",
        "plt.imshow(img_rgb)\n",
        "plt.axis('off')\n",
        "plt.title(\"YOLOv8 Detection - yolo12\")\n",
        "plt.show()\n"
      ],
      "metadata": {
        "id": "iFGJomXE4od_"
      },
      "execution_count": null,
      "outputs": []
    },
    {
      "cell_type": "code",
      "source": [],
      "metadata": {
        "id": "ugba5WGl4-0d"
      },
      "execution_count": null,
      "outputs": []
    }
  ]
}